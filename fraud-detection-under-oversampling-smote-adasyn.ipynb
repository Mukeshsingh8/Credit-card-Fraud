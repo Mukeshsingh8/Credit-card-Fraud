{
 "cells": [
  {
   "cell_type": "markdown",
   "metadata": {
    "papermill": {
     "duration": 0.085396,
     "end_time": "2021-01-20T18:36:37.133033",
     "exception": false,
     "start_time": "2021-01-20T18:36:37.047637",
     "status": "completed"
    },
    "tags": []
   },
   "source": [
    "### Based on the excellent nb from\n",
    "https://www.kaggle.com/dktalaicha/credit-card-fraud-detection-using-smote-adasyn\n",
    "\n",
    "* The data is very skewed - there are only 0.17% fraudulent transactions in the 280k samples - accuracy is not a good metric: any \"model\" predicting ALL are normal transactions will have a 99.83% accuracy.\n",
    "* We need to use Recall, Precision and their prodigy (harmonic mean) - the F1 score. \n",
    "\n",
    "### The main modifications I've done to the original:\n",
    "* Instead of oversampling and then split into train/test = ***data leakage*** ... I've first split into train/test and then oversampled ONLY on train\n",
    "* Focus on F1 (as ROC AUC is not a good metric for imbalanced datasets)\n",
    "* See my previous nb comparing 6 anomaly detection algorithms at https://www.kaggle.com/drscarlat/compare-6-unsupervised-anomaly-detection-models ... that one achieved **F1 = 0.8** on test.\n",
    "\n",
    "* The original compared between Logistic Regression, Decision Trees, Random Forest, etc. I've added a NN to the list. \n",
    "* F1 score on Test using **undersampling, oversampling, SMOTE & ADASYN**:\n",
    "\n",
    "### The best performance is RF SMOTE ... F1 = 0.87 on test**\n",
    "\n",
    "Model\tF1Score_Test\n",
    "* RF SMOTE\t0.867384\n",
    "* RF ADASYN\t0.855072\n",
    "* RF Oversampling\t0.853933\n",
    "* DT Oversampling\t0.747405\n",
    "* DT ADASYN\t0.508393\n",
    "* DT SMOTE\t0.480519\n",
    "* RF Undersampling\t0.151637\n",
    "* Oversampling\t0.121874\n",
    "* LR SMOTE\t0.115830\n",
    "* LR Undersampling\t0.102721\n",
    "...\n",
    "### Best NN = 0.82\n",
    "* NN - over ... F1 = 0.82\n",
    "* NN - smote ... F1 = 0.81\n",
    "* NN - adasyn ... F1 = 0.79\n"
   ]
  },
  {
   "cell_type": "markdown",
   "metadata": {
    "papermill": {
     "duration": 0.083985,
     "end_time": "2021-01-20T18:36:37.300563",
     "exception": false,
     "start_time": "2021-01-20T18:36:37.216578",
     "status": "completed"
    },
    "tags": []
   },
   "source": [
    "# **Credit Card Fraud Detection**\n",
    "**Anonymized credit card transactions labeled as fraudulent or genuine**\n",
    "\n",
    "<img src=\"https://i.imgur.com/lBuWqxx.png\" />"
   ]
  },
  {
   "cell_type": "markdown",
   "metadata": {
    "papermill": {
     "duration": 0.082898,
     "end_time": "2021-01-20T18:36:37.468447",
     "exception": false,
     "start_time": "2021-01-20T18:36:37.385549",
     "status": "completed"
    },
    "tags": []
   },
   "source": [
    "# <a id='introduction'>Introduction</a>\n",
    "\n",
    "\n",
    "The datasets contain transactions that have 492 frauds out of 284,807 transactions. So the dataset is highly unbalanced, the positive class (frauds) account for 0.172% of all transactions. When we try to build the prediction model with this kind of unbalanced dataset, then the model will be more inclined towards to detect new unseen transaction as genuine as our dataset contains about 99% genuine data.\n",
    "\n",
    "As our dataset is highly imbalanced, so we shouldn't use accuracy score as a metric because it will be usually high and misleading, instead use we should focus on f1-score, precision/recall score or confusion matrix."
   ]
  },
  {
   "cell_type": "markdown",
   "metadata": {
    "papermill": {
     "duration": 0.083888,
     "end_time": "2021-01-20T18:36:37.636085",
     "exception": false,
     "start_time": "2021-01-20T18:36:37.552197",
     "status": "completed"
    },
    "tags": []
   },
   "source": [
    "# <a id='dataset'>Load Data</a>"
   ]
  },
  {
   "cell_type": "code",
   "execution_count": 1,
   "metadata": {
    "execution": {
     "iopub.execute_input": "2021-01-20T18:36:37.807259Z",
     "iopub.status.busy": "2021-01-20T18:36:37.806548Z",
     "iopub.status.idle": "2021-01-20T18:36:40.754072Z",
     "shell.execute_reply": "2021-01-20T18:36:40.754552Z"
    },
    "papermill": {
     "duration": 3.03534,
     "end_time": "2021-01-20T18:36:40.754726",
     "exception": false,
     "start_time": "2021-01-20T18:36:37.719386",
     "status": "completed"
    },
    "tags": []
   },
   "outputs": [
    {
     "name": "stdout",
     "output_type": "stream",
     "text": [
      "Numpy version : Numpy 1.18.1\n",
      "Pandas version : Pandas 1.0.3\n",
      "Matplotlib version : Matplotlib 3.2.1\n",
      "Seaborn version : Seaborn 0.10.0\n",
      "SkLearn version : SkLearn 0.23.1\n",
      "Plotly version : plotly 4.8.1\n"
     ]
    }
   ],
   "source": [
    "# Import Libraries\n",
    "import warnings\n",
    "warnings.filterwarnings('ignore')\n",
    "\n",
    "import numpy as np\n",
    "import pandas as pd\n",
    "import matplotlib.pyplot as plt\n",
    "import seaborn as sns\n",
    "# import cufflinks as cf\n",
    "import plotly\n",
    "import datetime\n",
    "import math\n",
    "import matplotlib\n",
    "import sklearn\n",
    "from IPython.display import HTML\n",
    "#from IPython.display import YouTubeVideo\n",
    "\n",
    "import pickle\n",
    "import os\n",
    "\n",
    "import plotly.express as px\n",
    "import plotly.graph_objects as go\n",
    "import plotly.figure_factory as ff\n",
    "from plotly.subplots import make_subplots\n",
    "\n",
    "from sklearn.model_selection import train_test_split\n",
    "\n",
    "# Print versions of libraries\n",
    "print(f\"Numpy version : Numpy {np.__version__}\")\n",
    "print(f\"Pandas version : Pandas {pd.__version__}\")\n",
    "print(f\"Matplotlib version : Matplotlib {matplotlib.__version__}\")\n",
    "print(f\"Seaborn version : Seaborn {sns.__version__}\")\n",
    "print(f\"SkLearn version : SkLearn {sklearn.__version__}\")\n",
    "# print(f\"Cufflinks version : cufflinks {cf.__version__}\")\n",
    "print(f\"Plotly version : plotly {plotly.__version__}\")\n",
    "\n",
    "# Magic Functions for In-Notebook Display\n",
    "%matplotlib inline\n",
    "\n",
    "# Setting seabon style\n",
    "sns.set(style='darkgrid', palette='colorblind')\n",
    "\n",
    "pd.options.display.max_rows = 100\n",
    "pd.options.display.max_columns = 100"
   ]
  },
  {
   "cell_type": "markdown",
   "metadata": {
    "papermill": {
     "duration": 0.085876,
     "end_time": "2021-01-20T18:36:40.925965",
     "exception": false,
     "start_time": "2021-01-20T18:36:40.840089",
     "status": "completed"
    },
    "tags": []
   },
   "source": [
    "## Import the Dataset"
   ]
  },
  {
   "cell_type": "code",
   "execution_count": 2,
   "metadata": {
    "execution": {
     "iopub.execute_input": "2021-01-20T18:36:41.117602Z",
     "iopub.status.busy": "2021-01-20T18:36:41.116861Z",
     "iopub.status.idle": "2021-01-20T18:36:45.435301Z",
     "shell.execute_reply": "2021-01-20T18:36:45.434443Z"
    },
    "papermill": {
     "duration": 4.424679,
     "end_time": "2021-01-20T18:36:45.435476",
     "exception": false,
     "start_time": "2021-01-20T18:36:41.010797",
     "status": "completed"
    },
    "tags": []
   },
   "outputs": [
    {
     "name": "stdout",
     "output_type": "stream",
     "text": [
      "(284807, 31)\n"
     ]
    },
    {
     "data": {
      "text/html": [
       "<div>\n",
       "<style scoped>\n",
       "    .dataframe tbody tr th:only-of-type {\n",
       "        vertical-align: middle;\n",
       "    }\n",
       "\n",
       "    .dataframe tbody tr th {\n",
       "        vertical-align: top;\n",
       "    }\n",
       "\n",
       "    .dataframe thead th {\n",
       "        text-align: right;\n",
       "    }\n",
       "</style>\n",
       "<table border=\"1\" class=\"dataframe\">\n",
       "  <thead>\n",
       "    <tr style=\"text-align: right;\">\n",
       "      <th></th>\n",
       "      <th>time</th>\n",
       "      <th>v1</th>\n",
       "      <th>v2</th>\n",
       "      <th>v3</th>\n",
       "      <th>v4</th>\n",
       "      <th>v5</th>\n",
       "      <th>v6</th>\n",
       "      <th>v7</th>\n",
       "      <th>v8</th>\n",
       "      <th>v9</th>\n",
       "      <th>v10</th>\n",
       "      <th>v11</th>\n",
       "      <th>v12</th>\n",
       "      <th>v13</th>\n",
       "      <th>v14</th>\n",
       "      <th>v15</th>\n",
       "      <th>v16</th>\n",
       "      <th>v17</th>\n",
       "      <th>v18</th>\n",
       "      <th>v19</th>\n",
       "      <th>v20</th>\n",
       "      <th>v21</th>\n",
       "      <th>v22</th>\n",
       "      <th>v23</th>\n",
       "      <th>v24</th>\n",
       "      <th>v25</th>\n",
       "      <th>v26</th>\n",
       "      <th>v27</th>\n",
       "      <th>v28</th>\n",
       "      <th>amount</th>\n",
       "      <th>class</th>\n",
       "    </tr>\n",
       "  </thead>\n",
       "  <tbody>\n",
       "    <tr>\n",
       "      <th>0</th>\n",
       "      <td>0.0</td>\n",
       "      <td>-1.359807</td>\n",
       "      <td>-0.072781</td>\n",
       "      <td>2.536347</td>\n",
       "      <td>1.378155</td>\n",
       "      <td>-0.338321</td>\n",
       "      <td>0.462388</td>\n",
       "      <td>0.239599</td>\n",
       "      <td>0.098698</td>\n",
       "      <td>0.363787</td>\n",
       "      <td>0.090794</td>\n",
       "      <td>-0.551600</td>\n",
       "      <td>-0.617801</td>\n",
       "      <td>-0.991390</td>\n",
       "      <td>-0.311169</td>\n",
       "      <td>1.468177</td>\n",
       "      <td>-0.470401</td>\n",
       "      <td>0.207971</td>\n",
       "      <td>0.025791</td>\n",
       "      <td>0.403993</td>\n",
       "      <td>0.251412</td>\n",
       "      <td>-0.018307</td>\n",
       "      <td>0.277838</td>\n",
       "      <td>-0.110474</td>\n",
       "      <td>0.066928</td>\n",
       "      <td>0.128539</td>\n",
       "      <td>-0.189115</td>\n",
       "      <td>0.133558</td>\n",
       "      <td>-0.021053</td>\n",
       "      <td>149.62</td>\n",
       "      <td>0</td>\n",
       "    </tr>\n",
       "    <tr>\n",
       "      <th>1</th>\n",
       "      <td>0.0</td>\n",
       "      <td>1.191857</td>\n",
       "      <td>0.266151</td>\n",
       "      <td>0.166480</td>\n",
       "      <td>0.448154</td>\n",
       "      <td>0.060018</td>\n",
       "      <td>-0.082361</td>\n",
       "      <td>-0.078803</td>\n",
       "      <td>0.085102</td>\n",
       "      <td>-0.255425</td>\n",
       "      <td>-0.166974</td>\n",
       "      <td>1.612727</td>\n",
       "      <td>1.065235</td>\n",
       "      <td>0.489095</td>\n",
       "      <td>-0.143772</td>\n",
       "      <td>0.635558</td>\n",
       "      <td>0.463917</td>\n",
       "      <td>-0.114805</td>\n",
       "      <td>-0.183361</td>\n",
       "      <td>-0.145783</td>\n",
       "      <td>-0.069083</td>\n",
       "      <td>-0.225775</td>\n",
       "      <td>-0.638672</td>\n",
       "      <td>0.101288</td>\n",
       "      <td>-0.339846</td>\n",
       "      <td>0.167170</td>\n",
       "      <td>0.125895</td>\n",
       "      <td>-0.008983</td>\n",
       "      <td>0.014724</td>\n",
       "      <td>2.69</td>\n",
       "      <td>0</td>\n",
       "    </tr>\n",
       "    <tr>\n",
       "      <th>2</th>\n",
       "      <td>1.0</td>\n",
       "      <td>-1.358354</td>\n",
       "      <td>-1.340163</td>\n",
       "      <td>1.773209</td>\n",
       "      <td>0.379780</td>\n",
       "      <td>-0.503198</td>\n",
       "      <td>1.800499</td>\n",
       "      <td>0.791461</td>\n",
       "      <td>0.247676</td>\n",
       "      <td>-1.514654</td>\n",
       "      <td>0.207643</td>\n",
       "      <td>0.624501</td>\n",
       "      <td>0.066084</td>\n",
       "      <td>0.717293</td>\n",
       "      <td>-0.165946</td>\n",
       "      <td>2.345865</td>\n",
       "      <td>-2.890083</td>\n",
       "      <td>1.109969</td>\n",
       "      <td>-0.121359</td>\n",
       "      <td>-2.261857</td>\n",
       "      <td>0.524980</td>\n",
       "      <td>0.247998</td>\n",
       "      <td>0.771679</td>\n",
       "      <td>0.909412</td>\n",
       "      <td>-0.689281</td>\n",
       "      <td>-0.327642</td>\n",
       "      <td>-0.139097</td>\n",
       "      <td>-0.055353</td>\n",
       "      <td>-0.059752</td>\n",
       "      <td>378.66</td>\n",
       "      <td>0</td>\n",
       "    </tr>\n",
       "    <tr>\n",
       "      <th>3</th>\n",
       "      <td>1.0</td>\n",
       "      <td>-0.966272</td>\n",
       "      <td>-0.185226</td>\n",
       "      <td>1.792993</td>\n",
       "      <td>-0.863291</td>\n",
       "      <td>-0.010309</td>\n",
       "      <td>1.247203</td>\n",
       "      <td>0.237609</td>\n",
       "      <td>0.377436</td>\n",
       "      <td>-1.387024</td>\n",
       "      <td>-0.054952</td>\n",
       "      <td>-0.226487</td>\n",
       "      <td>0.178228</td>\n",
       "      <td>0.507757</td>\n",
       "      <td>-0.287924</td>\n",
       "      <td>-0.631418</td>\n",
       "      <td>-1.059647</td>\n",
       "      <td>-0.684093</td>\n",
       "      <td>1.965775</td>\n",
       "      <td>-1.232622</td>\n",
       "      <td>-0.208038</td>\n",
       "      <td>-0.108300</td>\n",
       "      <td>0.005274</td>\n",
       "      <td>-0.190321</td>\n",
       "      <td>-1.175575</td>\n",
       "      <td>0.647376</td>\n",
       "      <td>-0.221929</td>\n",
       "      <td>0.062723</td>\n",
       "      <td>0.061458</td>\n",
       "      <td>123.50</td>\n",
       "      <td>0</td>\n",
       "    </tr>\n",
       "    <tr>\n",
       "      <th>4</th>\n",
       "      <td>2.0</td>\n",
       "      <td>-1.158233</td>\n",
       "      <td>0.877737</td>\n",
       "      <td>1.548718</td>\n",
       "      <td>0.403034</td>\n",
       "      <td>-0.407193</td>\n",
       "      <td>0.095921</td>\n",
       "      <td>0.592941</td>\n",
       "      <td>-0.270533</td>\n",
       "      <td>0.817739</td>\n",
       "      <td>0.753074</td>\n",
       "      <td>-0.822843</td>\n",
       "      <td>0.538196</td>\n",
       "      <td>1.345852</td>\n",
       "      <td>-1.119670</td>\n",
       "      <td>0.175121</td>\n",
       "      <td>-0.451449</td>\n",
       "      <td>-0.237033</td>\n",
       "      <td>-0.038195</td>\n",
       "      <td>0.803487</td>\n",
       "      <td>0.408542</td>\n",
       "      <td>-0.009431</td>\n",
       "      <td>0.798278</td>\n",
       "      <td>-0.137458</td>\n",
       "      <td>0.141267</td>\n",
       "      <td>-0.206010</td>\n",
       "      <td>0.502292</td>\n",
       "      <td>0.219422</td>\n",
       "      <td>0.215153</td>\n",
       "      <td>69.99</td>\n",
       "      <td>0</td>\n",
       "    </tr>\n",
       "  </tbody>\n",
       "</table>\n",
       "</div>"
      ],
      "text/plain": [
       "   time        v1        v2        v3        v4        v5        v6        v7  \\\n",
       "0   0.0 -1.359807 -0.072781  2.536347  1.378155 -0.338321  0.462388  0.239599   \n",
       "1   0.0  1.191857  0.266151  0.166480  0.448154  0.060018 -0.082361 -0.078803   \n",
       "2   1.0 -1.358354 -1.340163  1.773209  0.379780 -0.503198  1.800499  0.791461   \n",
       "3   1.0 -0.966272 -0.185226  1.792993 -0.863291 -0.010309  1.247203  0.237609   \n",
       "4   2.0 -1.158233  0.877737  1.548718  0.403034 -0.407193  0.095921  0.592941   \n",
       "\n",
       "         v8        v9       v10       v11       v12       v13       v14  \\\n",
       "0  0.098698  0.363787  0.090794 -0.551600 -0.617801 -0.991390 -0.311169   \n",
       "1  0.085102 -0.255425 -0.166974  1.612727  1.065235  0.489095 -0.143772   \n",
       "2  0.247676 -1.514654  0.207643  0.624501  0.066084  0.717293 -0.165946   \n",
       "3  0.377436 -1.387024 -0.054952 -0.226487  0.178228  0.507757 -0.287924   \n",
       "4 -0.270533  0.817739  0.753074 -0.822843  0.538196  1.345852 -1.119670   \n",
       "\n",
       "        v15       v16       v17       v18       v19       v20       v21  \\\n",
       "0  1.468177 -0.470401  0.207971  0.025791  0.403993  0.251412 -0.018307   \n",
       "1  0.635558  0.463917 -0.114805 -0.183361 -0.145783 -0.069083 -0.225775   \n",
       "2  2.345865 -2.890083  1.109969 -0.121359 -2.261857  0.524980  0.247998   \n",
       "3 -0.631418 -1.059647 -0.684093  1.965775 -1.232622 -0.208038 -0.108300   \n",
       "4  0.175121 -0.451449 -0.237033 -0.038195  0.803487  0.408542 -0.009431   \n",
       "\n",
       "        v22       v23       v24       v25       v26       v27       v28  \\\n",
       "0  0.277838 -0.110474  0.066928  0.128539 -0.189115  0.133558 -0.021053   \n",
       "1 -0.638672  0.101288 -0.339846  0.167170  0.125895 -0.008983  0.014724   \n",
       "2  0.771679  0.909412 -0.689281 -0.327642 -0.139097 -0.055353 -0.059752   \n",
       "3  0.005274 -0.190321 -1.175575  0.647376 -0.221929  0.062723  0.061458   \n",
       "4  0.798278 -0.137458  0.141267 -0.206010  0.502292  0.219422  0.215153   \n",
       "\n",
       "   amount  class  \n",
       "0  149.62      0  \n",
       "1    2.69      0  \n",
       "2  378.66      0  \n",
       "3  123.50      0  \n",
       "4   69.99      0  "
      ]
     },
     "execution_count": 2,
     "metadata": {},
     "output_type": "execute_result"
    }
   ],
   "source": [
    "df = pd.read_csv('../input/creditcardfraud/creditcard.csv', encoding='latin_1')\n",
    "df.columns = df.columns.str.lower()\n",
    "print(df.shape)\n",
    "df.head()"
   ]
  },
  {
   "cell_type": "markdown",
   "metadata": {
    "papermill": {
     "duration": 0.086026,
     "end_time": "2021-01-20T18:36:45.609119",
     "exception": false,
     "start_time": "2021-01-20T18:36:45.523093",
     "status": "completed"
    },
    "tags": []
   },
   "source": [
    "## <a id='unique'>Count unique values of label</a>"
   ]
  },
  {
   "cell_type": "code",
   "execution_count": 3,
   "metadata": {
    "execution": {
     "iopub.execute_input": "2021-01-20T18:36:45.800513Z",
     "iopub.status.busy": "2021-01-20T18:36:45.799734Z",
     "iopub.status.idle": "2021-01-20T18:36:45.839616Z",
     "shell.execute_reply": "2021-01-20T18:36:45.839039Z"
    },
    "papermill": {
     "duration": 0.142336,
     "end_time": "2021-01-20T18:36:45.839736",
     "exception": false,
     "start_time": "2021-01-20T18:36:45.697400",
     "status": "completed"
    },
    "tags": []
   },
   "outputs": [
    {
     "name": "stdout",
     "output_type": "stream",
     "text": [
      "0    284315\n",
      "1       492\n",
      "Name: class, dtype: int64\n",
      "\n",
      "\n",
      "0    0.998273\n",
      "1    0.001727\n",
      "Name: class, dtype: float64\n"
     ]
    }
   ],
   "source": [
    "print(df['class'].value_counts())\n",
    "print('\\n')\n",
    "print(df['class'].value_counts(normalize=True))"
   ]
  },
  {
   "cell_type": "code",
   "execution_count": 4,
   "metadata": {
    "execution": {
     "iopub.execute_input": "2021-01-20T18:36:46.024378Z",
     "iopub.status.busy": "2021-01-20T18:36:46.023342Z",
     "iopub.status.idle": "2021-01-20T18:36:46.215723Z",
     "shell.execute_reply": "2021-01-20T18:36:46.215148Z"
    },
    "papermill": {
     "duration": 0.288029,
     "end_time": "2021-01-20T18:36:46.215840",
     "exception": false,
     "start_time": "2021-01-20T18:36:45.927811",
     "status": "completed"
    },
    "tags": []
   },
   "outputs": [
    {
     "data": {
      "image/png": "[encoded data removed]",
      "text/plain": [
       "<Figure size 432x432 with 1 Axes>"
      ]
     },
     "metadata": {},
     "output_type": "display_data"
    }
   ],
   "source": [
    "df[\"class\"].value_counts().plot(kind = 'pie',explode=[0, 0.1],figsize=(6, 6),autopct='%1.1f%%',shadow=True)\n",
    "plt.title(\"Fraudulent and Non-Fraudulent Distribution\",fontsize=20)\n",
    "plt.legend([\"Genuine\",\"Fraud\"])\n",
    "plt.show()"
   ]
  },
  {
   "cell_type": "markdown",
   "metadata": {
    "papermill": {
     "duration": 0.087318,
     "end_time": "2021-01-20T18:36:46.391421",
     "exception": false,
     "start_time": "2021-01-20T18:36:46.304103",
     "status": "completed"
    },
    "tags": []
   },
   "source": [
    "## <a id='null'>Finding null values</a>"
   ]
  },
  {
   "cell_type": "code",
   "execution_count": 5,
   "metadata": {
    "execution": {
     "iopub.execute_input": "2021-01-20T18:36:46.576763Z",
     "iopub.status.busy": "2021-01-20T18:36:46.576096Z",
     "iopub.status.idle": "2021-01-20T18:36:46.602867Z",
     "shell.execute_reply": "2021-01-20T18:36:46.602334Z"
    },
    "papermill": {
     "duration": 0.120636,
     "end_time": "2021-01-20T18:36:46.603005",
     "exception": false,
     "start_time": "2021-01-20T18:36:46.482369",
     "status": "completed"
    },
    "tags": []
   },
   "outputs": [
    {
     "data": {
      "text/plain": [
       "0"
      ]
     },
     "execution_count": 5,
     "metadata": {},
     "output_type": "execute_result"
    }
   ],
   "source": [
    "# Dealing with missing data\n",
    "df.isnull().sum().max()"
   ]
  },
  {
   "cell_type": "code",
   "execution_count": 6,
   "metadata": {
    "execution": {
     "iopub.execute_input": "2021-01-20T18:36:46.796067Z",
     "iopub.status.busy": "2021-01-20T18:36:46.795380Z",
     "iopub.status.idle": "2021-01-20T18:36:47.763159Z",
     "shell.execute_reply": "2021-01-20T18:36:47.763732Z"
    },
    "papermill": {
     "duration": 1.071544,
     "end_time": "2021-01-20T18:36:47.763880",
     "exception": false,
     "start_time": "2021-01-20T18:36:46.692336",
     "status": "completed"
    },
    "tags": []
   },
   "outputs": [
    {
     "data": {
      "image/png": "[encoded data removed]",
      "text/plain": [
       "<Figure size 1152x288 with 2 Axes>"
      ]
     },
     "metadata": {},
     "output_type": "display_data"
    }
   ],
   "source": [
    "fig, axs = plt.subplots(ncols=2,figsize=(16,4))\n",
    "sns.distplot(df[df['class'] == 1]['amount'], bins=100, ax=axs[0])\n",
    "axs[0].set_title(\"Distribution of Fraud Transactions\")\n",
    "\n",
    "sns.distplot(df[df['class'] == 0]['amount'], bins=100, ax=axs[1])\n",
    "axs[1].set_title(\"Distribution of Genuine Transactions\")\n",
    "\n",
    "plt.show()"
   ]
  },
  {
   "cell_type": "markdown",
   "metadata": {
    "papermill": {
     "duration": 0.090592,
     "end_time": "2021-01-20T18:36:47.944242",
     "exception": false,
     "start_time": "2021-01-20T18:36:47.853650",
     "status": "completed"
    },
    "tags": []
   },
   "source": [
    "**Highlights**\n",
    "\n",
    "This graph shows that most of the fraud transaction amount is less than 500 dollars. This also shows that the fraud transaction is very high for an amount near to 0, let's find that amount."
   ]
  },
  {
   "cell_type": "code",
   "execution_count": 7,
   "metadata": {
    "execution": {
     "iopub.execute_input": "2021-01-20T18:36:48.153395Z",
     "iopub.status.busy": "2021-01-20T18:36:48.152429Z",
     "iopub.status.idle": "2021-01-20T18:36:48.171843Z",
     "shell.execute_reply": "2021-01-20T18:36:48.170973Z"
    },
    "papermill": {
     "duration": 0.137897,
     "end_time": "2021-01-20T18:36:48.172022",
     "exception": false,
     "start_time": "2021-01-20T18:36:48.034125",
     "status": "completed"
    },
    "tags": []
   },
   "outputs": [
    {
     "name": "stdout",
     "output_type": "stream",
     "text": [
      "Fraud Transaction distribution : \n",
      " 1.00     113\n",
      "0.00      27\n",
      "99.99     27\n",
      "0.76      17\n",
      "0.77      10\n",
      "Name: amount, dtype: int64\n",
      "\n",
      "\n",
      "Maximum amount of fraud transaction -  2125.87\n",
      "Minimum amount of fraud transaction -  0.0\n"
     ]
    }
   ],
   "source": [
    "print(\"Fraud Transaction distribution : \\n\",df[(df['class'] == 1)]['amount'].value_counts().head())\n",
    "print(\"\\n\")\n",
    "print(\"Maximum amount of fraud transaction - \",df[(df['class'] == 1)]['amount'].max())\n",
    "print(\"Minimum amount of fraud transaction - \",df[(df['class'] == 1)]['amount'].min())"
   ]
  },
  {
   "cell_type": "markdown",
   "metadata": {
    "papermill": {
     "duration": 0.090526,
     "end_time": "2021-01-20T18:36:48.375851",
     "exception": false,
     "start_time": "2021-01-20T18:36:48.285325",
     "status": "completed"
    },
    "tags": []
   },
   "source": [
    "**Highlights**\n",
    "\n",
    "* There are 113 fraud transactions for just one dollor and 27 fraud transaction for $99.99. And higest fraud transaction amount was 2125.87 and lowest was just 0.00.\n",
    "* There are 27 fraud transaction for zero amount. Zero Authorization is an account verification method for credit cards that is used to verify a cardholders information without charging the consumer. Instead, an amount of zero is charged on the card to store the credit card information in the form of a token and to determine whether the card is legitimate or not. After creating the token, is then possible to charge the consumer with a new transaction with either Tokenization or Recurring Payments\n",
    "\n",
    "Ref : https://docs.multisafepay.com/tools/zero-authorization/what-is-zero-authorization/"
   ]
  },
  {
   "cell_type": "code",
   "execution_count": 8,
   "metadata": {
    "execution": {
     "iopub.execute_input": "2021-01-20T18:36:48.562849Z",
     "iopub.status.busy": "2021-01-20T18:36:48.562131Z",
     "iopub.status.idle": "2021-01-20T18:36:48.686343Z",
     "shell.execute_reply": "2021-01-20T18:36:48.685283Z"
    },
    "papermill": {
     "duration": 0.221397,
     "end_time": "2021-01-20T18:36:48.686537",
     "exception": false,
     "start_time": "2021-01-20T18:36:48.465140",
     "status": "completed"
    },
    "tags": []
   },
   "outputs": [
    {
     "name": "stdout",
     "output_type": "stream",
     "text": [
      "Genuine Transaction distribution : \n",
      " 1.00     13575\n",
      "1.98      6044\n",
      "0.89      4872\n",
      "9.99      4746\n",
      "15.00     3280\n",
      "Name: amount, dtype: int64\n",
      "\n",
      "\n",
      "Maximum amount of Genuine transaction -  25691.16\n",
      "Minimum amount of Genuine transaction -  0.0\n"
     ]
    }
   ],
   "source": [
    "print(\"Genuine Transaction distribution : \\n\",df[(df['class'] == 0)]['amount'].value_counts().head())\n",
    "print(\"\\n\")\n",
    "print(\"Maximum amount of Genuine transaction - \",df[(df['class'] == 0)]['amount'].max())\n",
    "print(\"Minimum amount of Genuine transaction - \",df[(df['class'] == 0)]['amount'].min())"
   ]
  },
  {
   "cell_type": "markdown",
   "metadata": {
    "papermill": {
     "duration": 0.136692,
     "end_time": "2021-01-20T18:36:48.914946",
     "exception": false,
     "start_time": "2021-01-20T18:36:48.778254",
     "status": "completed"
    },
    "tags": []
   },
   "source": [
    "## <a id='timedist'>Distribution of Time</a>"
   ]
  },
  {
   "cell_type": "code",
   "execution_count": 9,
   "metadata": {
    "execution": {
     "iopub.execute_input": "2021-01-20T18:36:49.301098Z",
     "iopub.status.busy": "2021-01-20T18:36:49.300301Z",
     "iopub.status.idle": "2021-01-20T18:36:49.801829Z",
     "shell.execute_reply": "2021-01-20T18:36:49.801271Z"
    },
    "papermill": {
     "duration": 0.795317,
     "end_time": "2021-01-20T18:36:49.801969",
     "exception": false,
     "start_time": "2021-01-20T18:36:49.006652",
     "status": "completed"
    },
    "tags": []
   },
   "outputs": [
    {
     "data": {
      "image/png": "[encoded data removed]",
      "text/plain": [
       "<Figure size 576x432 with 1 Axes>"
      ]
     },
     "metadata": {},
     "output_type": "display_data"
    }
   ],
   "source": [
    "plt.figure(figsize=(8,6))\n",
    "plt.title('Distribution of Transaction Time', fontsize=14)\n",
    "sns.distplot(df['time'], bins=100)\n",
    "plt.show()"
   ]
  },
  {
   "cell_type": "markdown",
   "metadata": {
    "papermill": {
     "duration": 0.092862,
     "end_time": "2021-01-20T18:36:49.988633",
     "exception": false,
     "start_time": "2021-01-20T18:36:49.895771",
     "status": "completed"
    },
    "tags": []
   },
   "source": [
    "**Highlights**\n",
    "\n",
    "By seeing the graph, we can see there are two peaks in the graph and even there are some local peaks. We can think of these as the time of the day like the peak is the day time when most people do the transactions and the depth is the night time when most people just sleeps. We already know that data contains a credit card transaction for only two days, so there are two peaks for day time and one depth for one night time."
   ]
  },
  {
   "cell_type": "markdown",
   "metadata": {
    "papermill": {
     "duration": 0.091804,
     "end_time": "2021-01-20T18:36:50.173874",
     "exception": false,
     "start_time": "2021-01-20T18:36:50.082070",
     "status": "completed"
    },
    "tags": []
   },
   "source": [
    "### Distribution of time w.r.t. transactions types"
   ]
  },
  {
   "cell_type": "code",
   "execution_count": 10,
   "metadata": {
    "execution": {
     "iopub.execute_input": "2021-01-20T18:36:50.376986Z",
     "iopub.status.busy": "2021-01-20T18:36:50.375844Z",
     "iopub.status.idle": "2021-01-20T18:36:51.335586Z",
     "shell.execute_reply": "2021-01-20T18:36:51.335064Z"
    },
    "papermill": {
     "duration": 1.06708,
     "end_time": "2021-01-20T18:36:51.335719",
     "exception": false,
     "start_time": "2021-01-20T18:36:50.268639",
     "status": "completed"
    },
    "tags": []
   },
   "outputs": [
    {
     "data": {
      "image/png": "[encoded data removed]",
      "text/plain": [
       "<Figure size 1152x288 with 2 Axes>"
      ]
     },
     "metadata": {},
     "output_type": "display_data"
    }
   ],
   "source": [
    "fig, axs = plt.subplots(ncols=2, figsize=(16,4))\n",
    "\n",
    "sns.distplot(df[(df['class'] == 1)]['time'], bins=100, color='red', ax=axs[0])\n",
    "axs[0].set_title(\"Distribution of Fraud Transactions\")\n",
    "\n",
    "sns.distplot(df[(df['class'] == 0)]['time'], bins=100, color='green', ax=axs[1])\n",
    "axs[1].set_title(\"Distribution of Genuine Transactions\")\n",
    "\n",
    "plt.show()"
   ]
  },
  {
   "cell_type": "markdown",
   "metadata": {
    "papermill": {
     "duration": 0.095662,
     "end_time": "2021-01-20T18:36:51.524953",
     "exception": false,
     "start_time": "2021-01-20T18:36:51.429291",
     "status": "completed"
    },
    "tags": []
   },
   "source": [
    "## <a id='corr'>Correlation Among Explanatory Variables</a>\n",
    "\n",
    "Having **too many features** in a model is not always a good thing because it might cause overfitting and worse results when we want to predict values for a new dataset. Thus, **if a feature does not improve your model a lot, not adding it may be a better choice.**\n",
    "\n",
    "Another important thing is **correlation. If there is a very high correlation between two features, keeping both of them is not a good idea most of the time not to cause overfitting.** However, this does not mean that you must remove one of the highly correlated features. \n",
    "\n",
    "Let's find out top 10 features which are highly correlated with a price."
   ]
  },
  {
   "cell_type": "code",
   "execution_count": 11,
   "metadata": {
    "execution": {
     "iopub.execute_input": "2021-01-20T18:36:51.732057Z",
     "iopub.status.busy": "2021-01-20T18:36:51.731357Z",
     "iopub.status.idle": "2021-01-20T18:36:51.750789Z",
     "shell.execute_reply": "2021-01-20T18:36:51.750242Z"
    },
    "papermill": {
     "duration": 0.128921,
     "end_time": "2021-01-20T18:36:51.750940",
     "exception": false,
     "start_time": "2021-01-20T18:36:51.622019",
     "status": "completed"
    },
    "tags": []
   },
   "outputs": [
    {
     "data": {
      "text/plain": [
       "class     1.000000\n",
       "amount    0.005632\n",
       "time     -0.012323\n",
       "Name: class, dtype: float64"
      ]
     },
     "execution_count": 11,
     "metadata": {},
     "output_type": "execute_result"
    }
   ],
   "source": [
    "df[['time','amount','class']].corr()['class'].sort_values(ascending=False).head(10)"
   ]
  },
  {
   "cell_type": "code",
   "execution_count": 12,
   "metadata": {
    "execution": {
     "iopub.execute_input": "2021-01-20T18:36:51.946977Z",
     "iopub.status.busy": "2021-01-20T18:36:51.946263Z",
     "iopub.status.idle": "2021-01-20T18:36:52.200750Z",
     "shell.execute_reply": "2021-01-20T18:36:52.200252Z"
    },
    "papermill": {
     "duration": 0.353998,
     "end_time": "2021-01-20T18:36:52.200863",
     "exception": false,
     "start_time": "2021-01-20T18:36:51.846865",
     "status": "completed"
    },
    "tags": []
   },
   "outputs": [
    {
     "data": {
      "image/png": "[encoded data removed]",
      "text/plain": [
       "<Figure size 432x288 with 2 Axes>"
      ]
     },
     "metadata": {},
     "output_type": "display_data"
    }
   ],
   "source": [
    "plt.title('Pearson Correlation Matrix')\n",
    "sns.heatmap(df[['time', 'amount','class']].corr(),linewidths=0.25,vmax=0.7,square=True,cmap=\"winter\",\n",
    "            linecolor='w',annot=True);"
   ]
  },
  {
   "cell_type": "markdown",
   "metadata": {
    "papermill": {
     "duration": 0.110352,
     "end_time": "2021-01-20T18:36:52.411055",
     "exception": false,
     "start_time": "2021-01-20T18:36:52.300703",
     "status": "completed"
    },
    "tags": []
   },
   "source": [
    "**Highlights**\n",
    "\n",
    "It looks like that no features are highly correlated with any other features."
   ]
  },
  {
   "cell_type": "markdown",
   "metadata": {
    "papermill": {
     "duration": 0.114437,
     "end_time": "2021-01-20T18:36:52.632668",
     "exception": false,
     "start_time": "2021-01-20T18:36:52.518231",
     "status": "completed"
    },
    "tags": []
   },
   "source": [
    "## Lets check the data again after cleaning"
   ]
  },
  {
   "cell_type": "code",
   "execution_count": 13,
   "metadata": {
    "execution": {
     "iopub.execute_input": "2021-01-20T18:36:52.834827Z",
     "iopub.status.busy": "2021-01-20T18:36:52.834157Z",
     "iopub.status.idle": "2021-01-20T18:36:52.838659Z",
     "shell.execute_reply": "2021-01-20T18:36:52.838148Z"
    },
    "papermill": {
     "duration": 0.106806,
     "end_time": "2021-01-20T18:36:52.838777",
     "exception": false,
     "start_time": "2021-01-20T18:36:52.731971",
     "status": "completed"
    },
    "tags": []
   },
   "outputs": [
    {
     "data": {
      "text/plain": [
       "(284807, 31)"
      ]
     },
     "execution_count": 13,
     "metadata": {},
     "output_type": "execute_result"
    }
   ],
   "source": [
    "df.shape"
   ]
  },
  {
   "cell_type": "code",
   "execution_count": 14,
   "metadata": {
    "execution": {
     "iopub.execute_input": "2021-01-20T18:36:53.039345Z",
     "iopub.status.busy": "2021-01-20T18:36:53.038551Z",
     "iopub.status.idle": "2021-01-20T18:36:53.053655Z",
     "shell.execute_reply": "2021-01-20T18:36:53.052629Z"
    },
    "papermill": {
     "duration": 0.118666,
     "end_time": "2021-01-20T18:36:53.053824",
     "exception": false,
     "start_time": "2021-01-20T18:36:52.935158",
     "status": "completed"
    },
    "tags": []
   },
   "outputs": [
    {
     "data": {
      "text/plain": [
       "0    0.998273\n",
       "1    0.001727\n",
       "Name: class, dtype: float64"
      ]
     },
     "execution_count": 14,
     "metadata": {},
     "output_type": "execute_result"
    }
   ],
   "source": [
    "df['class'].value_counts(normalize=True)"
   ]
  },
  {
   "cell_type": "markdown",
   "metadata": {
    "papermill": {
     "duration": 0.097042,
     "end_time": "2021-01-20T18:36:53.247112",
     "exception": false,
     "start_time": "2021-01-20T18:36:53.150070",
     "status": "completed"
    },
    "tags": []
   },
   "source": [
    "# <a id='feateng'>Feature Engineering</a> "
   ]
  },
  {
   "cell_type": "code",
   "execution_count": 15,
   "metadata": {
    "execution": {
     "iopub.execute_input": "2021-01-20T18:36:53.447570Z",
     "iopub.status.busy": "2021-01-20T18:36:53.444057Z",
     "iopub.status.idle": "2021-01-20T18:37:01.396176Z",
     "shell.execute_reply": "2021-01-20T18:37:01.395539Z"
    },
    "papermill": {
     "duration": 8.05364,
     "end_time": "2021-01-20T18:37:01.396300",
     "exception": false,
     "start_time": "2021-01-20T18:36:53.342660",
     "status": "completed"
    },
    "tags": []
   },
   "outputs": [
    {
     "data": {
      "image/png": "[encoded data removed]",
      "text/plain": [
       "<Figure size 1800x1800 with 36 Axes>"
      ]
     },
     "metadata": {},
     "output_type": "display_data"
    }
   ],
   "source": [
    "df.hist(figsize = (25,25))\n",
    "plt.show()"
   ]
  },
  {
   "cell_type": "markdown",
   "metadata": {
    "papermill": {
     "duration": 0.098189,
     "end_time": "2021-01-20T18:37:01.593795",
     "exception": false,
     "start_time": "2021-01-20T18:37:01.495606",
     "status": "completed"
    },
    "tags": []
   },
   "source": [
    "## Reset the index"
   ]
  },
  {
   "cell_type": "code",
   "execution_count": 16,
   "metadata": {
    "execution": {
     "iopub.execute_input": "2021-01-20T18:37:01.797469Z",
     "iopub.status.busy": "2021-01-20T18:37:01.796772Z",
     "iopub.status.idle": "2021-01-20T18:37:01.799967Z",
     "shell.execute_reply": "2021-01-20T18:37:01.799436Z"
    },
    "papermill": {
     "duration": 0.107118,
     "end_time": "2021-01-20T18:37:01.800092",
     "exception": false,
     "start_time": "2021-01-20T18:37:01.692974",
     "status": "completed"
    },
    "tags": []
   },
   "outputs": [],
   "source": [
    "df.reset_index(inplace = True , drop = True)"
   ]
  },
  {
   "cell_type": "markdown",
   "metadata": {
    "papermill": {
     "duration": 0.099423,
     "end_time": "2021-01-20T18:37:01.999170",
     "exception": false,
     "start_time": "2021-01-20T18:37:01.899747",
     "status": "completed"
    },
    "tags": []
   },
   "source": [
    "# <a id='scaleamount'>Scale Amount Feature</a>\n",
    "\n",
    "* It is a good idea to scale the data so that the column(feature) with lesser significance might not end up dominating the objective function due to its larger range. like a column like age has a range between 0 to 80, but a column like a salary has ranged from thousands to lakhs, hence, salary column will dominate to predict the outcome even if it may not be important.\n",
    "* In addition, features having different unit should also be scaled thus providing each feature equal initial weightage. Like Age in years and Sales in Dollars must be brought down to a common scale before feeding it to the ML algorithm\n",
    "* This will result in a better prediction model.\n",
    "\n",
    "\n",
    "\n",
    "**PCA Transformation**: The description of the data says that all the features went through a PCA transformation (Dimensionality Reduction technique) except for time and amount.\n",
    "\n",
    "**Scaling**: Keep in mind that in order to implement a PCA transformation features need to be previously scaled."
   ]
  },
  {
   "cell_type": "markdown",
   "metadata": {
    "papermill": {
     "duration": 0.09885,
     "end_time": "2021-01-20T18:37:02.197326",
     "exception": false,
     "start_time": "2021-01-20T18:37:02.098476",
     "status": "completed"
    },
    "tags": []
   },
   "source": [
    "## <a id='scalelog'>1. Scale amount by Log</a>\n",
    "\n",
    "**Scaling using the log**: There are two main reasons to use logarithmic scales in charts and graphs. \n",
    "* The first is to respond to skewness towards large values; i.e., cases in which one or a few points are much larger than the bulk of the data. \n",
    "* The second is to show per cent change or multiplicative factors. "
   ]
  },
  {
   "cell_type": "code",
   "execution_count": 17,
   "metadata": {
    "execution": {
     "iopub.execute_input": "2021-01-20T18:37:02.402979Z",
     "iopub.status.busy": "2021-01-20T18:37:02.402154Z",
     "iopub.status.idle": "2021-01-20T18:37:02.415483Z",
     "shell.execute_reply": "2021-01-20T18:37:02.414702Z"
    },
    "papermill": {
     "duration": 0.119001,
     "end_time": "2021-01-20T18:37:02.415608",
     "exception": false,
     "start_time": "2021-01-20T18:37:02.296607",
     "status": "completed"
    },
    "tags": []
   },
   "outputs": [],
   "source": [
    "# Scale amount by log\n",
    "df['amount_log'] = np.log(df.amount + 0.01)"
   ]
  },
  {
   "cell_type": "markdown",
   "metadata": {
    "papermill": {
     "duration": 0.099165,
     "end_time": "2021-01-20T18:37:02.614990",
     "exception": false,
     "start_time": "2021-01-20T18:37:02.515825",
     "status": "completed"
    },
    "tags": []
   },
   "source": [
    "## <a id='scalestand'>2. Scale  amount by Standardization</a>\n",
    "\n",
    "Standardization is another scaling technique where the values are centered around the mean with a unit standard deviation. This means that the mean of the attribute becomes zero and the resultant distribution has a unit standard deviation.\n",
    "\n",
    "$$ z = \\frac{x_i - \\mu}{\\sigma} $$"
   ]
  },
  {
   "cell_type": "code",
   "execution_count": 18,
   "metadata": {
    "execution": {
     "iopub.execute_input": "2021-01-20T18:37:02.822597Z",
     "iopub.status.busy": "2021-01-20T18:37:02.821246Z",
     "iopub.status.idle": "2021-01-20T18:37:02.830670Z",
     "shell.execute_reply": "2021-01-20T18:37:02.830080Z"
    },
    "papermill": {
     "duration": 0.115432,
     "end_time": "2021-01-20T18:37:02.830795",
     "exception": false,
     "start_time": "2021-01-20T18:37:02.715363",
     "status": "completed"
    },
    "tags": []
   },
   "outputs": [],
   "source": [
    "from sklearn.preprocessing import StandardScaler # importing a class from a module of a library\n",
    "\n",
    "ss = StandardScaler() # object of the class StandardScaler ()\n",
    "df['amount_scaled'] = ss.fit_transform(df['amount'].values.reshape(-1,1))"
   ]
  },
  {
   "cell_type": "markdown",
   "metadata": {
    "papermill": {
     "duration": 0.1003,
     "end_time": "2021-01-20T18:37:03.031027",
     "exception": false,
     "start_time": "2021-01-20T18:37:02.930727",
     "status": "completed"
    },
    "tags": []
   },
   "source": [
    "## <a id='scalenorm'>3. Scale  amount by Normalization</a>\n",
    "\n",
    "Normalization is a scaling technique in which values are shifted and rescaled so that they end up ranging between 0 and 1. It is also known as Min-Max scaling.\n",
    "\n",
    "$$ x_{norm} = \\frac{x_i - x_{min}}{x_{max}-x_{min}} $$"
   ]
  },
  {
   "cell_type": "code",
   "execution_count": 19,
   "metadata": {
    "execution": {
     "iopub.execute_input": "2021-01-20T18:37:03.235527Z",
     "iopub.status.busy": "2021-01-20T18:37:03.233996Z",
     "iopub.status.idle": "2021-01-20T18:37:03.240190Z",
     "shell.execute_reply": "2021-01-20T18:37:03.240688Z"
    },
    "papermill": {
     "duration": 0.110857,
     "end_time": "2021-01-20T18:37:03.240835",
     "exception": false,
     "start_time": "2021-01-20T18:37:03.129978",
     "status": "completed"
    },
    "tags": []
   },
   "outputs": [],
   "source": [
    "from sklearn.preprocessing import MinMaxScaler\n",
    "\n",
    "mm = MinMaxScaler() # object of the class StandardScaler ()\n",
    "df['amount_minmax'] = mm.fit_transform(df['amount'].values.reshape(-1,1))"
   ]
  },
  {
   "cell_type": "code",
   "execution_count": 20,
   "metadata": {
    "execution": {
     "iopub.execute_input": "2021-01-20T18:37:03.448944Z",
     "iopub.status.busy": "2021-01-20T18:37:03.446850Z",
     "iopub.status.idle": "2021-01-20T18:37:04.307068Z",
     "shell.execute_reply": "2021-01-20T18:37:04.307630Z"
    },
    "papermill": {
     "duration": 0.968381,
     "end_time": "2021-01-20T18:37:04.307791",
     "exception": false,
     "start_time": "2021-01-20T18:37:03.339410",
     "status": "completed"
    },
    "tags": []
   },
   "outputs": [
    {
     "data": {
      "image/png": "[encoded data removed]",
      "text/plain": [
       "<Figure size 1152x288 with 4 Axes>"
      ]
     },
     "metadata": {},
     "output_type": "display_data"
    }
   ],
   "source": [
    "#Feature engineering to a better visualization of the values\n",
    "\n",
    "# Let's explore the Amount by Class and see the distribuition of Amount transactions\n",
    "fig , axs = plt.subplots(nrows = 1 , ncols = 4 , figsize = (16,4))\n",
    "\n",
    "sns.boxplot(x =\"class\",y=\"amount\",data=df, ax = axs[0])\n",
    "axs[0].set_title(\"Class vs Amount\")\n",
    "\n",
    "sns.boxplot(x =\"class\",y=\"amount_log\",data=df, ax = axs[1])\n",
    "axs[1].set_title(\"Class vs Log Amount\")\n",
    "\n",
    "sns.boxplot(x =\"class\",y=\"amount_scaled\",data=df, ax = axs[2])\n",
    "axs[2].set_title(\"Class vs Scaled Amount\")\n",
    "\n",
    "sns.boxplot(x =\"class\",y=\"amount_minmax\",data=df, ax = axs[3])\n",
    "axs[3].set_title(\"Class vs Min Max Amount\")\n",
    "\n",
    "# fig.suptitle('Amount by Class', fontsize=20)\n",
    "plt.show()"
   ]
  },
  {
   "cell_type": "markdown",
   "metadata": {
    "papermill": {
     "duration": 0.101628,
     "end_time": "2021-01-20T18:37:04.511749",
     "exception": false,
     "start_time": "2021-01-20T18:37:04.410121",
     "status": "completed"
    },
    "tags": []
   },
   "source": [
    "**Hightlights**\n",
    "\n",
    "* We can see a slight difference in the log amount of our two Classes. \n",
    "* The IQR of fraudulent transactions are higher than normal transactions, but normal transactions have the highest values.\n",
    "* **By seeing the above three graphs, I think scaling the amount by log will best suit for our model.**"
   ]
  },
  {
   "cell_type": "markdown",
   "metadata": {
    "papermill": {
     "duration": 0.102359,
     "end_time": "2021-01-20T18:37:04.715839",
     "exception": false,
     "start_time": "2021-01-20T18:37:04.613480",
     "status": "completed"
    },
    "tags": []
   },
   "source": [
    "# <a id='pickle'>Saving preprossed data as serialized files</a>\n",
    "* To deploy the predictive models built we save them along with the required data files as serialized file objects\n",
    "* We save cleaned and processed input data, tuned predictive models as files so that they can later be re-used/shared"
   ]
  },
  {
   "cell_type": "code",
   "execution_count": 21,
   "metadata": {
    "execution": {
     "iopub.execute_input": "2021-01-20T18:37:04.981755Z",
     "iopub.status.busy": "2021-01-20T18:37:04.925795Z",
     "iopub.status.idle": "2021-01-20T18:37:05.061072Z",
     "shell.execute_reply": "2021-01-20T18:37:05.060382Z"
    },
    "papermill": {
     "duration": 0.243952,
     "end_time": "2021-01-20T18:37:05.061224",
     "exception": false,
     "start_time": "2021-01-20T18:37:04.817272",
     "status": "completed"
    },
    "tags": []
   },
   "outputs": [
    {
     "name": "stdout",
     "output_type": "stream",
     "text": [
      "pickle file is saved at Location: /kaggle/working\n"
     ]
    }
   ],
   "source": [
    "CreditCardFraudDataCleaned = df\n",
    "\n",
    "# Saving the Python objects as serialized files can be done using pickle library\n",
    "# Here let us save the Final Data set after all the transformations as a file\n",
    "with open('CreditCardFraudDataCleaned.pkl', 'wb') as fileWriteStream:\n",
    "    pickle.dump(CreditCardFraudDataCleaned, fileWriteStream)\n",
    "    # Don't forget to close the filestream!\n",
    "    fileWriteStream.close()\n",
    "    \n",
    "print('pickle file is saved at Location:',os.getcwd())"
   ]
  },
  {
   "cell_type": "markdown",
   "metadata": {
    "papermill": {
     "duration": 0.102387,
     "end_time": "2021-01-20T18:37:05.268032",
     "exception": false,
     "start_time": "2021-01-20T18:37:05.165645",
     "status": "completed"
    },
    "tags": []
   },
   "source": [
    "### Load preprocessed data"
   ]
  },
  {
   "cell_type": "code",
   "execution_count": 22,
   "metadata": {
    "execution": {
     "iopub.execute_input": "2021-01-20T18:37:05.476758Z",
     "iopub.status.busy": "2021-01-20T18:37:05.476034Z",
     "iopub.status.idle": "2021-01-20T18:37:05.616217Z",
     "shell.execute_reply": "2021-01-20T18:37:05.615541Z"
    },
    "papermill": {
     "duration": 0.247212,
     "end_time": "2021-01-20T18:37:05.616333",
     "exception": false,
     "start_time": "2021-01-20T18:37:05.369121",
     "status": "completed"
    },
    "tags": []
   },
   "outputs": [
    {
     "data": {
      "text/html": [
       "<div>\n",
       "<style scoped>\n",
       "    .dataframe tbody tr th:only-of-type {\n",
       "        vertical-align: middle;\n",
       "    }\n",
       "\n",
       "    .dataframe tbody tr th {\n",
       "        vertical-align: top;\n",
       "    }\n",
       "\n",
       "    .dataframe thead th {\n",
       "        text-align: right;\n",
       "    }\n",
       "</style>\n",
       "<table border=\"1\" class=\"dataframe\">\n",
       "  <thead>\n",
       "    <tr style=\"text-align: right;\">\n",
       "      <th></th>\n",
       "      <th>time</th>\n",
       "      <th>v1</th>\n",
       "      <th>v2</th>\n",
       "      <th>v3</th>\n",
       "      <th>v4</th>\n",
       "      <th>v5</th>\n",
       "      <th>v6</th>\n",
       "      <th>v7</th>\n",
       "      <th>v8</th>\n",
       "      <th>v9</th>\n",
       "      <th>v10</th>\n",
       "      <th>v11</th>\n",
       "      <th>v12</th>\n",
       "      <th>v13</th>\n",
       "      <th>v14</th>\n",
       "      <th>v15</th>\n",
       "      <th>v16</th>\n",
       "      <th>v17</th>\n",
       "      <th>v18</th>\n",
       "      <th>v19</th>\n",
       "      <th>v20</th>\n",
       "      <th>v21</th>\n",
       "      <th>v22</th>\n",
       "      <th>v23</th>\n",
       "      <th>v24</th>\n",
       "      <th>v25</th>\n",
       "      <th>v26</th>\n",
       "      <th>v27</th>\n",
       "      <th>v28</th>\n",
       "      <th>amount</th>\n",
       "      <th>class</th>\n",
       "      <th>amount_log</th>\n",
       "      <th>amount_scaled</th>\n",
       "      <th>amount_minmax</th>\n",
       "    </tr>\n",
       "  </thead>\n",
       "  <tbody>\n",
       "    <tr>\n",
       "      <th>0</th>\n",
       "      <td>0.0</td>\n",
       "      <td>-1.359807</td>\n",
       "      <td>-0.072781</td>\n",
       "      <td>2.536347</td>\n",
       "      <td>1.378155</td>\n",
       "      <td>-0.338321</td>\n",
       "      <td>0.462388</td>\n",
       "      <td>0.239599</td>\n",
       "      <td>0.098698</td>\n",
       "      <td>0.363787</td>\n",
       "      <td>0.090794</td>\n",
       "      <td>-0.551600</td>\n",
       "      <td>-0.617801</td>\n",
       "      <td>-0.991390</td>\n",
       "      <td>-0.311169</td>\n",
       "      <td>1.468177</td>\n",
       "      <td>-0.470401</td>\n",
       "      <td>0.207971</td>\n",
       "      <td>0.025791</td>\n",
       "      <td>0.403993</td>\n",
       "      <td>0.251412</td>\n",
       "      <td>-0.018307</td>\n",
       "      <td>0.277838</td>\n",
       "      <td>-0.110474</td>\n",
       "      <td>0.066928</td>\n",
       "      <td>0.128539</td>\n",
       "      <td>-0.189115</td>\n",
       "      <td>0.133558</td>\n",
       "      <td>-0.021053</td>\n",
       "      <td>149.62</td>\n",
       "      <td>0</td>\n",
       "      <td>5.008166</td>\n",
       "      <td>0.244964</td>\n",
       "      <td>0.005824</td>\n",
       "    </tr>\n",
       "    <tr>\n",
       "      <th>1</th>\n",
       "      <td>0.0</td>\n",
       "      <td>1.191857</td>\n",
       "      <td>0.266151</td>\n",
       "      <td>0.166480</td>\n",
       "      <td>0.448154</td>\n",
       "      <td>0.060018</td>\n",
       "      <td>-0.082361</td>\n",
       "      <td>-0.078803</td>\n",
       "      <td>0.085102</td>\n",
       "      <td>-0.255425</td>\n",
       "      <td>-0.166974</td>\n",
       "      <td>1.612727</td>\n",
       "      <td>1.065235</td>\n",
       "      <td>0.489095</td>\n",
       "      <td>-0.143772</td>\n",
       "      <td>0.635558</td>\n",
       "      <td>0.463917</td>\n",
       "      <td>-0.114805</td>\n",
       "      <td>-0.183361</td>\n",
       "      <td>-0.145783</td>\n",
       "      <td>-0.069083</td>\n",
       "      <td>-0.225775</td>\n",
       "      <td>-0.638672</td>\n",
       "      <td>0.101288</td>\n",
       "      <td>-0.339846</td>\n",
       "      <td>0.167170</td>\n",
       "      <td>0.125895</td>\n",
       "      <td>-0.008983</td>\n",
       "      <td>0.014724</td>\n",
       "      <td>2.69</td>\n",
       "      <td>0</td>\n",
       "      <td>0.993252</td>\n",
       "      <td>-0.342475</td>\n",
       "      <td>0.000105</td>\n",
       "    </tr>\n",
       "    <tr>\n",
       "      <th>2</th>\n",
       "      <td>1.0</td>\n",
       "      <td>-1.358354</td>\n",
       "      <td>-1.340163</td>\n",
       "      <td>1.773209</td>\n",
       "      <td>0.379780</td>\n",
       "      <td>-0.503198</td>\n",
       "      <td>1.800499</td>\n",
       "      <td>0.791461</td>\n",
       "      <td>0.247676</td>\n",
       "      <td>-1.514654</td>\n",
       "      <td>0.207643</td>\n",
       "      <td>0.624501</td>\n",
       "      <td>0.066084</td>\n",
       "      <td>0.717293</td>\n",
       "      <td>-0.165946</td>\n",
       "      <td>2.345865</td>\n",
       "      <td>-2.890083</td>\n",
       "      <td>1.109969</td>\n",
       "      <td>-0.121359</td>\n",
       "      <td>-2.261857</td>\n",
       "      <td>0.524980</td>\n",
       "      <td>0.247998</td>\n",
       "      <td>0.771679</td>\n",
       "      <td>0.909412</td>\n",
       "      <td>-0.689281</td>\n",
       "      <td>-0.327642</td>\n",
       "      <td>-0.139097</td>\n",
       "      <td>-0.055353</td>\n",
       "      <td>-0.059752</td>\n",
       "      <td>378.66</td>\n",
       "      <td>0</td>\n",
       "      <td>5.936665</td>\n",
       "      <td>1.160686</td>\n",
       "      <td>0.014739</td>\n",
       "    </tr>\n",
       "    <tr>\n",
       "      <th>3</th>\n",
       "      <td>1.0</td>\n",
       "      <td>-0.966272</td>\n",
       "      <td>-0.185226</td>\n",
       "      <td>1.792993</td>\n",
       "      <td>-0.863291</td>\n",
       "      <td>-0.010309</td>\n",
       "      <td>1.247203</td>\n",
       "      <td>0.237609</td>\n",
       "      <td>0.377436</td>\n",
       "      <td>-1.387024</td>\n",
       "      <td>-0.054952</td>\n",
       "      <td>-0.226487</td>\n",
       "      <td>0.178228</td>\n",
       "      <td>0.507757</td>\n",
       "      <td>-0.287924</td>\n",
       "      <td>-0.631418</td>\n",
       "      <td>-1.059647</td>\n",
       "      <td>-0.684093</td>\n",
       "      <td>1.965775</td>\n",
       "      <td>-1.232622</td>\n",
       "      <td>-0.208038</td>\n",
       "      <td>-0.108300</td>\n",
       "      <td>0.005274</td>\n",
       "      <td>-0.190321</td>\n",
       "      <td>-1.175575</td>\n",
       "      <td>0.647376</td>\n",
       "      <td>-0.221929</td>\n",
       "      <td>0.062723</td>\n",
       "      <td>0.061458</td>\n",
       "      <td>123.50</td>\n",
       "      <td>0</td>\n",
       "      <td>4.816322</td>\n",
       "      <td>0.140534</td>\n",
       "      <td>0.004807</td>\n",
       "    </tr>\n",
       "    <tr>\n",
       "      <th>4</th>\n",
       "      <td>2.0</td>\n",
       "      <td>-1.158233</td>\n",
       "      <td>0.877737</td>\n",
       "      <td>1.548718</td>\n",
       "      <td>0.403034</td>\n",
       "      <td>-0.407193</td>\n",
       "      <td>0.095921</td>\n",
       "      <td>0.592941</td>\n",
       "      <td>-0.270533</td>\n",
       "      <td>0.817739</td>\n",
       "      <td>0.753074</td>\n",
       "      <td>-0.822843</td>\n",
       "      <td>0.538196</td>\n",
       "      <td>1.345852</td>\n",
       "      <td>-1.119670</td>\n",
       "      <td>0.175121</td>\n",
       "      <td>-0.451449</td>\n",
       "      <td>-0.237033</td>\n",
       "      <td>-0.038195</td>\n",
       "      <td>0.803487</td>\n",
       "      <td>0.408542</td>\n",
       "      <td>-0.009431</td>\n",
       "      <td>0.798278</td>\n",
       "      <td>-0.137458</td>\n",
       "      <td>0.141267</td>\n",
       "      <td>-0.206010</td>\n",
       "      <td>0.502292</td>\n",
       "      <td>0.219422</td>\n",
       "      <td>0.215153</td>\n",
       "      <td>69.99</td>\n",
       "      <td>0</td>\n",
       "      <td>4.248495</td>\n",
       "      <td>-0.073403</td>\n",
       "      <td>0.002724</td>\n",
       "    </tr>\n",
       "  </tbody>\n",
       "</table>\n",
       "</div>"
      ],
      "text/plain": [
       "   time        v1        v2        v3        v4        v5        v6        v7  \\\n",
       "0   0.0 -1.359807 -0.072781  2.536347  1.378155 -0.338321  0.462388  0.239599   \n",
       "1   0.0  1.191857  0.266151  0.166480  0.448154  0.060018 -0.082361 -0.078803   \n",
       "2   1.0 -1.358354 -1.340163  1.773209  0.379780 -0.503198  1.800499  0.791461   \n",
       "3   1.0 -0.966272 -0.185226  1.792993 -0.863291 -0.010309  1.247203  0.237609   \n",
       "4   2.0 -1.158233  0.877737  1.548718  0.403034 -0.407193  0.095921  0.592941   \n",
       "\n",
       "         v8        v9       v10       v11       v12       v13       v14  \\\n",
       "0  0.098698  0.363787  0.090794 -0.551600 -0.617801 -0.991390 -0.311169   \n",
       "1  0.085102 -0.255425 -0.166974  1.612727  1.065235  0.489095 -0.143772   \n",
       "2  0.247676 -1.514654  0.207643  0.624501  0.066084  0.717293 -0.165946   \n",
       "3  0.377436 -1.387024 -0.054952 -0.226487  0.178228  0.507757 -0.287924   \n",
       "4 -0.270533  0.817739  0.753074 -0.822843  0.538196  1.345852 -1.119670   \n",
       "\n",
       "        v15       v16       v17       v18       v19       v20       v21  \\\n",
       "0  1.468177 -0.470401  0.207971  0.025791  0.403993  0.251412 -0.018307   \n",
       "1  0.635558  0.463917 -0.114805 -0.183361 -0.145783 -0.069083 -0.225775   \n",
       "2  2.345865 -2.890083  1.109969 -0.121359 -2.261857  0.524980  0.247998   \n",
       "3 -0.631418 -1.059647 -0.684093  1.965775 -1.232622 -0.208038 -0.108300   \n",
       "4  0.175121 -0.451449 -0.237033 -0.038195  0.803487  0.408542 -0.009431   \n",
       "\n",
       "        v22       v23       v24       v25       v26       v27       v28  \\\n",
       "0  0.277838 -0.110474  0.066928  0.128539 -0.189115  0.133558 -0.021053   \n",
       "1 -0.638672  0.101288 -0.339846  0.167170  0.125895 -0.008983  0.014724   \n",
       "2  0.771679  0.909412 -0.689281 -0.327642 -0.139097 -0.055353 -0.059752   \n",
       "3  0.005274 -0.190321 -1.175575  0.647376 -0.221929  0.062723  0.061458   \n",
       "4  0.798278 -0.137458  0.141267 -0.206010  0.502292  0.219422  0.215153   \n",
       "\n",
       "   amount  class  amount_log  amount_scaled  amount_minmax  \n",
       "0  149.62      0    5.008166       0.244964       0.005824  \n",
       "1    2.69      0    0.993252      -0.342475       0.000105  \n",
       "2  378.66      0    5.936665       1.160686       0.014739  \n",
       "3  123.50      0    4.816322       0.140534       0.004807  \n",
       "4   69.99      0    4.248495      -0.073403       0.002724  "
      ]
     },
     "execution_count": 22,
     "metadata": {},
     "output_type": "execute_result"
    }
   ],
   "source": [
    "# Reading a Pickle file\n",
    "with open('CreditCardFraudDataCleaned.pkl', 'rb') as fileReadStream:\n",
    "    CreditCardFraudDataFromPickle = pickle.load(fileReadStream)\n",
    "    # Don't forget to close the filestream!\n",
    "    fileReadStream.close()\n",
    "    \n",
    "# Checking the data read from pickle file. It is exactly same as the DiamondPricesData\n",
    "df = CreditCardFraudDataFromPickle\n",
    "df.head()"
   ]
  },
  {
   "cell_type": "code",
   "execution_count": 23,
   "metadata": {
    "execution": {
     "iopub.execute_input": "2021-01-20T18:37:05.827003Z",
     "iopub.status.busy": "2021-01-20T18:37:05.826102Z",
     "iopub.status.idle": "2021-01-20T18:37:05.830709Z",
     "shell.execute_reply": "2021-01-20T18:37:05.830155Z"
    },
    "papermill": {
     "duration": 0.112078,
     "end_time": "2021-01-20T18:37:05.830821",
     "exception": false,
     "start_time": "2021-01-20T18:37:05.718743",
     "status": "completed"
    },
    "tags": []
   },
   "outputs": [
    {
     "data": {
      "text/plain": [
       "(284807, 34)"
      ]
     },
     "execution_count": 23,
     "metadata": {},
     "output_type": "execute_result"
    }
   ],
   "source": [
    "df.shape"
   ]
  },
  {
   "cell_type": "markdown",
   "metadata": {
    "papermill": {
     "duration": 0.102473,
     "end_time": "2021-01-20T18:37:06.036801",
     "exception": false,
     "start_time": "2021-01-20T18:37:05.934328",
     "status": "completed"
    },
    "tags": []
   },
   "source": [
    "# <a id='splitdata'>Splitting data into Training and Testing samples</a>\n",
    "\n",
    "We don't use the full data for creating the model. Some data is randomly selected and kept aside for checking how good the model is. This is known as Testing Data and the remaining data is called Training data on which the model is built. Typically 70% of data is used as training data and the rest 30% is used as testing data."
   ]
  },
  {
   "cell_type": "code",
   "execution_count": 24,
   "metadata": {
    "execution": {
     "iopub.execute_input": "2021-01-20T18:37:06.249443Z",
     "iopub.status.busy": "2021-01-20T18:37:06.248680Z",
     "iopub.status.idle": "2021-01-20T18:37:06.343510Z",
     "shell.execute_reply": "2021-01-20T18:37:06.342785Z"
    },
    "papermill": {
     "duration": 0.203881,
     "end_time": "2021-01-20T18:37:06.343629",
     "exception": false,
     "start_time": "2021-01-20T18:37:06.139748",
     "status": "completed"
    },
    "tags": []
   },
   "outputs": [],
   "source": [
    "# Separate Target Variable and Predictor Variables\n",
    "# Here I am keeping the log amount and dropping the amount and scaled amount columns.\n",
    "X = df.drop(['time','class','amount'],axis=1)\n",
    "y = df['class']"
   ]
  },
  {
   "cell_type": "code",
   "execution_count": 25,
   "metadata": {
    "execution": {
     "iopub.execute_input": "2021-01-20T18:37:06.578675Z",
     "iopub.status.busy": "2021-01-20T18:37:06.568392Z",
     "iopub.status.idle": "2021-01-20T18:37:06.597608Z",
     "shell.execute_reply": "2021-01-20T18:37:06.598214Z"
    },
    "papermill": {
     "duration": 0.152246,
     "end_time": "2021-01-20T18:37:06.598372",
     "exception": false,
     "start_time": "2021-01-20T18:37:06.446126",
     "status": "completed"
    },
    "tags": []
   },
   "outputs": [
    {
     "data": {
      "text/html": [
       "<div>\n",
       "<style scoped>\n",
       "    .dataframe tbody tr th:only-of-type {\n",
       "        vertical-align: middle;\n",
       "    }\n",
       "\n",
       "    .dataframe tbody tr th {\n",
       "        vertical-align: top;\n",
       "    }\n",
       "\n",
       "    .dataframe thead th {\n",
       "        text-align: right;\n",
       "    }\n",
       "</style>\n",
       "<table border=\"1\" class=\"dataframe\">\n",
       "  <thead>\n",
       "    <tr style=\"text-align: right;\">\n",
       "      <th></th>\n",
       "      <th>v1</th>\n",
       "      <th>v2</th>\n",
       "      <th>v3</th>\n",
       "      <th>v4</th>\n",
       "      <th>v5</th>\n",
       "      <th>v6</th>\n",
       "      <th>v7</th>\n",
       "      <th>v8</th>\n",
       "      <th>v9</th>\n",
       "      <th>v10</th>\n",
       "      <th>v11</th>\n",
       "      <th>v12</th>\n",
       "      <th>v13</th>\n",
       "      <th>v14</th>\n",
       "      <th>v15</th>\n",
       "      <th>v16</th>\n",
       "      <th>v17</th>\n",
       "      <th>v18</th>\n",
       "      <th>v19</th>\n",
       "      <th>v20</th>\n",
       "      <th>v21</th>\n",
       "      <th>v22</th>\n",
       "      <th>v23</th>\n",
       "      <th>v24</th>\n",
       "      <th>v25</th>\n",
       "      <th>v26</th>\n",
       "      <th>v27</th>\n",
       "      <th>v28</th>\n",
       "      <th>amount_log</th>\n",
       "      <th>amount_scaled</th>\n",
       "      <th>amount_minmax</th>\n",
       "    </tr>\n",
       "  </thead>\n",
       "  <tbody>\n",
       "    <tr>\n",
       "      <th>0</th>\n",
       "      <td>-1.359807</td>\n",
       "      <td>-0.072781</td>\n",
       "      <td>2.536347</td>\n",
       "      <td>1.378155</td>\n",
       "      <td>-0.338321</td>\n",
       "      <td>0.462388</td>\n",
       "      <td>0.239599</td>\n",
       "      <td>0.098698</td>\n",
       "      <td>0.363787</td>\n",
       "      <td>0.090794</td>\n",
       "      <td>-0.551600</td>\n",
       "      <td>-0.617801</td>\n",
       "      <td>-0.991390</td>\n",
       "      <td>-0.311169</td>\n",
       "      <td>1.468177</td>\n",
       "      <td>-0.470401</td>\n",
       "      <td>0.207971</td>\n",
       "      <td>0.025791</td>\n",
       "      <td>0.403993</td>\n",
       "      <td>0.251412</td>\n",
       "      <td>-0.018307</td>\n",
       "      <td>0.277838</td>\n",
       "      <td>-0.110474</td>\n",
       "      <td>0.066928</td>\n",
       "      <td>0.128539</td>\n",
       "      <td>-0.189115</td>\n",
       "      <td>0.133558</td>\n",
       "      <td>-0.021053</td>\n",
       "      <td>5.008166</td>\n",
       "      <td>0.244964</td>\n",
       "      <td>0.005824</td>\n",
       "    </tr>\n",
       "    <tr>\n",
       "      <th>1</th>\n",
       "      <td>1.191857</td>\n",
       "      <td>0.266151</td>\n",
       "      <td>0.166480</td>\n",
       "      <td>0.448154</td>\n",
       "      <td>0.060018</td>\n",
       "      <td>-0.082361</td>\n",
       "      <td>-0.078803</td>\n",
       "      <td>0.085102</td>\n",
       "      <td>-0.255425</td>\n",
       "      <td>-0.166974</td>\n",
       "      <td>1.612727</td>\n",
       "      <td>1.065235</td>\n",
       "      <td>0.489095</td>\n",
       "      <td>-0.143772</td>\n",
       "      <td>0.635558</td>\n",
       "      <td>0.463917</td>\n",
       "      <td>-0.114805</td>\n",
       "      <td>-0.183361</td>\n",
       "      <td>-0.145783</td>\n",
       "      <td>-0.069083</td>\n",
       "      <td>-0.225775</td>\n",
       "      <td>-0.638672</td>\n",
       "      <td>0.101288</td>\n",
       "      <td>-0.339846</td>\n",
       "      <td>0.167170</td>\n",
       "      <td>0.125895</td>\n",
       "      <td>-0.008983</td>\n",
       "      <td>0.014724</td>\n",
       "      <td>0.993252</td>\n",
       "      <td>-0.342475</td>\n",
       "      <td>0.000105</td>\n",
       "    </tr>\n",
       "    <tr>\n",
       "      <th>2</th>\n",
       "      <td>-1.358354</td>\n",
       "      <td>-1.340163</td>\n",
       "      <td>1.773209</td>\n",
       "      <td>0.379780</td>\n",
       "      <td>-0.503198</td>\n",
       "      <td>1.800499</td>\n",
       "      <td>0.791461</td>\n",
       "      <td>0.247676</td>\n",
       "      <td>-1.514654</td>\n",
       "      <td>0.207643</td>\n",
       "      <td>0.624501</td>\n",
       "      <td>0.066084</td>\n",
       "      <td>0.717293</td>\n",
       "      <td>-0.165946</td>\n",
       "      <td>2.345865</td>\n",
       "      <td>-2.890083</td>\n",
       "      <td>1.109969</td>\n",
       "      <td>-0.121359</td>\n",
       "      <td>-2.261857</td>\n",
       "      <td>0.524980</td>\n",
       "      <td>0.247998</td>\n",
       "      <td>0.771679</td>\n",
       "      <td>0.909412</td>\n",
       "      <td>-0.689281</td>\n",
       "      <td>-0.327642</td>\n",
       "      <td>-0.139097</td>\n",
       "      <td>-0.055353</td>\n",
       "      <td>-0.059752</td>\n",
       "      <td>5.936665</td>\n",
       "      <td>1.160686</td>\n",
       "      <td>0.014739</td>\n",
       "    </tr>\n",
       "    <tr>\n",
       "      <th>3</th>\n",
       "      <td>-0.966272</td>\n",
       "      <td>-0.185226</td>\n",
       "      <td>1.792993</td>\n",
       "      <td>-0.863291</td>\n",
       "      <td>-0.010309</td>\n",
       "      <td>1.247203</td>\n",
       "      <td>0.237609</td>\n",
       "      <td>0.377436</td>\n",
       "      <td>-1.387024</td>\n",
       "      <td>-0.054952</td>\n",
       "      <td>-0.226487</td>\n",
       "      <td>0.178228</td>\n",
       "      <td>0.507757</td>\n",
       "      <td>-0.287924</td>\n",
       "      <td>-0.631418</td>\n",
       "      <td>-1.059647</td>\n",
       "      <td>-0.684093</td>\n",
       "      <td>1.965775</td>\n",
       "      <td>-1.232622</td>\n",
       "      <td>-0.208038</td>\n",
       "      <td>-0.108300</td>\n",
       "      <td>0.005274</td>\n",
       "      <td>-0.190321</td>\n",
       "      <td>-1.175575</td>\n",
       "      <td>0.647376</td>\n",
       "      <td>-0.221929</td>\n",
       "      <td>0.062723</td>\n",
       "      <td>0.061458</td>\n",
       "      <td>4.816322</td>\n",
       "      <td>0.140534</td>\n",
       "      <td>0.004807</td>\n",
       "    </tr>\n",
       "    <tr>\n",
       "      <th>4</th>\n",
       "      <td>-1.158233</td>\n",
       "      <td>0.877737</td>\n",
       "      <td>1.548718</td>\n",
       "      <td>0.403034</td>\n",
       "      <td>-0.407193</td>\n",
       "      <td>0.095921</td>\n",
       "      <td>0.592941</td>\n",
       "      <td>-0.270533</td>\n",
       "      <td>0.817739</td>\n",
       "      <td>0.753074</td>\n",
       "      <td>-0.822843</td>\n",
       "      <td>0.538196</td>\n",
       "      <td>1.345852</td>\n",
       "      <td>-1.119670</td>\n",
       "      <td>0.175121</td>\n",
       "      <td>-0.451449</td>\n",
       "      <td>-0.237033</td>\n",
       "      <td>-0.038195</td>\n",
       "      <td>0.803487</td>\n",
       "      <td>0.408542</td>\n",
       "      <td>-0.009431</td>\n",
       "      <td>0.798278</td>\n",
       "      <td>-0.137458</td>\n",
       "      <td>0.141267</td>\n",
       "      <td>-0.206010</td>\n",
       "      <td>0.502292</td>\n",
       "      <td>0.219422</td>\n",
       "      <td>0.215153</td>\n",
       "      <td>4.248495</td>\n",
       "      <td>-0.073403</td>\n",
       "      <td>0.002724</td>\n",
       "    </tr>\n",
       "    <tr>\n",
       "      <th>...</th>\n",
       "      <td>...</td>\n",
       "      <td>...</td>\n",
       "      <td>...</td>\n",
       "      <td>...</td>\n",
       "      <td>...</td>\n",
       "      <td>...</td>\n",
       "      <td>...</td>\n",
       "      <td>...</td>\n",
       "      <td>...</td>\n",
       "      <td>...</td>\n",
       "      <td>...</td>\n",
       "      <td>...</td>\n",
       "      <td>...</td>\n",
       "      <td>...</td>\n",
       "      <td>...</td>\n",
       "      <td>...</td>\n",
       "      <td>...</td>\n",
       "      <td>...</td>\n",
       "      <td>...</td>\n",
       "      <td>...</td>\n",
       "      <td>...</td>\n",
       "      <td>...</td>\n",
       "      <td>...</td>\n",
       "      <td>...</td>\n",
       "      <td>...</td>\n",
       "      <td>...</td>\n",
       "      <td>...</td>\n",
       "      <td>...</td>\n",
       "      <td>...</td>\n",
       "      <td>...</td>\n",
       "      <td>...</td>\n",
       "    </tr>\n",
       "    <tr>\n",
       "      <th>284802</th>\n",
       "      <td>-11.881118</td>\n",
       "      <td>10.071785</td>\n",
       "      <td>-9.834783</td>\n",
       "      <td>-2.066656</td>\n",
       "      <td>-5.364473</td>\n",
       "      <td>-2.606837</td>\n",
       "      <td>-4.918215</td>\n",
       "      <td>7.305334</td>\n",
       "      <td>1.914428</td>\n",
       "      <td>4.356170</td>\n",
       "      <td>-1.593105</td>\n",
       "      <td>2.711941</td>\n",
       "      <td>-0.689256</td>\n",
       "      <td>4.626942</td>\n",
       "      <td>-0.924459</td>\n",
       "      <td>1.107641</td>\n",
       "      <td>1.991691</td>\n",
       "      <td>0.510632</td>\n",
       "      <td>-0.682920</td>\n",
       "      <td>1.475829</td>\n",
       "      <td>0.213454</td>\n",
       "      <td>0.111864</td>\n",
       "      <td>1.014480</td>\n",
       "      <td>-0.509348</td>\n",
       "      <td>1.436807</td>\n",
       "      <td>0.250034</td>\n",
       "      <td>0.943651</td>\n",
       "      <td>0.823731</td>\n",
       "      <td>-0.248461</td>\n",
       "      <td>-0.350151</td>\n",
       "      <td>0.000030</td>\n",
       "    </tr>\n",
       "    <tr>\n",
       "      <th>284803</th>\n",
       "      <td>-0.732789</td>\n",
       "      <td>-0.055080</td>\n",
       "      <td>2.035030</td>\n",
       "      <td>-0.738589</td>\n",
       "      <td>0.868229</td>\n",
       "      <td>1.058415</td>\n",
       "      <td>0.024330</td>\n",
       "      <td>0.294869</td>\n",
       "      <td>0.584800</td>\n",
       "      <td>-0.975926</td>\n",
       "      <td>-0.150189</td>\n",
       "      <td>0.915802</td>\n",
       "      <td>1.214756</td>\n",
       "      <td>-0.675143</td>\n",
       "      <td>1.164931</td>\n",
       "      <td>-0.711757</td>\n",
       "      <td>-0.025693</td>\n",
       "      <td>-1.221179</td>\n",
       "      <td>-1.545556</td>\n",
       "      <td>0.059616</td>\n",
       "      <td>0.214205</td>\n",
       "      <td>0.924384</td>\n",
       "      <td>0.012463</td>\n",
       "      <td>-1.016226</td>\n",
       "      <td>-0.606624</td>\n",
       "      <td>-0.395255</td>\n",
       "      <td>0.068472</td>\n",
       "      <td>-0.053527</td>\n",
       "      <td>3.210844</td>\n",
       "      <td>-0.254117</td>\n",
       "      <td>0.000965</td>\n",
       "    </tr>\n",
       "    <tr>\n",
       "      <th>284804</th>\n",
       "      <td>1.919565</td>\n",
       "      <td>-0.301254</td>\n",
       "      <td>-3.249640</td>\n",
       "      <td>-0.557828</td>\n",
       "      <td>2.630515</td>\n",
       "      <td>3.031260</td>\n",
       "      <td>-0.296827</td>\n",
       "      <td>0.708417</td>\n",
       "      <td>0.432454</td>\n",
       "      <td>-0.484782</td>\n",
       "      <td>0.411614</td>\n",
       "      <td>0.063119</td>\n",
       "      <td>-0.183699</td>\n",
       "      <td>-0.510602</td>\n",
       "      <td>1.329284</td>\n",
       "      <td>0.140716</td>\n",
       "      <td>0.313502</td>\n",
       "      <td>0.395652</td>\n",
       "      <td>-0.577252</td>\n",
       "      <td>0.001396</td>\n",
       "      <td>0.232045</td>\n",
       "      <td>0.578229</td>\n",
       "      <td>-0.037501</td>\n",
       "      <td>0.640134</td>\n",
       "      <td>0.265745</td>\n",
       "      <td>-0.087371</td>\n",
       "      <td>0.004455</td>\n",
       "      <td>-0.026561</td>\n",
       "      <td>4.217889</td>\n",
       "      <td>-0.081839</td>\n",
       "      <td>0.002642</td>\n",
       "    </tr>\n",
       "    <tr>\n",
       "      <th>284805</th>\n",
       "      <td>-0.240440</td>\n",
       "      <td>0.530483</td>\n",
       "      <td>0.702510</td>\n",
       "      <td>0.689799</td>\n",
       "      <td>-0.377961</td>\n",
       "      <td>0.623708</td>\n",
       "      <td>-0.686180</td>\n",
       "      <td>0.679145</td>\n",
       "      <td>0.392087</td>\n",
       "      <td>-0.399126</td>\n",
       "      <td>-1.933849</td>\n",
       "      <td>-0.962886</td>\n",
       "      <td>-1.042082</td>\n",
       "      <td>0.449624</td>\n",
       "      <td>1.962563</td>\n",
       "      <td>-0.608577</td>\n",
       "      <td>0.509928</td>\n",
       "      <td>1.113981</td>\n",
       "      <td>2.897849</td>\n",
       "      <td>0.127434</td>\n",
       "      <td>0.265245</td>\n",
       "      <td>0.800049</td>\n",
       "      <td>-0.163298</td>\n",
       "      <td>0.123205</td>\n",
       "      <td>-0.569159</td>\n",
       "      <td>0.546668</td>\n",
       "      <td>0.108821</td>\n",
       "      <td>0.104533</td>\n",
       "      <td>2.303585</td>\n",
       "      <td>-0.313249</td>\n",
       "      <td>0.000389</td>\n",
       "    </tr>\n",
       "    <tr>\n",
       "      <th>284806</th>\n",
       "      <td>-0.533413</td>\n",
       "      <td>-0.189733</td>\n",
       "      <td>0.703337</td>\n",
       "      <td>-0.506271</td>\n",
       "      <td>-0.012546</td>\n",
       "      <td>-0.649617</td>\n",
       "      <td>1.577006</td>\n",
       "      <td>-0.414650</td>\n",
       "      <td>0.486180</td>\n",
       "      <td>-0.915427</td>\n",
       "      <td>-1.040458</td>\n",
       "      <td>-0.031513</td>\n",
       "      <td>-0.188093</td>\n",
       "      <td>-0.084316</td>\n",
       "      <td>0.041333</td>\n",
       "      <td>-0.302620</td>\n",
       "      <td>-0.660377</td>\n",
       "      <td>0.167430</td>\n",
       "      <td>-0.256117</td>\n",
       "      <td>0.382948</td>\n",
       "      <td>0.261057</td>\n",
       "      <td>0.643078</td>\n",
       "      <td>0.376777</td>\n",
       "      <td>0.008797</td>\n",
       "      <td>-0.473649</td>\n",
       "      <td>-0.818267</td>\n",
       "      <td>-0.002415</td>\n",
       "      <td>0.013649</td>\n",
       "      <td>5.379943</td>\n",
       "      <td>0.514355</td>\n",
       "      <td>0.008446</td>\n",
       "    </tr>\n",
       "  </tbody>\n",
       "</table>\n",
       "<p>284807 rows × 31 columns</p>\n",
       "</div>"
      ],
      "text/plain": [
       "               v1         v2        v3        v4        v5        v6  \\\n",
       "0       -1.359807  -0.072781  2.536347  1.378155 -0.338321  0.462388   \n",
       "1        1.191857   0.266151  0.166480  0.448154  0.060018 -0.082361   \n",
       "2       -1.358354  -1.340163  1.773209  0.379780 -0.503198  1.800499   \n",
       "3       -0.966272  -0.185226  1.792993 -0.863291 -0.010309  1.247203   \n",
       "4       -1.158233   0.877737  1.548718  0.403034 -0.407193  0.095921   \n",
       "...           ...        ...       ...       ...       ...       ...   \n",
       "284802 -11.881118  10.071785 -9.834783 -2.066656 -5.364473 -2.606837   \n",
       "284803  -0.732789  -0.055080  2.035030 -0.738589  0.868229  1.058415   \n",
       "284804   1.919565  -0.301254 -3.249640 -0.557828  2.630515  3.031260   \n",
       "284805  -0.240440   0.530483  0.702510  0.689799 -0.377961  0.623708   \n",
       "284806  -0.533413  -0.189733  0.703337 -0.506271 -0.012546 -0.649617   \n",
       "\n",
       "              v7        v8        v9       v10       v11       v12       v13  \\\n",
       "0       0.239599  0.098698  0.363787  0.090794 -0.551600 -0.617801 -0.991390   \n",
       "1      -0.078803  0.085102 -0.255425 -0.166974  1.612727  1.065235  0.489095   \n",
       "2       0.791461  0.247676 -1.514654  0.207643  0.624501  0.066084  0.717293   \n",
       "3       0.237609  0.377436 -1.387024 -0.054952 -0.226487  0.178228  0.507757   \n",
       "4       0.592941 -0.270533  0.817739  0.753074 -0.822843  0.538196  1.345852   \n",
       "...          ...       ...       ...       ...       ...       ...       ...   \n",
       "284802 -4.918215  7.305334  1.914428  4.356170 -1.593105  2.711941 -0.689256   \n",
       "284803  0.024330  0.294869  0.584800 -0.975926 -0.150189  0.915802  1.214756   \n",
       "284804 -0.296827  0.708417  0.432454 -0.484782  0.411614  0.063119 -0.183699   \n",
       "284805 -0.686180  0.679145  0.392087 -0.399126 -1.933849 -0.962886 -1.042082   \n",
       "284806  1.577006 -0.414650  0.486180 -0.915427 -1.040458 -0.031513 -0.188093   \n",
       "\n",
       "             v14       v15       v16       v17       v18       v19       v20  \\\n",
       "0      -0.311169  1.468177 -0.470401  0.207971  0.025791  0.403993  0.251412   \n",
       "1      -0.143772  0.635558  0.463917 -0.114805 -0.183361 -0.145783 -0.069083   \n",
       "2      -0.165946  2.345865 -2.890083  1.109969 -0.121359 -2.261857  0.524980   \n",
       "3      -0.287924 -0.631418 -1.059647 -0.684093  1.965775 -1.232622 -0.208038   \n",
       "4      -1.119670  0.175121 -0.451449 -0.237033 -0.038195  0.803487  0.408542   \n",
       "...          ...       ...       ...       ...       ...       ...       ...   \n",
       "284802  4.626942 -0.924459  1.107641  1.991691  0.510632 -0.682920  1.475829   \n",
       "284803 -0.675143  1.164931 -0.711757 -0.025693 -1.221179 -1.545556  0.059616   \n",
       "284804 -0.510602  1.329284  0.140716  0.313502  0.395652 -0.577252  0.001396   \n",
       "284805  0.449624  1.962563 -0.608577  0.509928  1.113981  2.897849  0.127434   \n",
       "284806 -0.084316  0.041333 -0.302620 -0.660377  0.167430 -0.256117  0.382948   \n",
       "\n",
       "             v21       v22       v23       v24       v25       v26       v27  \\\n",
       "0      -0.018307  0.277838 -0.110474  0.066928  0.128539 -0.189115  0.133558   \n",
       "1      -0.225775 -0.638672  0.101288 -0.339846  0.167170  0.125895 -0.008983   \n",
       "2       0.247998  0.771679  0.909412 -0.689281 -0.327642 -0.139097 -0.055353   \n",
       "3      -0.108300  0.005274 -0.190321 -1.175575  0.647376 -0.221929  0.062723   \n",
       "4      -0.009431  0.798278 -0.137458  0.141267 -0.206010  0.502292  0.219422   \n",
       "...          ...       ...       ...       ...       ...       ...       ...   \n",
       "284802  0.213454  0.111864  1.014480 -0.509348  1.436807  0.250034  0.943651   \n",
       "284803  0.214205  0.924384  0.012463 -1.016226 -0.606624 -0.395255  0.068472   \n",
       "284804  0.232045  0.578229 -0.037501  0.640134  0.265745 -0.087371  0.004455   \n",
       "284805  0.265245  0.800049 -0.163298  0.123205 -0.569159  0.546668  0.108821   \n",
       "284806  0.261057  0.643078  0.376777  0.008797 -0.473649 -0.818267 -0.002415   \n",
       "\n",
       "             v28  amount_log  amount_scaled  amount_minmax  \n",
       "0      -0.021053    5.008166       0.244964       0.005824  \n",
       "1       0.014724    0.993252      -0.342475       0.000105  \n",
       "2      -0.059752    5.936665       1.160686       0.014739  \n",
       "3       0.061458    4.816322       0.140534       0.004807  \n",
       "4       0.215153    4.248495      -0.073403       0.002724  \n",
       "...          ...         ...            ...            ...  \n",
       "284802  0.823731   -0.248461      -0.350151       0.000030  \n",
       "284803 -0.053527    3.210844      -0.254117       0.000965  \n",
       "284804 -0.026561    4.217889      -0.081839       0.002642  \n",
       "284805  0.104533    2.303585      -0.313249       0.000389  \n",
       "284806  0.013649    5.379943       0.514355       0.008446  \n",
       "\n",
       "[284807 rows x 31 columns]"
      ]
     },
     "execution_count": 25,
     "metadata": {},
     "output_type": "execute_result"
    }
   ],
   "source": [
    "X"
   ]
  },
  {
   "cell_type": "code",
   "execution_count": 26,
   "metadata": {
    "execution": {
     "iopub.execute_input": "2021-01-20T18:37:06.823570Z",
     "iopub.status.busy": "2021-01-20T18:37:06.815089Z",
     "iopub.status.idle": "2021-01-20T18:37:06.913344Z",
     "shell.execute_reply": "2021-01-20T18:37:06.911821Z"
    },
    "papermill": {
     "duration": 0.208389,
     "end_time": "2021-01-20T18:37:06.913476",
     "exception": false,
     "start_time": "2021-01-20T18:37:06.705087",
     "status": "completed"
    },
    "tags": []
   },
   "outputs": [],
   "source": [
    "# Split the data into training and testing set\n",
    "X_train, X_test, y_train, y_test = train_test_split(X, y, test_size=0.30, shuffle=True, random_state=101)"
   ]
  },
  {
   "cell_type": "code",
   "execution_count": 27,
   "metadata": {
    "execution": {
     "iopub.execute_input": "2021-01-20T18:37:07.131768Z",
     "iopub.status.busy": "2021-01-20T18:37:07.130464Z",
     "iopub.status.idle": "2021-01-20T18:37:07.136225Z",
     "shell.execute_reply": "2021-01-20T18:37:07.135324Z"
    },
    "papermill": {
     "duration": 0.117227,
     "end_time": "2021-01-20T18:37:07.136360",
     "exception": false,
     "start_time": "2021-01-20T18:37:07.019133",
     "status": "completed"
    },
    "tags": []
   },
   "outputs": [
    {
     "name": "stdout",
     "output_type": "stream",
     "text": [
      "X_train -  (199364, 31)\n",
      "y_train -  (199364,)\n",
      "X_test -  (85443, 31)\n",
      "y_test -  (85443,)\n"
     ]
    }
   ],
   "source": [
    "# Quick sanity check with the shapes of Training and testing datasets\n",
    "print(\"X_train - \",X_train.shape)\n",
    "print(\"y_train - \",y_train.shape)\n",
    "print(\"X_test - \",X_test.shape)\n",
    "print(\"y_test - \",y_test.shape)"
   ]
  },
  {
   "cell_type": "markdown",
   "metadata": {
    "papermill": {
     "duration": 0.106332,
     "end_time": "2021-01-20T18:37:07.347855",
     "exception": false,
     "start_time": "2021-01-20T18:37:07.241523",
     "status": "completed"
    },
    "tags": []
   },
   "source": [
    "# <a id='modelbaseline'>Baseline for models</a>\n",
    "\n",
    "We will train four types of classifiers and decide which classifier will be more effective in detecting **fraud transactions**."
   ]
  },
  {
   "cell_type": "markdown",
   "metadata": {
    "papermill": {
     "duration": 0.104552,
     "end_time": "2021-01-20T18:37:07.557074",
     "exception": false,
     "start_time": "2021-01-20T18:37:07.452522",
     "status": "completed"
    },
    "tags": []
   },
   "source": [
    "#### Let's Discuss Next Steps - \n",
    "\n",
    "1  __Classification Models__\n",
    "\n",
    "- Logistic Regression\n",
    "- Decision Trees\n",
    "- Random Forest\n",
    "- Naive Bayes Classifier \n",
    "\n",
    "2  __Class Imbalance Solutions__\n",
    "\n",
    "- Under Sampling\n",
    "- Over Sampling\n",
    "- SMOTE\n",
    "- ADASYN\n",
    "\n",
    "3  __Metrics__\n",
    "\n",
    "- Accuracy Score\n",
    "- Confusion Matrix\n",
    "- Precision Score\n",
    "- Recall Score\n",
    "- ROC_AUC\n",
    "- F1 Score"
   ]
  },
  {
   "cell_type": "markdown",
   "metadata": {
    "papermill": {
     "duration": 0.105657,
     "end_time": "2021-01-20T18:37:07.769878",
     "exception": false,
     "start_time": "2021-01-20T18:37:07.664221",
     "status": "completed"
    },
    "tags": []
   },
   "source": [
    "# <a id='modelbuild'>Model Building</a>\n",
    "\n",
    "##### We are aware that our dataset is highly imbalanced, however, we check the performance of imbalance dataset first and later we implement some techniques to balance the dataset and again check the performance of balanced dataset. Finally, we will compare each regression models performance."
   ]
  },
  {
   "cell_type": "markdown",
   "metadata": {
    "papermill": {
     "duration": 0.105721,
     "end_time": "2021-01-20T18:37:07.981553",
     "exception": false,
     "start_time": "2021-01-20T18:37:07.875832",
     "status": "completed"
    },
    "tags": []
   },
   "source": [
    "# <a id='logreg'>1. Logistic Regression</a>"
   ]
  },
  {
   "cell_type": "markdown",
   "metadata": {
    "papermill": {
     "duration": 0.105452,
     "end_time": "2021-01-20T18:37:08.192760",
     "exception": false,
     "start_time": "2021-01-20T18:37:08.087308",
     "status": "completed"
    },
    "tags": []
   },
   "source": [
    "## <a id='logregim'>1.1 Logistic Regression with imbalanced data</a>"
   ]
  },
  {
   "cell_type": "code",
   "execution_count": 28,
   "metadata": {
    "execution": {
     "iopub.execute_input": "2021-01-20T18:37:08.409915Z",
     "iopub.status.busy": "2021-01-20T18:37:08.409120Z",
     "iopub.status.idle": "2021-01-20T18:37:08.507713Z",
     "shell.execute_reply": "2021-01-20T18:37:08.507018Z"
    },
    "papermill": {
     "duration": 0.207843,
     "end_time": "2021-01-20T18:37:08.507832",
     "exception": false,
     "start_time": "2021-01-20T18:37:08.299989",
     "status": "completed"
    },
    "tags": []
   },
   "outputs": [],
   "source": [
    "from sklearn.linear_model import LogisticRegression # Importing Classifier Step"
   ]
  },
  {
   "cell_type": "code",
   "execution_count": 29,
   "metadata": {
    "execution": {
     "iopub.execute_input": "2021-01-20T18:37:08.729446Z",
     "iopub.status.busy": "2021-01-20T18:37:08.728691Z",
     "iopub.status.idle": "2021-01-20T18:37:10.555474Z",
     "shell.execute_reply": "2021-01-20T18:37:10.554652Z"
    },
    "papermill": {
     "duration": 1.942057,
     "end_time": "2021-01-20T18:37:10.555627",
     "exception": false,
     "start_time": "2021-01-20T18:37:08.613570",
     "status": "completed"
    },
    "tags": []
   },
   "outputs": [
    {
     "data": {
      "text/plain": [
       "LogisticRegression()"
      ]
     },
     "execution_count": 29,
     "metadata": {},
     "output_type": "execute_result"
    }
   ],
   "source": [
    "#X_train, X_test, y_train, y_test = train_test_split(X, y, test_size=0.3, shuffle=True, random_state=0) \n",
    "\n",
    "\n",
    "logreg = LogisticRegression()\n",
    "logreg.fit(X_train, y_train) "
   ]
  },
  {
   "cell_type": "markdown",
   "metadata": {
    "papermill": {
     "duration": 0.104911,
     "end_time": "2021-01-20T18:37:10.772003",
     "exception": false,
     "start_time": "2021-01-20T18:37:10.667092",
     "status": "completed"
    },
    "tags": []
   },
   "source": [
    "### Predict from Test set"
   ]
  },
  {
   "cell_type": "code",
   "execution_count": 30,
   "metadata": {
    "execution": {
     "iopub.execute_input": "2021-01-20T18:37:10.992366Z",
     "iopub.status.busy": "2021-01-20T18:37:10.990992Z",
     "iopub.status.idle": "2021-01-20T18:37:10.997566Z",
     "shell.execute_reply": "2021-01-20T18:37:10.997057Z"
    },
    "papermill": {
     "duration": 0.119825,
     "end_time": "2021-01-20T18:37:10.997681",
     "exception": false,
     "start_time": "2021-01-20T18:37:10.877856",
     "status": "completed"
    },
    "tags": []
   },
   "outputs": [],
   "source": [
    "y_pred = logreg.predict(X_test)"
   ]
  },
  {
   "cell_type": "markdown",
   "metadata": {
    "papermill": {
     "duration": 0.105543,
     "end_time": "2021-01-20T18:37:11.210287",
     "exception": false,
     "start_time": "2021-01-20T18:37:11.104744",
     "status": "completed"
    },
    "tags": []
   },
   "source": [
    "### <a id='modevel'>Model Evolution</a>"
   ]
  },
  {
   "cell_type": "code",
   "execution_count": 31,
   "metadata": {
    "execution": {
     "iopub.execute_input": "2021-01-20T18:37:11.428248Z",
     "iopub.status.busy": "2021-01-20T18:37:11.427584Z",
     "iopub.status.idle": "2021-01-20T18:37:11.429729Z",
     "shell.execute_reply": "2021-01-20T18:37:11.430199Z"
    },
    "papermill": {
     "duration": 0.113179,
     "end_time": "2021-01-20T18:37:11.430358",
     "exception": false,
     "start_time": "2021-01-20T18:37:11.317179",
     "status": "completed"
    },
    "tags": []
   },
   "outputs": [],
   "source": [
    "from sklearn import metrics"
   ]
  },
  {
   "cell_type": "code",
   "execution_count": 32,
   "metadata": {
    "execution": {
     "iopub.execute_input": "2021-01-20T18:37:11.647296Z",
     "iopub.status.busy": "2021-01-20T18:37:11.646618Z",
     "iopub.status.idle": "2021-01-20T18:37:11.760720Z",
     "shell.execute_reply": "2021-01-20T18:37:11.761478Z"
    },
    "papermill": {
     "duration": 0.225029,
     "end_time": "2021-01-20T18:37:11.761662",
     "exception": false,
     "start_time": "2021-01-20T18:37:11.536633",
     "status": "completed"
    },
    "tags": []
   },
   "outputs": [
    {
     "name": "stdout",
     "output_type": "stream",
     "text": [
      "              precision    recall  f1-score   support\n",
      "\n",
      "           0       1.00      1.00      1.00     85299\n",
      "           1       0.88      0.62      0.73       144\n",
      "\n",
      "    accuracy                           1.00     85443\n",
      "   macro avg       0.94      0.81      0.86     85443\n",
      "weighted avg       1.00      1.00      1.00     85443\n",
      "\n"
     ]
    }
   ],
   "source": [
    "# https://en.wikipedia.org/wiki/Precision_and_recall\n",
    "print(metrics.classification_report(y_test, y_pred))"
   ]
  },
  {
   "cell_type": "code",
   "execution_count": 33,
   "metadata": {
    "execution": {
     "iopub.execute_input": "2021-01-20T18:37:11.985949Z",
     "iopub.status.busy": "2021-01-20T18:37:11.985161Z",
     "iopub.status.idle": "2021-01-20T18:37:12.092385Z",
     "shell.execute_reply": "2021-01-20T18:37:12.092873Z"
    },
    "papermill": {
     "duration": 0.219957,
     "end_time": "2021-01-20T18:37:12.093045",
     "exception": false,
     "start_time": "2021-01-20T18:37:11.873088",
     "status": "completed"
    },
    "tags": []
   },
   "outputs": [
    {
     "name": "stdout",
     "output_type": "stream",
     "text": [
      "Accuracy :0.99922\n",
      "AUC : 0.80896\n",
      "Precision : 0.88119\n",
      "Recall : 0.61806\n",
      "F1 : 0.72653\n",
      "\n",
      "\n"
     ]
    }
   ],
   "source": [
    "print('Accuracy :{0:0.5f}'.format(metrics.accuracy_score(y_pred , y_test))) \n",
    "print('AUC : {0:0.5f}'.format(metrics.roc_auc_score(y_test , y_pred)))\n",
    "print('Precision : {0:0.5f}'.format(metrics.precision_score(y_test , y_pred)))\n",
    "print('Recall : {0:0.5f}'.format(metrics.recall_score(y_test , y_pred)))\n",
    "print('F1 : {0:0.5f}'.format(metrics.f1_score(y_test , y_pred)))\n",
    "# print('Confusion Matrix : \\n', cnf_matrix)\n",
    "print(\"\\n\")"
   ]
  },
  {
   "cell_type": "markdown",
   "metadata": {
    "papermill": {
     "duration": 0.108503,
     "end_time": "2021-01-20T18:37:12.309089",
     "exception": false,
     "start_time": "2021-01-20T18:37:12.200586",
     "status": "completed"
    },
    "tags": []
   },
   "source": [
    "### <a id='modevelmatrix'>Confusion Matrix</a>\n",
    "\n",
    "Every problem is different and derives a different set of values for a particular business use case , thus every model must be evaluated differently.\n",
    "\n",
    "**Let's get to know the terminology and Structure first**\n",
    "\n",
    "A confusion matrix is defined into four parts : __{ TRUE , FALSE } (Actual) ,{POSITIVE , NEGATIVE} (Predicted)__\n",
    "Positive and Negative is what you predict , True and False is what you are told\n",
    "\n",
    "Which brings us to 4 relations : True Positive , True Negative , False Positive , False Negative <br>\n",
    "__P__ redicted - __R__ ows and __A__ ctual as __C__ olumns <br>\n",
    "\n",
    "<img src = 'https://github.com/dktalaicha/Kaggle/blob/master/CreditCardFraudDetection/images/final_cnf.png?raw=true'>\n",
    "\n",
    "\n",
    "### Accuracy , Precision and Recall\n",
    "\n",
    "##### __Accuracy__ : The most used and classic classification metric : Suited for binary classification problems.\n",
    "\n",
    "$$  \\text{Accuracy} = \\frac{( TP + TN ) }{ (TP + TN + FP + FN )}$$\n",
    "\n",
    "Basically Rightly predicted results amongst all the results , used when the classes are balanced\n",
    "\n",
    "##### __Precision__ : What proportion of predicted positives are truly positive ? Used when we need to predict the positive thoroughly, sure about it !\n",
    "\n",
    "$$ \\text{Precision} = \\frac{( TP )}{( TP + FP )} $$\n",
    "\n",
    "##### __Sensitivity or Recall__ : What proportion of actual positives is correctly classified ? choice when we want to capture as many positives as possible\n",
    "\n",
    "$$ \\text{Recall} = \\frac{(TP)}{( TP + FN )} $$\n",
    "\n",
    "##### __F1 Score__ : Harmonic mean of Precision and Recall. It basically maintains a balance between the precision and recall for your classifier\n",
    "\n",
    "$$ F1 = \\frac{2 * (\\text{ precision } * \\text{ recall })}{(\\text{ precision } + \\text{ recall } )} $$\n",
    "\n",
    "<img src='https://i.imgur.com/IYuqqic.gif' />\n",
    "\n",
    "**Precision as the name says, says how precise (how sure) is our model in detecting fraud transactions while recall is the amount of fraud cases our model is able to detect.**\n",
    "\n",
    "\n",
    "**In reference of our case**:\n",
    "\n",
    "Recall (True Positive Rate): % of all fraudulent transactions cases captured.\n",
    "\n",
    "Precision: Out of all items labeled as fraud, what percentage of them is actually fraud?\n",
    "\n",
    "Accuracy: How correct the model is (misleading for fraud/imbalanced data)\n",
    "\n",
    "F1 score: combination of recall and precision into one metric. F1 score is the weighted average of precision and recall, taking BOTH false positives and false negatives into account. Usually much more useful than accuracy, especially with uneven classes."
   ]
  },
  {
   "cell_type": "code",
   "execution_count": 34,
   "metadata": {
    "execution": {
     "iopub.execute_input": "2021-01-20T18:37:12.528933Z",
     "iopub.status.busy": "2021-01-20T18:37:12.528242Z",
     "iopub.status.idle": "2021-01-20T18:37:12.656869Z",
     "shell.execute_reply": "2021-01-20T18:37:12.656168Z"
    },
    "papermill": {
     "duration": 0.240579,
     "end_time": "2021-01-20T18:37:12.657007",
     "exception": false,
     "start_time": "2021-01-20T18:37:12.416428",
     "status": "completed"
    },
    "tags": []
   },
   "outputs": [
    {
     "data": {
      "text/plain": [
       "array([[85287,    12],\n",
       "       [   55,    89]])"
      ]
     },
     "execution_count": 34,
     "metadata": {},
     "output_type": "execute_result"
    }
   ],
   "source": [
    "cnf_matrix = metrics.confusion_matrix(y_test,y_pred)\n",
    "cnf_matrix"
   ]
  },
  {
   "cell_type": "code",
   "execution_count": 35,
   "metadata": {
    "execution": {
     "iopub.execute_input": "2021-01-20T18:37:12.885299Z",
     "iopub.status.busy": "2021-01-20T18:37:12.884616Z",
     "iopub.status.idle": "2021-01-20T18:37:13.014152Z",
     "shell.execute_reply": "2021-01-20T18:37:13.013380Z"
    },
    "papermill": {
     "duration": 0.246925,
     "end_time": "2021-01-20T18:37:13.014278",
     "exception": false,
     "start_time": "2021-01-20T18:37:12.767353",
     "status": "completed"
    },
    "tags": []
   },
   "outputs": [
    {
     "name": "stdout",
     "output_type": "stream",
     "text": [
      "TN:  85287\n",
      "FP:  12\n",
      "FN:  55\n",
      "TP:  89\n",
      "recall =  0.618 precision =  0.881\n",
      "F1 =  0.727\n"
     ]
    }
   ],
   "source": [
    "conf_mx = metrics.confusion_matrix(y_test,y_pred)\n",
    "\n",
    "TN = conf_mx[0,0]\n",
    "FP = conf_mx[0,1]\n",
    "FN = conf_mx[1,0]\n",
    "TP = conf_mx[1,1]\n",
    "\n",
    "print ('TN: ', TN)\n",
    "print ('FP: ', FP)\n",
    "print ('FN: ', FN)\n",
    "print ('TP: ', TP)\n",
    "\n",
    "recall = TP/(TP+FN)\n",
    "precision = TP/(TP+FP)\n",
    "\n",
    "print ('recall = ', round(recall,3), 'precision = ', round(precision,3))\n",
    "\n",
    "F1 = 2 * recall * precision / (recall + precision)\n",
    "print('F1 = ', round(F1,3))"
   ]
  },
  {
   "cell_type": "code",
   "execution_count": 36,
   "metadata": {
    "execution": {
     "iopub.execute_input": "2021-01-20T18:37:13.250689Z",
     "iopub.status.busy": "2021-01-20T18:37:13.249673Z",
     "iopub.status.idle": "2021-01-20T18:37:13.253369Z",
     "shell.execute_reply": "2021-01-20T18:37:13.252860Z"
    },
    "papermill": {
     "duration": 0.130127,
     "end_time": "2021-01-20T18:37:13.253483",
     "exception": false,
     "start_time": "2021-01-20T18:37:13.123356",
     "status": "completed"
    },
    "tags": []
   },
   "outputs": [],
   "source": [
    "def plot_confusion_matrix(cm,target_names,title='Confusion matrix',cmap=None,\n",
    "                          normalize=False):\n",
    "    import itertools\n",
    "    accuracy = np.trace(cm) / float(np.sum(cm))\n",
    "    misclass = 1 - accuracy\n",
    "\n",
    "    if cmap is None:\n",
    "        cmap = plt.get_cmap('Blues')\n",
    "\n",
    "    plt.figure(figsize=(8, 6))\n",
    "    plt.imshow(cm, interpolation='nearest', cmap=cmap)\n",
    "    plt.title(title)\n",
    "    plt.colorbar()\n",
    "\n",
    "    if target_names is not None:\n",
    "        tick_marks = np.arange(len(target_names))\n",
    "        plt.xticks(tick_marks, target_names, rotation=45)\n",
    "        plt.yticks(tick_marks, target_names)\n",
    "        \n",
    "    if normalize:\n",
    "        cm = cm.astype('float') / cm.sum(axis=1)[:, np.newaxis]\n",
    "        \n",
    "    thresh = cm.max() / 1.5 if normalize else cm.max() / 2\n",
    "    for i, j in itertools.product(range(cm.shape[0]), range(cm.shape[1])):\n",
    "        if normalize:\n",
    "            plt.text(j, i, \"{:0.4f}\".format(cm[i, j]),\n",
    "                     horizontalalignment=\"center\",\n",
    "                     color=\"white\" if cm[i, j] > thresh else \"black\")\n",
    "        else:\n",
    "            plt.text(j, i, \"{:,}\".format(cm[i, j]),\n",
    "                     horizontalalignment=\"center\",\n",
    "                     color=\"white\" if cm[i, j] > thresh else \"black\")\n",
    "\n",
    "\n",
    "    plt.tight_layout()\n",
    "    plt.ylabel('True label')\n",
    "    plt.xlabel('Predicted label\\naccuracy={:0.4f}; misclass={:0.4f}'.format(accuracy, misclass))\n",
    "    plt.show()"
   ]
  },
  {
   "cell_type": "code",
   "execution_count": 37,
   "metadata": {
    "execution": {
     "iopub.execute_input": "2021-01-20T18:37:13.487373Z",
     "iopub.status.busy": "2021-01-20T18:37:13.477393Z",
     "iopub.status.idle": "2021-01-20T18:37:13.712548Z",
     "shell.execute_reply": "2021-01-20T18:37:13.711892Z"
    },
    "papermill": {
     "duration": 0.349772,
     "end_time": "2021-01-20T18:37:13.712659",
     "exception": false,
     "start_time": "2021-01-20T18:37:13.362887",
     "status": "completed"
    },
    "tags": []
   },
   "outputs": [
    {
     "data": {
      "image/png": "[encoded data removed]",
      "text/plain": [
       "<Figure size 576x432 with 2 Axes>"
      ]
     },
     "metadata": {},
     "output_type": "display_data"
    }
   ],
   "source": [
    "plot_confusion_matrix(conf_mx, \n",
    "                      normalize    = False,\n",
    "                      target_names = ['Genuine', 'Fraud'],\n",
    "                      title        = \"Confusion Matrix on test\")"
   ]
  },
  {
   "cell_type": "code",
   "execution_count": 38,
   "metadata": {
    "execution": {
     "iopub.execute_input": "2021-01-20T18:37:13.941572Z",
     "iopub.status.busy": "2021-01-20T18:37:13.940460Z",
     "iopub.status.idle": "2021-01-20T18:37:14.230025Z",
     "shell.execute_reply": "2021-01-20T18:37:14.229450Z"
    },
    "papermill": {
     "duration": 0.407854,
     "end_time": "2021-01-20T18:37:14.230142",
     "exception": false,
     "start_time": "2021-01-20T18:37:13.822288",
     "status": "completed"
    },
    "tags": []
   },
   "outputs": [
    {
     "name": "stdout",
     "output_type": "stream",
     "text": [
      "f1=0.727\n"
     ]
    },
    {
     "data": {
      "image/png": "[encoded data removed]",
      "text/plain": [
       "<Figure size 432x288 with 1 Axes>"
      ]
     },
     "metadata": {},
     "output_type": "display_data"
    }
   ],
   "source": [
    "from sklearn.metrics import precision_recall_curve, average_precision_score, auc\n",
    "from sklearn.metrics import roc_curve\n",
    "from sklearn.metrics import roc_auc_score\n",
    "\n",
    "# calculate precision-recall curve\n",
    "precision, recall, thresholds = precision_recall_curve(y_test, y_pred)\n",
    "# calculate F1 score\n",
    "f1 = metrics.f1_score(y_test, y_pred)\n",
    "print('f1=%.3f' % (f1))\n",
    "# plot no skill\n",
    "plt.plot([0, 1], [0.5, 0.5], linestyle='--')\n",
    "# plot the roc curve for the model\n",
    "plt.plot(recall, precision, marker='.')\n",
    "# show the plot\n",
    "plt.show()"
   ]
  },
  {
   "cell_type": "markdown",
   "metadata": {
    "papermill": {
     "duration": 0.111071,
     "end_time": "2021-01-20T18:37:14.453157",
     "exception": false,
     "start_time": "2021-01-20T18:37:14.342086",
     "status": "completed"
    },
    "tags": []
   },
   "source": [
    "### <a id='roccurve'>Receiver Operating Characteristics (ROC)</a>\n",
    "\n",
    "The ROC is a performance measurement for classification problems at various thresholds. It is essentially a probability curve, and the higher the Area Under the Curve (AUC) score the better the model is at predicting fraudulent/non-fraudulent transactions.\n",
    "\n",
    "It is an evaluation metric that helps identify the strength of the model to **distinguish between two outcomes**. It defines if a model can create a clear boundary between the postive and the negative class. \n",
    "\n",
    "<div style='width:100%;'>\n",
    "   <div style='width:30%; float:left;'> <img  src ='https://i.imgur.com/fzBGUDy.jpg' /> </div>\n",
    "   <div style=''> <img  src ='https://i.imgur.com/hZQiNCn.png' /> </div>\n",
    "</div>\n",
    "\n",
    "\n",
    "Let's talk about some definitions first: \n",
    "\n",
    "##### __Sensitivity__ or __Recall__\n",
    "\n",
    "The sensitivity of a model is defined by the proportion of actual positives that are classified as Positives , i.e = TP / ( TP + FN )\n",
    "\n",
    "$$ \\text{Recall or Sensitivity} = \\frac{(TP)}{( TP + FN )} $$\n",
    "\n",
    "<img src = \"https://github.com/dktalaicha/Kaggle/blob/master/CreditCardFraudDetection/images/sens.png?raw=true\">\n",
    "\n",
    "##### __Specificity__\n",
    "\n",
    "The specificity of a model is defined by the proportion of actual negatives that are classified as Negatives , i.e = TN / ( TN + FP )\n",
    "\n",
    "$$ \\text{Specificity} = \\frac{(TN)}{( TN + FP )} $$\n",
    "\n",
    "<img src = \"https://github.com/dktalaicha/Kaggle/blob/master/CreditCardFraudDetection/images/spec.png?raw=true\">\n",
    "\n",
    "As we can see that both are independent of each other and lie in teo different quadrants , we can understand that they are inversely related to each other. Thus as Sensitivity goes up , Specificity goes down and vice versa.\n",
    "\n",
    "### ROC CURVE\n",
    "\n",
    "It is a plot between Sesitivity and ( 1 - Specificity ) , which intuitively is a plot between True Positive Rate and False Positive Rate. \n",
    "It depicts if a model can clearly identify each class or not\n",
    "\n",
    "Higher the area under the curve , better the model and it's ability to seperate the positive and negative class.\n",
    "\n",
    "<img src = \"https://github.com/dktalaicha/Kaggle/blob/master/CreditCardFraudDetection/images/tpfpfntn.jpeg?raw=true\">\n",
    "<img src = \"https://github.com/dktalaicha/Kaggle/blob/master/CreditCardFraudDetection/images/auc.png?raw=true\">\n",
    "<img src = \"https://github.com/dktalaicha/Kaggle/blob/master/CreditCardFraudDetection/images/auc2.png?raw=true\">\n",
    "\n",
    "<img src='https://i.imgur.com/GRuZpez.gif'>"
   ]
  },
  {
   "cell_type": "markdown",
   "metadata": {
    "papermill": {
     "duration": 0.111743,
     "end_time": "2021-01-20T18:37:14.677498",
     "exception": false,
     "start_time": "2021-01-20T18:37:14.565755",
     "status": "completed"
    },
    "tags": []
   },
   "source": [
    "# AUC is not a good metric for imbalanced datasets\n",
    "\n",
    "* Imagine that in the graphs above, one of the groups, the blue right one for example is extremely small...but you can always read about the reasoning of the above statement https://stats.stackexchange.com/questions/262616/roc-vs-precision-recall-curves-on-imbalanced-dataset"
   ]
  },
  {
   "cell_type": "code",
   "execution_count": 39,
   "metadata": {
    "execution": {
     "iopub.execute_input": "2021-01-20T18:37:14.909490Z",
     "iopub.status.busy": "2021-01-20T18:37:14.908323Z",
     "iopub.status.idle": "2021-01-20T18:37:14.928102Z",
     "shell.execute_reply": "2021-01-20T18:37:14.927560Z"
    },
    "papermill": {
     "duration": 0.139027,
     "end_time": "2021-01-20T18:37:14.928227",
     "exception": false,
     "start_time": "2021-01-20T18:37:14.789200",
     "status": "completed"
    },
    "tags": []
   },
   "outputs": [
    {
     "data": {
      "text/plain": [
       "0.8089574369765961"
      ]
     },
     "execution_count": 39,
     "metadata": {},
     "output_type": "execute_result"
    }
   ],
   "source": [
    "metrics.roc_auc_score(y_test , y_pred) "
   ]
  },
  {
   "cell_type": "code",
   "execution_count": 40,
   "metadata": {
    "execution": {
     "iopub.execute_input": "2021-01-20T18:37:15.161485Z",
     "iopub.status.busy": "2021-01-20T18:37:15.160738Z",
     "iopub.status.idle": "2021-01-20T18:37:15.172633Z",
     "shell.execute_reply": "2021-01-20T18:37:15.172009Z"
    },
    "papermill": {
     "duration": 0.131868,
     "end_time": "2021-01-20T18:37:15.172779",
     "exception": false,
     "start_time": "2021-01-20T18:37:15.040911",
     "status": "completed"
    },
    "tags": []
   },
   "outputs": [
    {
     "data": {
      "text/plain": [
       "array([[9.99571959e-01, 4.28041024e-04],\n",
       "       [9.99868146e-01, 1.31853716e-04],\n",
       "       [9.99790889e-01, 2.09111435e-04],\n",
       "       ...,\n",
       "       [9.99657791e-01, 3.42208874e-04],\n",
       "       [9.99702346e-01, 2.97654101e-04],\n",
       "       [9.99869683e-01, 1.30316966e-04]])"
      ]
     },
     "execution_count": 40,
     "metadata": {},
     "output_type": "execute_result"
    }
   ],
   "source": [
    "y_pred_proba = logreg.predict_proba(X_test)\n",
    "y_pred_proba"
   ]
  },
  {
   "cell_type": "code",
   "execution_count": 41,
   "metadata": {
    "execution": {
     "iopub.execute_input": "2021-01-20T18:37:15.407377Z",
     "iopub.status.busy": "2021-01-20T18:37:15.400649Z",
     "iopub.status.idle": "2021-01-20T18:37:15.718797Z",
     "shell.execute_reply": "2021-01-20T18:37:15.718139Z"
    },
    "papermill": {
     "duration": 0.432906,
     "end_time": "2021-01-20T18:37:15.718927",
     "exception": false,
     "start_time": "2021-01-20T18:37:15.286021",
     "status": "completed"
    },
    "tags": []
   },
   "outputs": [
    {
     "name": "stdout",
     "output_type": "stream",
     "text": [
      "AUC -  0.8089574369765961 \n",
      "\n"
     ]
    },
    {
     "data": {
      "image/png": "[encoded data removed]",
      "text/plain": [
       "<Figure size 576x432 with 1 Axes>"
      ]
     },
     "metadata": {},
     "output_type": "display_data"
    }
   ],
   "source": [
    "# plot ROC Curve\n",
    "\n",
    "plt.figure(figsize=(8,6))\n",
    "\n",
    "fpr, tpr, thresholds = metrics.roc_curve(y_test, y_pred)\n",
    "\n",
    "auc = metrics.roc_auc_score(y_test, y_pred)\n",
    "print(\"AUC - \",auc,\"\\n\")\n",
    "\n",
    "plt.plot(fpr,tpr,linewidth=2, label=\"data 1, auc=\"+str(auc))\n",
    "plt.legend(loc=4)\n",
    "\n",
    "plt.plot([0,1], [0,1], 'k--' )\n",
    "\n",
    "plt.rcParams['font.size'] = 12\n",
    "plt.title('ROC curve for Predicting a credit card fraud detection')\n",
    "plt.xlabel('False Positive Rate (1 - Specificity)')\n",
    "plt.ylabel('True Positive Rate (Sensitivity)')\n",
    "\n",
    "plt.show()"
   ]
  },
  {
   "cell_type": "markdown",
   "metadata": {
    "papermill": {
     "duration": 0.112832,
     "end_time": "2021-01-20T18:37:15.944741",
     "exception": false,
     "start_time": "2021-01-20T18:37:15.831909",
     "status": "completed"
    },
    "tags": []
   },
   "source": [
    "# <a id='classimbalance'>Class Imbalance</a>\n",
    "\n",
    "Imbalanced data typically refers to a problem with classification problems where the classes are not represented equally.  If one applies classifiers on the dataset, they are likely to predict everything as the majority class. This was often regarded as a problem in learning from highly imbalanced datasets.\n",
    "\n",
    "<img src='https://i.imgur.com/uqh1peJ.gif' />\n",
    "\n",
    "\n",
    "Let's Fix the class Imbalance and apply some sampling techniques.\n",
    "\n",
    "\n",
    "Ref : https://machinelearningmastery.com/tactics-to-combat-imbalanced-classes-in-your-machine-learning-dataset/"
   ]
  },
  {
   "cell_type": "markdown",
   "metadata": {
    "papermill": {
     "duration": 0.113349,
     "end_time": "2021-01-20T18:37:16.171957",
     "exception": false,
     "start_time": "2021-01-20T18:37:16.058608",
     "status": "completed"
    },
    "tags": []
   },
   "source": [
    "## <a id='undovrsamp'>Under Sampling and Over Sampling</a>\n",
    "\n",
    "Oversampling and undersampling in data analysis are techniques used to adjust the class distribution of a data set. \n",
    "\n",
    "* Random oversampling duplicates examples from the minority class in the training dataset and can result in overfitting for some models.\n",
    "\n",
    "* Random undersampling deletes examples from the majority class and can result in losing information invaluable to a model.\n",
    "\n",
    "<img src = 'https://github.com/dktalaicha/Kaggle/blob/master/CreditCardFraudDetection/images/under_over_sampling.jpg?raw=true'>\n",
    "\n",
    "## <a id='smote'>Synthetic Minority OverSampling Technique (SMOTE)</a>\n",
    "\n",
    "In this technique, instead of simply duplicating data from the minority class, we synthesize new data from the minority class. This is a type of data augmentation for tabular data can be very effective. This approach to synthesizing new data is called the Synthetic Minority Oversampling TEchnique, or SMOTE for short. \n",
    "\n",
    "<img src='https://github.com/dktalaicha/Kaggle/blob/master/CreditCardFraudDetection/images/smote.png?raw=true'>\n",
    "\n",
    "## <a id='adasyn'>Adaptive Synthetic Sampling Method for Imbalanced Data (ADASYN)</a>\n",
    "\n",
    "ADASYN (Adaptive Synthetic) is an algorithm that generates synthetic data, and its greatest advantages are not copying the same minority data, and generating more data for “harder to learn” examples.\n",
    "\n",
    "Ref : https://medium.com/@ruinian/an-introduction-to-adasyn-with-code-1383a5ece7aa"
   ]
  },
  {
   "cell_type": "markdown",
   "metadata": {
    "papermill": {
     "duration": 0.112205,
     "end_time": "2021-01-20T18:37:16.397436",
     "exception": false,
     "start_time": "2021-01-20T18:37:16.285231",
     "status": "completed"
    },
    "tags": []
   },
   "source": [
    "## Import imbalace technique algorithms"
   ]
  },
  {
   "cell_type": "code",
   "execution_count": 42,
   "metadata": {
    "execution": {
     "iopub.execute_input": "2021-01-20T18:37:16.629107Z",
     "iopub.status.busy": "2021-01-20T18:37:16.628409Z",
     "iopub.status.idle": "2021-01-20T18:37:16.881604Z",
     "shell.execute_reply": "2021-01-20T18:37:16.880850Z"
    },
    "papermill": {
     "duration": 0.371505,
     "end_time": "2021-01-20T18:37:16.881725",
     "exception": false,
     "start_time": "2021-01-20T18:37:16.510220",
     "status": "completed"
    },
    "tags": []
   },
   "outputs": [],
   "source": [
    "# Import imbalace technique algorithims\n",
    "from sklearn.metrics import precision_score, recall_score, f1_score, roc_auc_score, accuracy_score, classification_report\n",
    "from imblearn.over_sampling import SMOTE, ADASYN\n",
    "from imblearn.under_sampling import RandomUnderSampler"
   ]
  },
  {
   "cell_type": "markdown",
   "metadata": {
    "papermill": {
     "duration": 0.11487,
     "end_time": "2021-01-20T18:37:17.116525",
     "exception": false,
     "start_time": "2021-01-20T18:37:17.001655",
     "status": "completed"
    },
    "tags": []
   },
   "source": [
    "## <a id='logregundsamp'>1.2.Logistic Regression with Random Undersampling technique</a>"
   ]
  },
  {
   "cell_type": "code",
   "execution_count": 43,
   "metadata": {
    "execution": {
     "iopub.execute_input": "2021-01-20T18:37:17.349885Z",
     "iopub.status.busy": "2021-01-20T18:37:17.349238Z",
     "iopub.status.idle": "2021-01-20T18:37:17.431048Z",
     "shell.execute_reply": "2021-01-20T18:37:17.430402Z"
    },
    "papermill": {
     "duration": 0.201467,
     "end_time": "2021-01-20T18:37:17.431238",
     "exception": false,
     "start_time": "2021-01-20T18:37:17.229771",
     "status": "completed"
    },
    "tags": []
   },
   "outputs": [],
   "source": [
    "from collections import Counter # counter takes values returns value_counts dictionary\n",
    "from sklearn.datasets import make_classification"
   ]
  },
  {
   "cell_type": "code",
   "execution_count": 44,
   "metadata": {
    "execution": {
     "iopub.execute_input": "2021-01-20T18:37:17.666857Z",
     "iopub.status.busy": "2021-01-20T18:37:17.665788Z",
     "iopub.status.idle": "2021-01-20T18:37:17.771874Z",
     "shell.execute_reply": "2021-01-20T18:37:17.771257Z"
    },
    "papermill": {
     "duration": 0.226972,
     "end_time": "2021-01-20T18:37:17.772009",
     "exception": false,
     "start_time": "2021-01-20T18:37:17.545037",
     "status": "completed"
    },
    "tags": []
   },
   "outputs": [
    {
     "name": "stdout",
     "output_type": "stream",
     "text": [
      "X_train -  (199364, 31)\n",
      "y_train -  (199364,)\n",
      "X_test -  (85443, 31)\n",
      "y_test -  (85443,)\n"
     ]
    }
   ],
   "source": [
    "# Split BEFORE any oversampling - prevent data leakage\n",
    "\n",
    "X_train, X_test, y_train, y_test = train_test_split(X, y, test_size=0.3, shuffle=True, random_state=0)\n",
    "print(\"X_train - \",X_train.shape)\n",
    "print(\"y_train - \",y_train.shape)\n",
    "print(\"X_test - \",X_test.shape)\n",
    "print(\"y_test - \",y_test.shape)"
   ]
  },
  {
   "cell_type": "code",
   "execution_count": 45,
   "metadata": {
    "execution": {
     "iopub.execute_input": "2021-01-20T18:37:18.047137Z",
     "iopub.status.busy": "2021-01-20T18:37:18.045644Z",
     "iopub.status.idle": "2021-01-20T18:37:18.147362Z",
     "shell.execute_reply": "2021-01-20T18:37:18.147843Z"
    },
    "papermill": {
     "duration": 0.260293,
     "end_time": "2021-01-20T18:37:18.148010",
     "exception": false,
     "start_time": "2021-01-20T18:37:17.887717",
     "status": "completed"
    },
    "tags": []
   },
   "outputs": [
    {
     "name": "stdout",
     "output_type": "stream",
     "text": [
      "Original dataset shape Counter({0: 199019, 1: 345})\n",
      "Resampled dataset shape Counter({0: 345, 1: 345})\n",
      "X_train -  (690, 31)\n",
      "y_train -  (690,)\n",
      "X_test -  (85443, 31)\n",
      "y_test -  (85443,)\n"
     ]
    }
   ],
   "source": [
    "# Undersampling only on train\n",
    "\n",
    "print('Original dataset shape %s' % Counter(y_train))\n",
    "random_state = 42\n",
    "\n",
    "rus = RandomUnderSampler(random_state=random_state)\n",
    "X_res, y_res = rus.fit_resample(X_train, y_train)\n",
    "\n",
    "print('Resampled dataset shape %s' % Counter(y_res))\n",
    "\n",
    "X_train = X_res\n",
    "y_train = y_res\n",
    "\n",
    "print(\"X_train - \",X_train.shape)\n",
    "print(\"y_train - \",y_train.shape)\n",
    "print(\"X_test - \",X_test.shape)\n",
    "print(\"y_test - \",y_test.shape)"
   ]
  },
  {
   "cell_type": "code",
   "execution_count": 46,
   "metadata": {
    "execution": {
     "iopub.execute_input": "2021-01-20T18:37:18.387868Z",
     "iopub.status.busy": "2021-01-20T18:37:18.386713Z",
     "iopub.status.idle": "2021-01-20T18:37:18.414449Z",
     "shell.execute_reply": "2021-01-20T18:37:18.413701Z"
    },
    "papermill": {
     "duration": 0.151892,
     "end_time": "2021-01-20T18:37:18.414592",
     "exception": false,
     "start_time": "2021-01-20T18:37:18.262700",
     "status": "completed"
    },
    "tags": []
   },
   "outputs": [],
   "source": [
    "# Undersampling with Logistic Regression\n",
    "logreg = LogisticRegression()\n",
    "logreg.fit(X_train, y_train)\n",
    "\n",
    "y_pred = logreg.predict(X_test)"
   ]
  },
  {
   "cell_type": "code",
   "execution_count": 47,
   "metadata": {
    "execution": {
     "iopub.execute_input": "2021-01-20T18:37:18.662577Z",
     "iopub.status.busy": "2021-01-20T18:37:18.661547Z",
     "iopub.status.idle": "2021-01-20T18:37:18.790266Z",
     "shell.execute_reply": "2021-01-20T18:37:18.791059Z"
    },
    "papermill": {
     "duration": 0.256915,
     "end_time": "2021-01-20T18:37:18.791276",
     "exception": false,
     "start_time": "2021-01-20T18:37:18.534361",
     "status": "completed"
    },
    "tags": []
   },
   "outputs": [
    {
     "name": "stdout",
     "output_type": "stream",
     "text": [
      "TN:  83085\n",
      "FP:  2211\n",
      "FN:  13\n",
      "TP:  134\n",
      "recall =  0.912 precision =  0.057\n",
      "F1 =  0.108\n"
     ]
    }
   ],
   "source": [
    "conf_mx = metrics.confusion_matrix(y_test,y_pred)\n",
    "\n",
    "TN = conf_mx[0,0]\n",
    "FP = conf_mx[0,1]\n",
    "FN = conf_mx[1,0]\n",
    "TP = conf_mx[1,1]\n",
    "\n",
    "print ('TN: ', TN)\n",
    "print ('FP: ', FP)\n",
    "print ('FN: ', FN)\n",
    "print ('TP: ', TP)\n",
    "\n",
    "recall = TP/(TP+FN)\n",
    "precision = TP/(TP+FP)\n",
    "\n",
    "print ('recall = ', round(recall,3), 'precision = ', round(precision,3))\n",
    "\n",
    "F1 = 2 * recall * precision / (recall + precision)\n",
    "print('F1 = ', round(F1,3))"
   ]
  },
  {
   "cell_type": "code",
   "execution_count": 48,
   "metadata": {
    "execution": {
     "iopub.execute_input": "2021-01-20T18:37:19.027818Z",
     "iopub.status.busy": "2021-01-20T18:37:19.027127Z",
     "iopub.status.idle": "2021-01-20T18:37:19.265069Z",
     "shell.execute_reply": "2021-01-20T18:37:19.264240Z"
    },
    "papermill": {
     "duration": 0.357218,
     "end_time": "2021-01-20T18:37:19.265188",
     "exception": false,
     "start_time": "2021-01-20T18:37:18.907970",
     "status": "completed"
    },
    "tags": []
   },
   "outputs": [
    {
     "data": {
      "image/png": "[encoded data removed]",
      "text/plain": [
       "<Figure size 576x432 with 2 Axes>"
      ]
     },
     "metadata": {},
     "output_type": "display_data"
    }
   ],
   "source": [
    "plot_confusion_matrix(conf_mx, \n",
    "                      normalize    = False,\n",
    "                      target_names = ['Genuine', 'Fraud'],\n",
    "                      title        = \"Confusion Matrix on test\")"
   ]
  },
  {
   "cell_type": "code",
   "execution_count": 49,
   "metadata": {
    "execution": {
     "iopub.execute_input": "2021-01-20T18:37:19.520669Z",
     "iopub.status.busy": "2021-01-20T18:37:19.519964Z",
     "iopub.status.idle": "2021-01-20T18:37:19.624489Z",
     "shell.execute_reply": "2021-01-20T18:37:19.625159Z"
    },
    "papermill": {
     "duration": 0.235624,
     "end_time": "2021-01-20T18:37:19.625339",
     "exception": false,
     "start_time": "2021-01-20T18:37:19.389715",
     "status": "completed"
    },
    "tags": []
   },
   "outputs": [
    {
     "name": "stdout",
     "output_type": "stream",
     "text": [
      "Accuracy :0.97397\n",
      "AUC : 0.94282\n",
      "Precision : 0.05714\n",
      "Recall : 0.91156\n",
      "F1 : 0.10754\n"
     ]
    }
   ],
   "source": [
    "print('Accuracy :{0:0.5f}'.format(metrics.accuracy_score(y_pred , y_test))) \n",
    "print('AUC : {0:0.5f}'.format(metrics.roc_auc_score(y_test , y_pred)))\n",
    "print('Precision : {0:0.5f}'.format(metrics.precision_score(y_test , y_pred)))\n",
    "print('Recall : {0:0.5f}'.format(metrics.recall_score(y_test , y_pred)))\n",
    "print('F1 : {0:0.5f}'.format(metrics.f1_score(y_test , y_pred)))"
   ]
  },
  {
   "cell_type": "code",
   "execution_count": 50,
   "metadata": {
    "execution": {
     "iopub.execute_input": "2021-01-20T18:37:19.868872Z",
     "iopub.status.busy": "2021-01-20T18:37:19.868227Z",
     "iopub.status.idle": "2021-01-20T18:37:20.471676Z",
     "shell.execute_reply": "2021-01-20T18:37:20.470967Z"
    },
    "papermill": {
     "duration": 0.727853,
     "end_time": "2021-01-20T18:37:20.471800",
     "exception": false,
     "start_time": "2021-01-20T18:37:19.743947",
     "status": "completed"
    },
    "tags": []
   },
   "outputs": [
    {
     "name": "stdout",
     "output_type": "stream",
     "text": [
      "f1=0.108\n"
     ]
    },
    {
     "data": {
      "image/png": "[encoded data removed]",
      "text/plain": [
       "<Figure size 432x288 with 1 Axes>"
      ]
     },
     "metadata": {},
     "output_type": "display_data"
    }
   ],
   "source": [
    "# calculate precision-recall curve\n",
    "precision, recall, thresholds = precision_recall_curve(y_test, y_pred)\n",
    "# calculate F1 score\n",
    "f1 = metrics.f1_score(y_test, y_pred)\n",
    "print('f1=%.3f' % (f1))\n",
    "# plot no skill\n",
    "plt.plot([0, 1], [0.5, 0.5], linestyle='--')\n",
    "# plot the roc curve for the model\n",
    "plt.plot(recall, precision, marker='.')\n",
    "# show the plot\n",
    "plt.show()"
   ]
  },
  {
   "cell_type": "markdown",
   "metadata": {
    "papermill": {
     "duration": 0.120246,
     "end_time": "2021-01-20T18:37:20.709697",
     "exception": false,
     "start_time": "2021-01-20T18:37:20.589451",
     "status": "completed"
    },
    "tags": []
   },
   "source": [
    "## <a id='logregovrsamp'>1.3.Logistic Regression with Random Oversampling technique</a>"
   ]
  },
  {
   "cell_type": "code",
   "execution_count": 51,
   "metadata": {
    "execution": {
     "iopub.execute_input": "2021-01-20T18:37:20.951774Z",
     "iopub.status.busy": "2021-01-20T18:37:20.951119Z",
     "iopub.status.idle": "2021-01-20T18:37:20.954313Z",
     "shell.execute_reply": "2021-01-20T18:37:20.953627Z"
    },
    "papermill": {
     "duration": 0.126382,
     "end_time": "2021-01-20T18:37:20.954435",
     "exception": false,
     "start_time": "2021-01-20T18:37:20.828053",
     "status": "completed"
    },
    "tags": []
   },
   "outputs": [],
   "source": [
    "from imblearn.over_sampling import RandomOverSampler"
   ]
  },
  {
   "cell_type": "markdown",
   "metadata": {
    "papermill": {
     "duration": 0.118455,
     "end_time": "2021-01-20T18:37:21.192624",
     "exception": false,
     "start_time": "2021-01-20T18:37:21.074169",
     "status": "completed"
    },
    "tags": []
   },
   "source": [
    "# Modified the original nb so the test is separated BEFORE any oversampling - to prevent data leakage\n",
    "\n",
    "Identical samples in the train AND test = data leakage....\n",
    "\n",
    "Oversampling is performed ONLY on train"
   ]
  },
  {
   "cell_type": "code",
   "execution_count": 52,
   "metadata": {
    "execution": {
     "iopub.execute_input": "2021-01-20T18:37:21.445021Z",
     "iopub.status.busy": "2021-01-20T18:37:21.437923Z",
     "iopub.status.idle": "2021-01-20T18:37:21.533550Z",
     "shell.execute_reply": "2021-01-20T18:37:21.532708Z"
    },
    "papermill": {
     "duration": 0.221602,
     "end_time": "2021-01-20T18:37:21.533676",
     "exception": false,
     "start_time": "2021-01-20T18:37:21.312074",
     "status": "completed"
    },
    "tags": []
   },
   "outputs": [
    {
     "name": "stdout",
     "output_type": "stream",
     "text": [
      "X_train -  (199364, 31)\n",
      "y_train -  (199364,)\n",
      "X_test -  (85443, 31)\n",
      "y_test -  (85443,)\n"
     ]
    }
   ],
   "source": [
    "# Split BEFORE any oversampling - prevent data leakage\n",
    "\n",
    "X_train, X_test, y_train, y_test = train_test_split(X, y, test_size=0.3, shuffle=True, random_state=0)\n",
    "print(\"X_train - \",X_train.shape)\n",
    "print(\"y_train - \",y_train.shape)\n",
    "print(\"X_test - \",X_test.shape)\n",
    "print(\"y_test - \",y_test.shape)"
   ]
  },
  {
   "cell_type": "code",
   "execution_count": 53,
   "metadata": {
    "execution": {
     "iopub.execute_input": "2021-01-20T18:37:21.818197Z",
     "iopub.status.busy": "2021-01-20T18:37:21.817480Z",
     "iopub.status.idle": "2021-01-20T18:37:22.340723Z",
     "shell.execute_reply": "2021-01-20T18:37:22.340166Z"
    },
    "papermill": {
     "duration": 0.688433,
     "end_time": "2021-01-20T18:37:22.340850",
     "exception": false,
     "start_time": "2021-01-20T18:37:21.652417",
     "status": "completed"
    },
    "tags": []
   },
   "outputs": [
    {
     "name": "stdout",
     "output_type": "stream",
     "text": [
      "Original dataset shape Counter({0: 199019, 1: 345})\n",
      "Resampled dataset shape Counter({0: 199019, 1: 199019})\n",
      "X_train -  (398038, 31)\n",
      "y_train -  (398038,)\n",
      "X_test -  (85443, 31)\n",
      "y_test -  (85443,)\n"
     ]
    }
   ],
   "source": [
    "# Oversampling only on train\n",
    "\n",
    "print('Original dataset shape %s' % Counter(y_train))\n",
    "random_state = 42\n",
    "\n",
    "ros = RandomOverSampler(random_state=random_state)\n",
    "X_res, y_res = ros.fit_resample(X_train, y_train)\n",
    "\n",
    "print('Resampled dataset shape %s' % Counter(y_res))\n",
    "\n",
    "X_train = X_res\n",
    "y_train = y_res\n",
    "\n",
    "print(\"X_train - \",X_train.shape)\n",
    "print(\"y_train - \",y_train.shape)\n",
    "print(\"X_test - \",X_test.shape)\n",
    "print(\"y_test - \",y_test.shape)"
   ]
  },
  {
   "cell_type": "code",
   "execution_count": 54,
   "metadata": {
    "execution": {
     "iopub.execute_input": "2021-01-20T18:37:22.588012Z",
     "iopub.status.busy": "2021-01-20T18:37:22.587256Z",
     "iopub.status.idle": "2021-01-20T18:37:26.294769Z",
     "shell.execute_reply": "2021-01-20T18:37:26.293982Z"
    },
    "papermill": {
     "duration": 3.83399,
     "end_time": "2021-01-20T18:37:26.294934",
     "exception": false,
     "start_time": "2021-01-20T18:37:22.460944",
     "status": "completed"
    },
    "tags": []
   },
   "outputs": [],
   "source": [
    "# Oversampling with Logistic Regression\n",
    "\n",
    "logreg = LogisticRegression()\n",
    "logreg.fit(X_train, y_train)\n",
    "\n",
    "y_pred = logreg.predict(X_test)"
   ]
  },
  {
   "cell_type": "code",
   "execution_count": 55,
   "metadata": {
    "execution": {
     "iopub.execute_input": "2021-01-20T18:37:26.547066Z",
     "iopub.status.busy": "2021-01-20T18:37:26.546033Z",
     "iopub.status.idle": "2021-01-20T18:37:26.647259Z",
     "shell.execute_reply": "2021-01-20T18:37:26.647739Z"
    },
    "papermill": {
     "duration": 0.228426,
     "end_time": "2021-01-20T18:37:26.647920",
     "exception": false,
     "start_time": "2021-01-20T18:37:26.419494",
     "status": "completed"
    },
    "tags": []
   },
   "outputs": [
    {
     "name": "stdout",
     "output_type": "stream",
     "text": [
      "Accuracy :0.97717\n",
      "AUC : 0.94442\n",
      "Precision : 0.06467\n",
      "Recall : 0.91156\n",
      "F1 : 0.12078\n"
     ]
    }
   ],
   "source": [
    "print('Accuracy :{0:0.5f}'.format(metrics.accuracy_score(y_test , y_pred))) \n",
    "print('AUC : {0:0.5f}'.format(metrics.roc_auc_score(y_test , y_pred)))\n",
    "print('Precision : {0:0.5f}'.format(metrics.precision_score(y_test , y_pred)))\n",
    "print('Recall : {0:0.5f}'.format(metrics.recall_score(y_test , y_pred)))\n",
    "print('F1 : {0:0.5f}'.format(metrics.f1_score(y_test , y_pred)))"
   ]
  },
  {
   "cell_type": "markdown",
   "metadata": {
    "papermill": {
     "duration": 0.120367,
     "end_time": "2021-01-20T18:37:26.888970",
     "exception": false,
     "start_time": "2021-01-20T18:37:26.768603",
     "status": "completed"
    },
    "tags": []
   },
   "source": [
    "### F1 on test: 0.94 with data leakage vs 0.12 without "
   ]
  },
  {
   "cell_type": "code",
   "execution_count": 56,
   "metadata": {
    "execution": {
     "iopub.execute_input": "2021-01-20T18:37:27.141968Z",
     "iopub.status.busy": "2021-01-20T18:37:27.140843Z",
     "iopub.status.idle": "2021-01-20T18:37:27.270007Z",
     "shell.execute_reply": "2021-01-20T18:37:27.270752Z"
    },
    "papermill": {
     "duration": 0.260018,
     "end_time": "2021-01-20T18:37:27.270993",
     "exception": false,
     "start_time": "2021-01-20T18:37:27.010975",
     "status": "completed"
    },
    "tags": []
   },
   "outputs": [
    {
     "name": "stdout",
     "output_type": "stream",
     "text": [
      "TN:  83358\n",
      "FP:  1938\n",
      "FN:  13\n",
      "TP:  134\n",
      "recall =  0.912 precision =  0.065\n",
      "F1 =  0.121\n"
     ]
    }
   ],
   "source": [
    "conf_mx = metrics.confusion_matrix(y_test,y_pred)\n",
    "\n",
    "TN = conf_mx[0,0]\n",
    "FP = conf_mx[0,1]\n",
    "FN = conf_mx[1,0]\n",
    "TP = conf_mx[1,1]\n",
    "\n",
    "print ('TN: ', TN)\n",
    "print ('FP: ', FP)\n",
    "print ('FN: ', FN)\n",
    "print ('TP: ', TP)\n",
    "\n",
    "recall = TP/(TP+FN)\n",
    "precision = TP/(TP+FP)\n",
    "\n",
    "print ('recall = ', round(recall,3), 'precision = ', round(precision,3))\n",
    "\n",
    "F1 = 2 * recall * precision / (recall + precision)\n",
    "print('F1 = ', round(F1,3))"
   ]
  },
  {
   "cell_type": "code",
   "execution_count": 57,
   "metadata": {
    "execution": {
     "iopub.execute_input": "2021-01-20T18:37:27.529676Z",
     "iopub.status.busy": "2021-01-20T18:37:27.518303Z",
     "iopub.status.idle": "2021-01-20T18:37:27.769860Z",
     "shell.execute_reply": "2021-01-20T18:37:27.769087Z"
    },
    "papermill": {
     "duration": 0.377908,
     "end_time": "2021-01-20T18:37:27.770041",
     "exception": false,
     "start_time": "2021-01-20T18:37:27.392133",
     "status": "completed"
    },
    "tags": []
   },
   "outputs": [
    {
     "data": {
      "image/png": "[encoded data removed]",
      "text/plain": [
       "<Figure size 576x432 with 2 Axes>"
      ]
     },
     "metadata": {},
     "output_type": "display_data"
    }
   ],
   "source": [
    "plot_confusion_matrix(conf_mx, \n",
    "                      normalize    = False,\n",
    "                      target_names = ['Genuine', 'Fraud'],\n",
    "                      title        = \"Confusion Matrix on test\")"
   ]
  },
  {
   "cell_type": "markdown",
   "metadata": {
    "papermill": {
     "duration": 0.13706,
     "end_time": "2021-01-20T18:37:28.046770",
     "exception": false,
     "start_time": "2021-01-20T18:37:27.909710",
     "status": "completed"
    },
    "tags": []
   },
   "source": [
    "## <a id='logregsomote'>1.4 Logistic Regression with SMOTE data</a>"
   ]
  },
  {
   "cell_type": "code",
   "execution_count": 58,
   "metadata": {
    "execution": {
     "iopub.execute_input": "2021-01-20T18:37:28.301579Z",
     "iopub.status.busy": "2021-01-20T18:37:28.300511Z",
     "iopub.status.idle": "2021-01-20T18:37:28.304105Z",
     "shell.execute_reply": "2021-01-20T18:37:28.303523Z"
    },
    "papermill": {
     "duration": 0.131819,
     "end_time": "2021-01-20T18:37:28.304230",
     "exception": false,
     "start_time": "2021-01-20T18:37:28.172411",
     "status": "completed"
    },
    "tags": []
   },
   "outputs": [],
   "source": [
    "from imblearn.over_sampling import SMOTE, ADASYN"
   ]
  },
  {
   "cell_type": "code",
   "execution_count": 59,
   "metadata": {
    "execution": {
     "iopub.execute_input": "2021-01-20T18:37:28.563081Z",
     "iopub.status.busy": "2021-01-20T18:37:28.562172Z",
     "iopub.status.idle": "2021-01-20T18:37:28.655259Z",
     "shell.execute_reply": "2021-01-20T18:37:28.655787Z"
    },
    "papermill": {
     "duration": 0.22294,
     "end_time": "2021-01-20T18:37:28.655969",
     "exception": false,
     "start_time": "2021-01-20T18:37:28.433029",
     "status": "completed"
    },
    "tags": []
   },
   "outputs": [
    {
     "name": "stdout",
     "output_type": "stream",
     "text": [
      "X_train -  (199364, 31)\n",
      "y_train -  (199364,)\n",
      "X_test -  (85443, 31)\n",
      "y_test -  (85443,)\n"
     ]
    }
   ],
   "source": [
    "# Split BEFORE any oversampling - prevent data leakage\n",
    "\n",
    "X_train, X_test, y_train, y_test = train_test_split(X, y, test_size=0.3, shuffle=True, random_state=0)\n",
    "print(\"X_train - \",X_train.shape)\n",
    "print(\"y_train - \",y_train.shape)\n",
    "print(\"X_test - \",X_test.shape)\n",
    "print(\"y_test - \",y_test.shape)"
   ]
  },
  {
   "cell_type": "code",
   "execution_count": 60,
   "metadata": {
    "execution": {
     "iopub.execute_input": "2021-01-20T18:37:28.917959Z",
     "iopub.status.busy": "2021-01-20T18:37:28.916969Z",
     "iopub.status.idle": "2021-01-20T18:37:29.438674Z",
     "shell.execute_reply": "2021-01-20T18:37:29.439798Z"
    },
    "papermill": {
     "duration": 0.652097,
     "end_time": "2021-01-20T18:37:29.439978",
     "exception": false,
     "start_time": "2021-01-20T18:37:28.787881",
     "status": "completed"
    },
    "tags": []
   },
   "outputs": [
    {
     "name": "stdout",
     "output_type": "stream",
     "text": [
      "Original dataset shape Counter({0: 199019, 1: 345})\n",
      "Resampled dataset shape Counter({0: 199019, 1: 199019})\n",
      "X_train -  (398038, 31)\n",
      "y_train -  (398038,)\n",
      "X_test -  (85443, 31)\n",
      "y_test -  (85443,)\n"
     ]
    }
   ],
   "source": [
    "# Oversampling only on train\n",
    "\n",
    "print('Original dataset shape %s' % Counter(y_train))\n",
    "random_state = 42\n",
    "\n",
    "smote = SMOTE(random_state=42)\n",
    "X_res, y_res = smote.fit_resample(X_train, y_train)\n",
    "\n",
    "print('Resampled dataset shape %s' % Counter(y_res))\n",
    "\n",
    "X_train = X_res\n",
    "y_train = y_res\n",
    "\n",
    "print(\"X_train - \",X_train.shape)\n",
    "print(\"y_train - \",y_train.shape)\n",
    "print(\"X_test - \",X_test.shape)\n",
    "print(\"y_test - \",y_test.shape)"
   ]
  },
  {
   "cell_type": "code",
   "execution_count": 61,
   "metadata": {
    "execution": {
     "iopub.execute_input": "2021-01-20T18:37:29.697340Z",
     "iopub.status.busy": "2021-01-20T18:37:29.696360Z",
     "iopub.status.idle": "2021-01-20T18:37:34.358314Z",
     "shell.execute_reply": "2021-01-20T18:37:34.357549Z"
    },
    "papermill": {
     "duration": 4.794364,
     "end_time": "2021-01-20T18:37:34.358440",
     "exception": false,
     "start_time": "2021-01-20T18:37:29.564076",
     "status": "completed"
    },
    "tags": []
   },
   "outputs": [],
   "source": [
    "\n",
    "# SMOTE Sampling with Logistic Regression\n",
    "logreg = LogisticRegression(max_iter=1000)\n",
    "logreg.fit(X_train, y_train)\n",
    "\n",
    "y_pred = logreg.predict(X_test)"
   ]
  },
  {
   "cell_type": "code",
   "execution_count": 62,
   "metadata": {
    "execution": {
     "iopub.execute_input": "2021-01-20T18:37:34.616413Z",
     "iopub.status.busy": "2021-01-20T18:37:34.615608Z",
     "iopub.status.idle": "2021-01-20T18:37:34.720433Z",
     "shell.execute_reply": "2021-01-20T18:37:34.719683Z"
    },
    "papermill": {
     "duration": 0.23687,
     "end_time": "2021-01-20T18:37:34.720582",
     "exception": false,
     "start_time": "2021-01-20T18:37:34.483712",
     "status": "completed"
    },
    "tags": []
   },
   "outputs": [
    {
     "name": "stdout",
     "output_type": "stream",
     "text": [
      "Accuracy :0.97561\n",
      "AUC : 0.94704\n",
      "Precision : 0.06117\n",
      "Recall : 0.91837\n",
      "F1 : 0.11470\n"
     ]
    }
   ],
   "source": [
    "print('Accuracy :{0:0.5f}'.format(metrics.accuracy_score(y_test , y_pred))) \n",
    "print('AUC : {0:0.5f}'.format(metrics.roc_auc_score(y_test , y_pred)))\n",
    "print('Precision : {0:0.5f}'.format(metrics.precision_score(y_test , y_pred)))\n",
    "print('Recall : {0:0.5f}'.format(metrics.recall_score(y_test , y_pred)))\n",
    "print('F1 : {0:0.5f}'.format(metrics.f1_score(y_test , y_pred)))"
   ]
  },
  {
   "cell_type": "code",
   "execution_count": 63,
   "metadata": {
    "execution": {
     "iopub.execute_input": "2021-01-20T18:37:34.976068Z",
     "iopub.status.busy": "2021-01-20T18:37:34.974991Z",
     "iopub.status.idle": "2021-01-20T18:37:35.111651Z",
     "shell.execute_reply": "2021-01-20T18:37:35.110963Z"
    },
    "papermill": {
     "duration": 0.266134,
     "end_time": "2021-01-20T18:37:35.111781",
     "exception": false,
     "start_time": "2021-01-20T18:37:34.845647",
     "status": "completed"
    },
    "tags": []
   },
   "outputs": [
    {
     "name": "stdout",
     "output_type": "stream",
     "text": [
      "TN:  83224\n",
      "FP:  2072\n",
      "FN:  12\n",
      "TP:  135\n",
      "recall =  0.918 precision =  0.061\n",
      "F1 =  0.115\n"
     ]
    }
   ],
   "source": [
    "conf_mx = metrics.confusion_matrix(y_test,y_pred)\n",
    "\n",
    "TN = conf_mx[0,0]\n",
    "FP = conf_mx[0,1]\n",
    "FN = conf_mx[1,0]\n",
    "TP = conf_mx[1,1]\n",
    "\n",
    "print ('TN: ', TN)\n",
    "print ('FP: ', FP)\n",
    "print ('FN: ', FN)\n",
    "print ('TP: ', TP)\n",
    "\n",
    "recall = TP/(TP+FN)\n",
    "precision = TP/(TP+FP)\n",
    "\n",
    "print ('recall = ', round(recall,3), 'precision = ', round(precision,3))\n",
    "\n",
    "F1 = 2 * recall * precision / (recall + precision)\n",
    "print('F1 = ', round(F1,3))"
   ]
  },
  {
   "cell_type": "code",
   "execution_count": 64,
   "metadata": {
    "execution": {
     "iopub.execute_input": "2021-01-20T18:37:35.375345Z",
     "iopub.status.busy": "2021-01-20T18:37:35.369237Z",
     "iopub.status.idle": "2021-01-20T18:37:35.599838Z",
     "shell.execute_reply": "2021-01-20T18:37:35.599250Z"
    },
    "papermill": {
     "duration": 0.36208,
     "end_time": "2021-01-20T18:37:35.599999",
     "exception": false,
     "start_time": "2021-01-20T18:37:35.237919",
     "status": "completed"
    },
    "tags": []
   },
   "outputs": [
    {
     "data": {
      "image/png": "[encoded data removed]",
      "text/plain": [
       "<Figure size 576x432 with 2 Axes>"
      ]
     },
     "metadata": {},
     "output_type": "display_data"
    }
   ],
   "source": [
    "plot_confusion_matrix(conf_mx, \n",
    "                      normalize    = False,\n",
    "                      target_names = ['Genuine', 'Fraud'],\n",
    "                      title        = \"Confusion Matrix on test\")"
   ]
  },
  {
   "cell_type": "markdown",
   "metadata": {
    "papermill": {
     "duration": 0.126289,
     "end_time": "2021-01-20T18:37:35.853780",
     "exception": false,
     "start_time": "2021-01-20T18:37:35.727491",
     "status": "completed"
    },
    "tags": []
   },
   "source": [
    "\n",
    "### F1 on test: 0.94 with data leakage vs 0.12 without "
   ]
  },
  {
   "cell_type": "markdown",
   "metadata": {
    "papermill": {
     "duration": 0.126896,
     "end_time": "2021-01-20T18:37:36.109115",
     "exception": false,
     "start_time": "2021-01-20T18:37:35.982219",
     "status": "completed"
    },
    "tags": []
   },
   "source": [
    "## <a id='logregadasyn'>1.5 Logistic Regression with ADASYN data</a>"
   ]
  },
  {
   "cell_type": "code",
   "execution_count": 65,
   "metadata": {
    "execution": {
     "iopub.execute_input": "2021-01-20T18:37:36.368172Z",
     "iopub.status.busy": "2021-01-20T18:37:36.367281Z",
     "iopub.status.idle": "2021-01-20T18:37:36.459175Z",
     "shell.execute_reply": "2021-01-20T18:37:36.458381Z"
    },
    "papermill": {
     "duration": 0.225007,
     "end_time": "2021-01-20T18:37:36.459385",
     "exception": false,
     "start_time": "2021-01-20T18:37:36.234378",
     "status": "completed"
    },
    "tags": []
   },
   "outputs": [
    {
     "name": "stdout",
     "output_type": "stream",
     "text": [
      "X_train -  (199364, 31)\n",
      "y_train -  (199364,)\n",
      "X_test -  (85443, 31)\n",
      "y_test -  (85443,)\n"
     ]
    }
   ],
   "source": [
    "# Split BEFORE any oversampling - prevent data leakage\n",
    "\n",
    "X_train, X_test, y_train, y_test = train_test_split(X, y, test_size=0.3, shuffle=True, random_state=0)\n",
    "print(\"X_train - \",X_train.shape)\n",
    "print(\"y_train - \",y_train.shape)\n",
    "print(\"X_test - \",X_test.shape)\n",
    "print(\"y_test - \",y_test.shape)"
   ]
  },
  {
   "cell_type": "code",
   "execution_count": 66,
   "metadata": {
    "execution": {
     "iopub.execute_input": "2021-01-20T18:37:36.758344Z",
     "iopub.status.busy": "2021-01-20T18:37:36.757298Z",
     "iopub.status.idle": "2021-01-20T18:37:39.130658Z",
     "shell.execute_reply": "2021-01-20T18:37:39.129968Z"
    },
    "papermill": {
     "duration": 2.544803,
     "end_time": "2021-01-20T18:37:39.130774",
     "exception": false,
     "start_time": "2021-01-20T18:37:36.585971",
     "status": "completed"
    },
    "tags": []
   },
   "outputs": [
    {
     "name": "stdout",
     "output_type": "stream",
     "text": [
      "Original dataset shape Counter({0: 199019, 1: 345})\n",
      "Resampled dataset shape Counter({1: 199059, 0: 199019})\n",
      "X_train -  (398078, 31)\n",
      "y_train -  (398078,)\n",
      "X_test -  (85443, 31)\n",
      "y_test -  (85443,)\n"
     ]
    }
   ],
   "source": [
    "# Oversampling only on train\n",
    "\n",
    "print('Original dataset shape %s' % Counter(y_train))\n",
    "random_state = 42\n",
    "\n",
    "adasyn = ADASYN(random_state=42)\n",
    "X_res, y_res = adasyn.fit_resample(X_train, y_train)\n",
    "\n",
    "print('Resampled dataset shape %s' % Counter(y_res))\n",
    "\n",
    "X_train = X_res\n",
    "y_train = y_res\n",
    "\n",
    "print(\"X_train - \",X_train.shape)\n",
    "print(\"y_train - \",y_train.shape)\n",
    "print(\"X_test - \",X_test.shape)\n",
    "print(\"y_test - \",y_test.shape)"
   ]
  },
  {
   "cell_type": "code",
   "execution_count": 67,
   "metadata": {
    "execution": {
     "iopub.execute_input": "2021-01-20T18:37:39.392785Z",
     "iopub.status.busy": "2021-01-20T18:37:39.392150Z",
     "iopub.status.idle": "2021-01-20T18:37:44.330624Z",
     "shell.execute_reply": "2021-01-20T18:37:44.331309Z"
    },
    "papermill": {
     "duration": 5.073785,
     "end_time": "2021-01-20T18:37:44.331489",
     "exception": false,
     "start_time": "2021-01-20T18:37:39.257704",
     "status": "completed"
    },
    "tags": []
   },
   "outputs": [],
   "source": [
    "\n",
    "#  ADASYN Sampling with Logistic Regression\n",
    "logreg = LogisticRegression()\n",
    "logreg.fit(X_train, y_train)\n",
    "\n",
    "y_pred = logreg.predict(X_test)"
   ]
  },
  {
   "cell_type": "code",
   "execution_count": 68,
   "metadata": {
    "execution": {
     "iopub.execute_input": "2021-01-20T18:37:44.635921Z",
     "iopub.status.busy": "2021-01-20T18:37:44.635180Z",
     "iopub.status.idle": "2021-01-20T18:37:44.745438Z",
     "shell.execute_reply": "2021-01-20T18:37:44.746253Z"
    },
    "papermill": {
     "duration": 0.251358,
     "end_time": "2021-01-20T18:37:44.746481",
     "exception": false,
     "start_time": "2021-01-20T18:37:44.495123",
     "status": "completed"
    },
    "tags": []
   },
   "outputs": [
    {
     "name": "stdout",
     "output_type": "stream",
     "text": [
      "Accuracy :0.91359\n",
      "AUC : 0.92956\n",
      "Precision : 0.01850\n",
      "Recall : 0.94558\n",
      "F1 : 0.03629\n"
     ]
    }
   ],
   "source": [
    "print('Accuracy :{0:0.5f}'.format(metrics.accuracy_score(y_pred , y_test))) \n",
    "print('AUC : {0:0.5f}'.format(metrics.roc_auc_score(y_test , y_pred)))\n",
    "print('Precision : {0:0.5f}'.format(metrics.precision_score(y_test , y_pred)))\n",
    "print('Recall : {0:0.5f}'.format(metrics.recall_score(y_test , y_pred)))\n",
    "print('F1 : {0:0.5f}'.format(metrics.f1_score(y_test , y_pred)))"
   ]
  },
  {
   "cell_type": "code",
   "execution_count": 69,
   "metadata": {
    "execution": {
     "iopub.execute_input": "2021-01-20T18:37:45.061371Z",
     "iopub.status.busy": "2021-01-20T18:37:45.060319Z",
     "iopub.status.idle": "2021-01-20T18:37:45.192671Z",
     "shell.execute_reply": "2021-01-20T18:37:45.191794Z"
    },
    "papermill": {
     "duration": 0.274326,
     "end_time": "2021-01-20T18:37:45.192800",
     "exception": false,
     "start_time": "2021-01-20T18:37:44.918474",
     "status": "completed"
    },
    "tags": []
   },
   "outputs": [
    {
     "name": "stdout",
     "output_type": "stream",
     "text": [
      "TN:  77921\n",
      "FP:  7375\n",
      "FN:  8\n",
      "TP:  139\n",
      "recall =  0.946 precision =  0.018\n",
      "F1 =  0.036\n"
     ]
    }
   ],
   "source": [
    "conf_mx = metrics.confusion_matrix(y_test,y_pred)\n",
    "\n",
    "TN = conf_mx[0,0]\n",
    "FP = conf_mx[0,1]\n",
    "FN = conf_mx[1,0]\n",
    "TP = conf_mx[1,1]\n",
    "\n",
    "print ('TN: ', TN)\n",
    "print ('FP: ', FP)\n",
    "print ('FN: ', FN)\n",
    "print ('TP: ', TP)\n",
    "\n",
    "recall = TP/(TP+FN)\n",
    "precision = TP/(TP+FP)\n",
    "\n",
    "print ('recall = ', round(recall,3), 'precision = ', round(precision,3))\n",
    "\n",
    "F1 = 2 * recall * precision / (recall + precision)\n",
    "print('F1 = ', round(F1,3))"
   ]
  },
  {
   "cell_type": "code",
   "execution_count": 70,
   "metadata": {
    "execution": {
     "iopub.execute_input": "2021-01-20T18:37:45.461562Z",
     "iopub.status.busy": "2021-01-20T18:37:45.460514Z",
     "iopub.status.idle": "2021-01-20T18:37:45.693930Z",
     "shell.execute_reply": "2021-01-20T18:37:45.693343Z"
    },
    "papermill": {
     "duration": 0.370675,
     "end_time": "2021-01-20T18:37:45.694045",
     "exception": false,
     "start_time": "2021-01-20T18:37:45.323370",
     "status": "completed"
    },
    "tags": []
   },
   "outputs": [
    {
     "data": {
      "image/png": "[encoded data removed]",
      "text/plain": [
       "<Figure size 576x432 with 2 Axes>"
      ]
     },
     "metadata": {},
     "output_type": "display_data"
    }
   ],
   "source": [
    "plot_confusion_matrix(conf_mx, \n",
    "                      normalize    = False,\n",
    "                      target_names = ['Genuine', 'Fraud'],\n",
    "                      title        = \"Confusion Matrix on test\")"
   ]
  },
  {
   "cell_type": "markdown",
   "metadata": {
    "papermill": {
     "duration": 0.132537,
     "end_time": "2021-01-20T18:37:45.960750",
     "exception": false,
     "start_time": "2021-01-20T18:37:45.828213",
     "status": "completed"
    },
    "tags": []
   },
   "source": [
    "### F1 on test: 0.87 with data leakage vs 0.03 without "
   ]
  },
  {
   "cell_type": "markdown",
   "metadata": {
    "papermill": {
     "duration": 0.134123,
     "end_time": "2021-01-20T18:37:46.229966",
     "exception": false,
     "start_time": "2021-01-20T18:37:46.095843",
     "status": "completed"
    },
    "tags": []
   },
   "source": [
    "# <a id='spatial'>Spatial nature of class imbalance</a>\n",
    "\n",
    "I will reduce 29 columns to 2 columns with the help of **Principal Component Analysis** so that I can look at them in a plot! (because to plot graph we need two dimensions)"
   ]
  },
  {
   "cell_type": "code",
   "execution_count": 71,
   "metadata": {
    "execution": {
     "iopub.execute_input": "2021-01-20T18:37:46.504244Z",
     "iopub.status.busy": "2021-01-20T18:37:46.502924Z",
     "iopub.status.idle": "2021-01-20T18:37:46.506239Z",
     "shell.execute_reply": "2021-01-20T18:37:46.505647Z"
    },
    "papermill": {
     "duration": 0.1437,
     "end_time": "2021-01-20T18:37:46.506382",
     "exception": false,
     "start_time": "2021-01-20T18:37:46.362682",
     "status": "completed"
    },
    "tags": []
   },
   "outputs": [],
   "source": [
    "from sklearn.decomposition import PCA"
   ]
  },
  {
   "cell_type": "markdown",
   "metadata": {
    "papermill": {
     "duration": 0.13424,
     "end_time": "2021-01-20T18:37:46.771986",
     "exception": false,
     "start_time": "2021-01-20T18:37:46.637746",
     "status": "completed"
    },
    "tags": []
   },
   "source": [
    "##  <a id='distimbds'>Distribution of balaced dataset</a>\n",
    "\n",
    "Finally, we can create a scatter plot of the dataset and colour the examples for each class a different colour to clearly see the spatial nature of the class imbalance.\n",
    "\n",
    "A scatter plot of the dataset is created showing the large mass of points that belong to the minority class (red) and a small number of points spread out for the minority class (blue). We can see some measure of overlap between the two classes."
   ]
  },
  {
   "cell_type": "code",
   "execution_count": 72,
   "metadata": {
    "execution": {
     "iopub.execute_input": "2021-01-20T18:37:47.056861Z",
     "iopub.status.busy": "2021-01-20T18:37:47.055556Z",
     "iopub.status.idle": "2021-01-20T18:37:47.885561Z",
     "shell.execute_reply": "2021-01-20T18:37:47.884563Z"
    },
    "papermill": {
     "duration": 0.977638,
     "end_time": "2021-01-20T18:37:47.885729",
     "exception": false,
     "start_time": "2021-01-20T18:37:46.908091",
     "status": "completed"
    },
    "tags": []
   },
   "outputs": [],
   "source": [
    "X_reduced_pca_im = PCA(n_components=2, random_state=42).fit_transform(X)"
   ]
  },
  {
   "cell_type": "code",
   "execution_count": 73,
   "metadata": {
    "execution": {
     "iopub.execute_input": "2021-01-20T18:37:48.160780Z",
     "iopub.status.busy": "2021-01-20T18:37:48.160139Z",
     "iopub.status.idle": "2021-01-20T18:38:02.799510Z",
     "shell.execute_reply": "2021-01-20T18:38:02.798853Z"
    },
    "papermill": {
     "duration": 14.781014,
     "end_time": "2021-01-20T18:38:02.799635",
     "exception": false,
     "start_time": "2021-01-20T18:37:48.018621",
     "status": "completed"
    },
    "tags": []
   },
   "outputs": [
    {
     "data": {
      "image/png": "[encoded data removed]",
      "text/plain": [
       "<Figure size 864x576 with 1 Axes>"
      ]
     },
     "metadata": {},
     "output_type": "display_data"
    }
   ],
   "source": [
    "# Generate and plot a synthetic imbalanced classification dataset\n",
    "plt.figure(figsize=(12,8))\n",
    "\n",
    "plt.scatter(X_reduced_pca_im[:,0], X_reduced_pca_im[:,1], c=(y == 0), label='No Fraud', cmap='coolwarm', linewidths=1)\n",
    "plt.scatter(X_reduced_pca_im[:,0], X_reduced_pca_im[:,1], c=(y == 1), label='Fraud', cmap='coolwarm', linewidths=1)\n",
    "\n",
    "plt.title(\"Scatter Plot of Imbalanced Dataset\")\n",
    "plt.legend()\n",
    "plt.show()"
   ]
  },
  {
   "cell_type": "markdown",
   "metadata": {
    "papermill": {
     "duration": 0.132783,
     "end_time": "2021-01-20T18:38:03.066763",
     "exception": false,
     "start_time": "2021-01-20T18:38:02.933980",
     "status": "completed"
    },
    "tags": []
   },
   "source": [
    "# <a id='modelwith'>Building different models with different balanced datasets</a>\n",
    "Let's now try different models , first by creating multiple datasets for undersampled , oversampled and SMOTE sampled"
   ]
  },
  {
   "cell_type": "markdown",
   "metadata": {
    "papermill": {
     "duration": 0.132698,
     "end_time": "2021-01-20T18:38:03.330064",
     "exception": false,
     "start_time": "2021-01-20T18:38:03.197366",
     "status": "completed"
    },
    "tags": []
   },
   "source": [
    "## <a id='usdata'>1. Undersampled Data</a>"
   ]
  },
  {
   "cell_type": "code",
   "execution_count": 74,
   "metadata": {
    "execution": {
     "iopub.execute_input": "2021-01-20T18:38:03.604048Z",
     "iopub.status.busy": "2021-01-20T18:38:03.603284Z",
     "iopub.status.idle": "2021-01-20T18:38:03.777159Z",
     "shell.execute_reply": "2021-01-20T18:38:03.776508Z"
    },
    "papermill": {
     "duration": 0.316329,
     "end_time": "2021-01-20T18:38:03.777295",
     "exception": false,
     "start_time": "2021-01-20T18:38:03.460966",
     "status": "completed"
    },
    "tags": []
   },
   "outputs": [
    {
     "name": "stdout",
     "output_type": "stream",
     "text": [
      "X_train -  (199364, 31)\n",
      "y_train -  (199364,)\n",
      "X_test -  (85443, 31)\n",
      "y_test -  (85443,)\n",
      "--------------------------------------------------\n",
      "X_train_under -  (690, 31)\n",
      "y_train_under -  (690,)\n",
      "X_test_under -  (85443, 31)\n",
      "y_test_under -  (85443,)\n"
     ]
    }
   ],
   "source": [
    "# Split BEFORE any under / oversampling - prevent data leakage\n",
    "\n",
    "X_train, X_test, y_train, y_test = train_test_split(X, y, test_size=0.3, shuffle=True, random_state=0)\n",
    "print(\"X_train - \",X_train.shape)\n",
    "print(\"y_train - \",y_train.shape)\n",
    "print(\"X_test - \",X_test.shape)\n",
    "print(\"y_test - \",y_test.shape)\n",
    "print('-'*50)\n",
    "# Oversampling only on train\n",
    "#print('Original dataset shape %s' % Counter(y_train))\n",
    "random_state = 42\n",
    "\n",
    "rus = RandomUnderSampler(random_state=42)\n",
    "X_res, y_res = rus.fit_resample(X_train, y_train)\n",
    "\n",
    "X_train = X_res\n",
    "y_train = y_res\n",
    "\n",
    "# Slit into train and test datasets\n",
    "X_train_under, X_test_under, y_train_under, y_test_under = X_train, X_test, y_train, y_test\n",
    "\n",
    "print(\"X_train_under - \",X_train_under.shape)\n",
    "print(\"y_train_under - \",y_train_under.shape)\n",
    "print(\"X_test_under - \",X_test_under.shape)\n",
    "print(\"y_test_under - \",y_test_under.shape)"
   ]
  },
  {
   "cell_type": "markdown",
   "metadata": {
    "papermill": {
     "duration": 0.131449,
     "end_time": "2021-01-20T18:38:04.040880",
     "exception": false,
     "start_time": "2021-01-20T18:38:03.909431",
     "status": "completed"
    },
    "tags": []
   },
   "source": [
    "## <a id='osdata'>2. Oversampled Data</a>"
   ]
  },
  {
   "cell_type": "code",
   "execution_count": 75,
   "metadata": {
    "execution": {
     "iopub.execute_input": "2021-01-20T18:38:04.362395Z",
     "iopub.status.busy": "2021-01-20T18:38:04.361499Z",
     "iopub.status.idle": "2021-01-20T18:38:04.974181Z",
     "shell.execute_reply": "2021-01-20T18:38:04.975086Z"
    },
    "papermill": {
     "duration": 0.802048,
     "end_time": "2021-01-20T18:38:04.975318",
     "exception": false,
     "start_time": "2021-01-20T18:38:04.173270",
     "status": "completed"
    },
    "tags": []
   },
   "outputs": [
    {
     "name": "stdout",
     "output_type": "stream",
     "text": [
      "X_train -  (199364, 31)\n",
      "y_train -  (199364,)\n",
      "X_test -  (85443, 31)\n",
      "y_test -  (85443,)\n",
      "--------------------------------------------------\n",
      "Original dataset shape Counter({0: 199019, 1: 345})\n",
      "Resampled dataset shape Counter({0: 199019, 1: 199019})\n",
      "X_train_over -  (398038, 31)\n",
      "y_train_over -  (398038,)\n",
      "X_test_over -  (85443, 31)\n",
      "y_test_over -  (85443,)\n"
     ]
    }
   ],
   "source": [
    "# Split BEFORE any oversampling - prevent data leakage\n",
    "\n",
    "X_train, X_test, y_train, y_test = train_test_split(X, y, test_size=0.3, shuffle=True, random_state=0)\n",
    "print(\"X_train - \",X_train.shape)\n",
    "print(\"y_train - \",y_train.shape)\n",
    "print(\"X_test - \",X_test.shape)\n",
    "print(\"y_test - \",y_test.shape)\n",
    "print('-'*50)\n",
    "# Oversampling only on train\n",
    "print('Original dataset shape %s' % Counter(y_train))\n",
    "random_state = 42\n",
    "\n",
    "ros = RandomOverSampler(random_state=random_state)\n",
    "X_res, y_res = ros.fit_resample(X_train, y_train)\n",
    "\n",
    "print('Resampled dataset shape %s' % Counter(y_res))\n",
    "\n",
    "X_train = X_res\n",
    "y_train = y_res\n",
    "X_train_over, X_test_over, y_train_over, y_test_over = X_train, X_test, y_train, y_test\n",
    "\n",
    "print(\"X_train_over - \",X_train_over.shape)\n",
    "print(\"y_train_over - \",y_train_over.shape)\n",
    "print(\"X_test_over - \",X_test_over.shape)\n",
    "print(\"y_test_over - \",y_test_over.shape)"
   ]
  },
  {
   "cell_type": "markdown",
   "metadata": {
    "papermill": {
     "duration": 0.135132,
     "end_time": "2021-01-20T18:38:05.246910",
     "exception": false,
     "start_time": "2021-01-20T18:38:05.111778",
     "status": "completed"
    },
    "tags": []
   },
   "source": [
    "## <a id='smotedata'>3. SMOTE Data</a>"
   ]
  },
  {
   "cell_type": "code",
   "execution_count": 76,
   "metadata": {
    "execution": {
     "iopub.execute_input": "2021-01-20T18:38:05.524718Z",
     "iopub.status.busy": "2021-01-20T18:38:05.524030Z",
     "iopub.status.idle": "2021-01-20T18:38:06.139602Z",
     "shell.execute_reply": "2021-01-20T18:38:06.138980Z"
    },
    "papermill": {
     "duration": 0.760784,
     "end_time": "2021-01-20T18:38:06.139717",
     "exception": false,
     "start_time": "2021-01-20T18:38:05.378933",
     "status": "completed"
    },
    "tags": []
   },
   "outputs": [
    {
     "name": "stdout",
     "output_type": "stream",
     "text": [
      "X_train -  (199364, 31)\n",
      "y_train -  (199364,)\n",
      "X_test -  (85443, 31)\n",
      "y_test -  (85443,)\n",
      "--------------------------------------------------\n",
      "Original dataset shape Counter({0: 199019, 1: 345})\n",
      "Resampled dataset shape Counter({0: 199019, 1: 199019})\n",
      "X_train_smote -  (398038, 31)\n",
      "y_train_smote -  (398038,)\n",
      "X_test_smote -  (85443, 31)\n",
      "y_test_smote -  (85443,)\n"
     ]
    }
   ],
   "source": [
    "# Split BEFORE any oversampling - prevent data leakage\n",
    "\n",
    "X_train, X_test, y_train, y_test = train_test_split(X, y, test_size=0.3, shuffle=True, random_state=0)\n",
    "print(\"X_train - \",X_train.shape)\n",
    "print(\"y_train - \",y_train.shape)\n",
    "print(\"X_test - \",X_test.shape)\n",
    "print(\"y_test - \",y_test.shape)\n",
    "print('-'*50)\n",
    "# Oversampling only on train\n",
    "print('Original dataset shape %s' % Counter(y_train))\n",
    "random_state = 42\n",
    "\n",
    "smote = SMOTE(random_state=42)\n",
    "X_res, y_res  = smote.fit_resample(X_train, y_train)\n",
    "print('Resampled dataset shape %s' % Counter(y_res))\n",
    "\n",
    "X_train = X_res\n",
    "y_train = y_res\n",
    "X_train_smote, X_test_smote, y_train_smote, y_test_smote = X_train, X_test, y_train, y_test\n",
    "\n",
    "print(\"X_train_smote - \",X_train_smote.shape)\n",
    "print(\"y_train_smote - \",y_train_smote.shape)\n",
    "print(\"X_test_smote - \",X_test_smote.shape)\n",
    "print(\"y_test_smote - \",y_test_smote.shape)"
   ]
  },
  {
   "cell_type": "markdown",
   "metadata": {
    "papermill": {
     "duration": 0.134497,
     "end_time": "2021-01-20T18:38:06.408228",
     "exception": false,
     "start_time": "2021-01-20T18:38:06.273731",
     "status": "completed"
    },
    "tags": []
   },
   "source": [
    "## <a id='adasyndata'>4. ADASYN Data</a>"
   ]
  },
  {
   "cell_type": "code",
   "execution_count": 77,
   "metadata": {
    "execution": {
     "iopub.execute_input": "2021-01-20T18:38:06.688224Z",
     "iopub.status.busy": "2021-01-20T18:38:06.685168Z",
     "iopub.status.idle": "2021-01-20T18:38:09.136791Z",
     "shell.execute_reply": "2021-01-20T18:38:09.136242Z"
    },
    "papermill": {
     "duration": 2.594297,
     "end_time": "2021-01-20T18:38:09.136930",
     "exception": false,
     "start_time": "2021-01-20T18:38:06.542633",
     "status": "completed"
    },
    "tags": []
   },
   "outputs": [
    {
     "name": "stdout",
     "output_type": "stream",
     "text": [
      "X_train -  (199364, 31)\n",
      "y_train -  (199364,)\n",
      "X_test -  (85443, 31)\n",
      "y_test -  (85443,)\n",
      "--------------------------------------------------\n",
      "Original dataset shape Counter({0: 199019, 1: 345})\n",
      "Resampled dataset shape Counter({1: 199059, 0: 199019})\n",
      "X_train_adasyn -  (398078, 31)\n",
      "y_train_adasyn -  (398078,)\n",
      "X_test_adasyn -  (85443, 31)\n",
      "y_test_adasyn -  (85443,)\n"
     ]
    }
   ],
   "source": [
    "# Split BEFORE any oversampling - prevent data leakage\n",
    "\n",
    "X_train, X_test, y_train, y_test = train_test_split(X, y, test_size=0.3, shuffle=True, random_state=0)\n",
    "print(\"X_train - \",X_train.shape)\n",
    "print(\"y_train - \",y_train.shape)\n",
    "print(\"X_test - \",X_test.shape)\n",
    "print(\"y_test - \",y_test.shape)\n",
    "print('-'*50)\n",
    "# Oversampling only on train\n",
    "print('Original dataset shape %s' % Counter(y_train))\n",
    "random_state = 42\n",
    "\n",
    "adasyn = ADASYN(random_state=42)\n",
    "X_res, y_res = adasyn.fit_resample(X_train, y_train)\n",
    "print('Resampled dataset shape %s' % Counter(y_res))\n",
    "\n",
    "X_train = X_res\n",
    "y_train = y_res\n",
    "X_train_adasyn, X_test_adasyn, y_train_adasyn, y_test_adasyn = X_train, X_test, y_train, y_test\n",
    "\n",
    "print(\"X_train_adasyn - \",X_train_adasyn.shape)\n",
    "print(\"y_train_adasyn - \",y_train_adasyn.shape)\n",
    "print(\"X_test_adasyn - \",X_test_adasyn.shape)\n",
    "print(\"y_test_adasyn - \",y_test_adasyn.shape)"
   ]
  },
  {
   "cell_type": "code",
   "execution_count": 78,
   "metadata": {
    "execution": {
     "iopub.execute_input": "2021-01-20T18:38:09.413691Z",
     "iopub.status.busy": "2021-01-20T18:38:09.413034Z",
     "iopub.status.idle": "2021-01-20T18:38:09.418551Z",
     "shell.execute_reply": "2021-01-20T18:38:09.418037Z"
    },
    "papermill": {
     "duration": 0.146209,
     "end_time": "2021-01-20T18:38:09.418660",
     "exception": false,
     "start_time": "2021-01-20T18:38:09.272451",
     "status": "completed"
    },
    "tags": []
   },
   "outputs": [],
   "source": [
    "from sklearn.model_selection import cross_val_score\n",
    "from sklearn.model_selection import StratifiedKFold\n",
    "\n",
    "from sklearn.linear_model import LogisticRegression\n",
    "from sklearn.tree import DecisionTreeClassifier\n",
    "from sklearn.ensemble import RandomForestClassifier\n",
    "from sklearn.svm import SVC\n",
    "from sklearn.neighbors import KNeighborsClassifier\n",
    "from sklearn.naive_bayes import GaussianNB"
   ]
  },
  {
   "cell_type": "markdown",
   "metadata": {
    "papermill": {
     "duration": 0.135392,
     "end_time": "2021-01-20T18:38:09.690048",
     "exception": false,
     "start_time": "2021-01-20T18:38:09.554656",
     "status": "completed"
    },
    "tags": []
   },
   "source": [
    "### Function to create the datasets for under, oversampling and capture their performance"
   ]
  },
  {
   "cell_type": "code",
   "execution_count": 79,
   "metadata": {
    "execution": {
     "iopub.execute_input": "2021-01-20T18:38:09.967230Z",
     "iopub.status.busy": "2021-01-20T18:38:09.966526Z",
     "iopub.status.idle": "2021-01-20T18:38:09.986503Z",
     "shell.execute_reply": "2021-01-20T18:38:09.987077Z"
    },
    "papermill": {
     "duration": 0.161855,
     "end_time": "2021-01-20T18:38:09.987233",
     "exception": false,
     "start_time": "2021-01-20T18:38:09.825378",
     "status": "completed"
    },
    "tags": []
   },
   "outputs": [],
   "source": [
    "names_lst = []\n",
    "\n",
    "# Empty list to capture performance matrix for train set\n",
    "aucs_train_lst = []\n",
    "accuracy_train_lst = []\n",
    "precision_train_lst = []\n",
    "recall_train_lst = []\n",
    "f1_train_lst = []\n",
    "\n",
    "# Empty list to capture performance matrix for test set\n",
    "aucs_test_lst = []\n",
    "accuracy_test_lst = []\n",
    "precision_test_lst = []\n",
    "recall_test_lst = []\n",
    "f1_test_lst = []\n",
    "\n",
    "# Function for model building and performance measure\n",
    "\n",
    "def build_measure_model(models):\n",
    "    #plt.figure(figsize=(12,6))\n",
    "\n",
    "    for name, model, X_train, X_test, y_train, y_test in models:\n",
    "        \n",
    "        names_lst.append(name)\n",
    "\n",
    "        # split data in train test set\n",
    "        X_train, X_test, y_train, y_test = X_train, X_test, y_train, y_test\n",
    "        \n",
    "        # Build model\n",
    "        model.fit(X_train, y_train)\n",
    "        \n",
    "        # Predict\n",
    "        y_train_pred = model.predict(X_train)\n",
    "        y_test_pred = model.predict(X_test)\n",
    "\n",
    "        # calculate accuracy\n",
    "        Accuracy_train = metrics.accuracy_score(y_train, y_train_pred)\n",
    "        accuracy_train_lst.append(Accuracy_train)\n",
    "        \n",
    "        Accuracy_test = metrics.accuracy_score(y_test, y_test_pred)\n",
    "        accuracy_test_lst.append(Accuracy_test)\n",
    "\n",
    "        # calculate auc\n",
    "        Aucs_train = metrics.roc_auc_score(y_train, y_train_pred)\n",
    "        aucs_train_lst.append(Aucs_train)\n",
    "        \n",
    "        Aucs_test = metrics.roc_auc_score(y_test , y_test_pred)\n",
    "        aucs_test_lst.append(Aucs_test)\n",
    "\n",
    "        # calculate precision\n",
    "        PrecisionScore_train = metrics.precision_score(y_train , y_train_pred)\n",
    "        precision_train_lst.append(PrecisionScore_train)\n",
    "        \n",
    "        PrecisionScore_test = metrics.precision_score(y_test , y_test_pred)\n",
    "        precision_test_lst.append(PrecisionScore_test)\n",
    "\n",
    "        # calculate recall\n",
    "        RecallScore_train = metrics.recall_score(y_train , y_train_pred)\n",
    "        recall_train_lst.append(RecallScore_train)\n",
    "        \n",
    "        RecallScore_test = metrics.recall_score(y_test , y_test_pred)\n",
    "        recall_test_lst.append(RecallScore_test)\n",
    "\n",
    "        # calculate f1 score\n",
    "        F1Score_train = metrics.f1_score(y_train , y_train_pred)\n",
    "        f1_train_lst.append(F1Score_train)\n",
    "        \n",
    "        F1Score_test = metrics.f1_score(y_test , y_test_pred)\n",
    "        f1_test_lst.append(F1Score_test)\n",
    "\n",
    "        #print('F1 Score of '+ name +' model : {0:0.5f}'.format(F1Score_test))\n",
    "\n",
    "        # draw confusion matrix\n",
    "        cnf_matrix = metrics.confusion_matrix(y_test , y_test_pred)\n",
    "\n",
    "        print(\"Model Name :\", name)\n",
    "        \n",
    "        #print('Train Accuracy :{0:0.5f}'.format(Accuracy_train)) \n",
    "        print('Test Accuracy :{0:0.5f}'.format(Accuracy_test))\n",
    "        \n",
    "        #print('Train AUC : {0:0.5f}'.format(Aucs_train))\n",
    "        print('Test AUC : {0:0.5f}'.format(Aucs_test))\n",
    "        \n",
    "        #print('Train Precision : {0:0.5f}'.format(PrecisionScore_train))\n",
    "        print('Test Precision : {0:0.5f}'.format(PrecisionScore_test))\n",
    "        \n",
    "        #print('Train Recall : {0:0.5f}'.format(RecallScore_train))\n",
    "        print('Test Recall : {0:0.5f}'.format(RecallScore_test))\n",
    "        \n",
    "        #print('Train F1 : {0:0.5f}'.format(F1Score_train))\n",
    "        print('Test F1 : {0:0.5f}'.format(F1Score_test))\n",
    "        \n",
    "        print('Confusion Matrix : \\n', cnf_matrix)\n",
    "        print(\"\\n\")\n"
   ]
  },
  {
   "cell_type": "markdown",
   "metadata": {
    "papermill": {
     "duration": 0.135668,
     "end_time": "2021-01-20T18:38:10.258738",
     "exception": false,
     "start_time": "2021-01-20T18:38:10.123070",
     "status": "completed"
    },
    "tags": []
   },
   "source": [
    "### Logistic Regression (LR)"
   ]
  },
  {
   "cell_type": "code",
   "execution_count": 80,
   "metadata": {
    "execution": {
     "iopub.execute_input": "2021-01-20T18:38:10.540886Z",
     "iopub.status.busy": "2021-01-20T18:38:10.540114Z",
     "iopub.status.idle": "2021-01-20T18:38:32.403968Z",
     "shell.execute_reply": "2021-01-20T18:38:32.404510Z"
    },
    "papermill": {
     "duration": 22.011153,
     "end_time": "2021-01-20T18:38:32.404672",
     "exception": false,
     "start_time": "2021-01-20T18:38:10.393519",
     "status": "completed"
    },
    "tags": []
   },
   "outputs": [
    {
     "name": "stdout",
     "output_type": "stream",
     "text": [
      "Model Name : LR Undersampling\n",
      "Test Accuracy :0.97285\n",
      "Test AUC : 0.94226\n",
      "Test Precision : 0.05490\n",
      "Test Recall : 0.91156\n",
      "Test F1 : 0.10355\n",
      "Confusion Matrix : \n",
      " [[82989  2307]\n",
      " [   13   134]]\n",
      "\n",
      "\n",
      "Model Name : LR Oversampling\n",
      "Test Accuracy :0.97718\n",
      "Test AUC : 0.94443\n",
      "Test Precision : 0.06470\n",
      "Test Recall : 0.91156\n",
      "Test F1 : 0.12083\n",
      "Confusion Matrix : \n",
      " [[83359  1937]\n",
      " [   13   134]]\n",
      "\n",
      "\n",
      "Model Name : LR SMOTE\n",
      "Test Accuracy :0.97561\n",
      "Test AUC : 0.94704\n",
      "Test Precision : 0.06117\n",
      "Test Recall : 0.91837\n",
      "Test F1 : 0.11470\n",
      "Confusion Matrix : \n",
      " [[83224  2072]\n",
      " [   12   135]]\n",
      "\n",
      "\n",
      "Model Name : LR ADASYN\n",
      "Test Accuracy :0.91364\n",
      "Test AUC : 0.92958\n",
      "Test Precision : 0.01851\n",
      "Test Recall : 0.94558\n",
      "Test F1 : 0.03631\n",
      "Confusion Matrix : \n",
      " [[77925  7371]\n",
      " [    8   139]]\n",
      "\n",
      "\n"
     ]
    }
   ],
   "source": [
    "#------------------ Logistic Regression (LR) ------------------#\n",
    "LRmodels = []\n",
    "\n",
    "#LRmodels.append(('LR imbalance', LogisticRegression(solver='liblinear', multi_class='ovr'),X,y))\n",
    "LRmodels.append(('LR Undersampling', LogisticRegression(solver='liblinear', multi_class='ovr'),X_train_under, X_test_under, y_train_under, y_test_under))\n",
    "LRmodels.append(('LR Oversampling', LogisticRegression(solver='liblinear', multi_class='ovr'),X_train_over, X_test_over, y_train_over, y_test_over))\n",
    "LRmodels.append(('LR SMOTE', LogisticRegression(solver='liblinear', multi_class='ovr'),X_train_smote, X_test_smote, y_train_smote, y_test_smote))\n",
    "LRmodels.append(('LR ADASYN', LogisticRegression(solver='liblinear', multi_class='ovr'),X_train_adasyn, X_test_adasyn, y_train_adasyn, y_test_adasyn))\n",
    "\n",
    "# Call function to create model and measure its performance\n",
    "build_measure_model(LRmodels)"
   ]
  },
  {
   "cell_type": "markdown",
   "metadata": {
    "papermill": {
     "duration": 0.148762,
     "end_time": "2021-01-20T18:38:32.693437",
     "exception": false,
     "start_time": "2021-01-20T18:38:32.544675",
     "status": "completed"
    },
    "tags": []
   },
   "source": [
    "### Decision Tree (DT)"
   ]
  },
  {
   "cell_type": "code",
   "execution_count": 81,
   "metadata": {
    "execution": {
     "iopub.execute_input": "2021-01-20T18:38:32.986053Z",
     "iopub.status.busy": "2021-01-20T18:38:32.985297Z",
     "iopub.status.idle": "2021-01-20T18:40:22.400796Z",
     "shell.execute_reply": "2021-01-20T18:40:22.401691Z"
    },
    "papermill": {
     "duration": 109.568305,
     "end_time": "2021-01-20T18:40:22.401947",
     "exception": false,
     "start_time": "2021-01-20T18:38:32.833642",
     "status": "completed"
    },
    "tags": []
   },
   "outputs": [
    {
     "name": "stdout",
     "output_type": "stream",
     "text": [
      "Model Name : DT Undersampling\n",
      "Test Accuracy :0.90326\n",
      "Test AUC : 0.90061\n",
      "Test Precision : 0.01575\n",
      "Test Recall : 0.89796\n",
      "Test F1 : 0.03095\n",
      "Confusion Matrix : \n",
      " [[77045  8251]\n",
      " [   15   132]]\n",
      "\n",
      "\n",
      "Model Name : DT Oversampling\n",
      "Test Accuracy :0.99920\n",
      "Test AUC : 0.87057\n",
      "Test Precision : 0.78417\n",
      "Test Recall : 0.74150\n",
      "Test F1 : 0.76224\n",
      "Confusion Matrix : \n",
      " [[85266    30]\n",
      " [   38   109]]\n",
      "\n",
      "\n",
      "Model Name : DT SMOTE\n",
      "Test Accuracy :0.99723\n",
      "Test AUC : 0.88656\n",
      "Test Precision : 0.35849\n",
      "Test Recall : 0.77551\n",
      "Test F1 : 0.49032\n",
      "Confusion Matrix : \n",
      " [[85092   204]\n",
      " [   33   114]]\n",
      "\n",
      "\n",
      "Model Name : DT ADASYN\n",
      "Test Accuracy :0.99800\n",
      "Test AUC : 0.85978\n",
      "Test Precision : 0.44915\n",
      "Test Recall : 0.72109\n",
      "Test F1 : 0.55352\n",
      "Confusion Matrix : \n",
      " [[85166   130]\n",
      " [   41   106]]\n",
      "\n",
      "\n"
     ]
    }
   ],
   "source": [
    "#-----------------Decision Tree (DT)------------------#\n",
    "DTmodels = []\n",
    "\n",
    "dt = DecisionTreeClassifier()\n",
    "\n",
    "#DTmodels.append(('DT imbalance', dt,X,y))\n",
    "DTmodels.append(('DT Undersampling', dt, X_train_under, X_test_under, y_train_under, y_test_under))\n",
    "DTmodels.append(('DT Oversampling', dt,X_train_over, X_test_over, y_train_over, y_test_over))\n",
    "DTmodels.append(('DT SMOTE', dt,X_train_smote, X_test_smote, y_train_smote, y_test_smote))\n",
    "DTmodels.append(('DT ADASYN', dt ,X_train_adasyn, X_test_adasyn, y_train_adasyn, y_test_adasyn))\n",
    "\n",
    "# Call function to create model and measure its performance\n",
    "build_measure_model(DTmodels)"
   ]
  },
  {
   "cell_type": "markdown",
   "metadata": {
    "papermill": {
     "duration": 0.137873,
     "end_time": "2021-01-20T18:40:22.679724",
     "exception": false,
     "start_time": "2021-01-20T18:40:22.541851",
     "status": "completed"
    },
    "tags": []
   },
   "source": [
    "### Random Forest (RF)"
   ]
  },
  {
   "cell_type": "code",
   "execution_count": 82,
   "metadata": {
    "execution": {
     "iopub.execute_input": "2021-01-20T18:40:22.965501Z",
     "iopub.status.busy": "2021-01-20T18:40:22.964797Z",
     "iopub.status.idle": "2021-01-20T18:54:54.855060Z",
     "shell.execute_reply": "2021-01-20T18:54:54.855952Z"
    },
    "papermill": {
     "duration": 872.039083,
     "end_time": "2021-01-20T18:54:54.856190",
     "exception": false,
     "start_time": "2021-01-20T18:40:22.817107",
     "status": "completed"
    },
    "tags": []
   },
   "outputs": [
    {
     "name": "stdout",
     "output_type": "stream",
     "text": [
      "Model Name : RF Undersampling\n",
      "Test Accuracy :0.98353\n",
      "Test AUC : 0.93742\n",
      "Test Precision : 0.08607\n",
      "Test Recall : 0.89116\n",
      "Test F1 : 0.15698\n",
      "Confusion Matrix : \n",
      " [[83905  1391]\n",
      " [   16   131]]\n",
      "\n",
      "\n",
      "Model Name : RF Oversampling\n",
      "Test Accuracy :0.99953\n",
      "Test AUC : 0.88432\n",
      "Test Precision : 0.94958\n",
      "Test Recall : 0.76871\n",
      "Test F1 : 0.84962\n",
      "Confusion Matrix : \n",
      " [[85290     6]\n",
      " [   34   113]]\n",
      "\n",
      "\n",
      "Model Name : RF SMOTE\n",
      "Test Accuracy :0.99954\n",
      "Test AUC : 0.90809\n",
      "Test Precision : 0.90909\n",
      "Test Recall : 0.81633\n",
      "Test F1 : 0.86022\n",
      "Confusion Matrix : \n",
      " [[85284    12]\n",
      " [   27   120]]\n",
      "\n",
      "\n",
      "Model Name : RF ADASYN\n",
      "Test Accuracy :0.99954\n",
      "Test AUC : 0.90130\n",
      "Test Precision : 0.92188\n",
      "Test Recall : 0.80272\n",
      "Test F1 : 0.85818\n",
      "Confusion Matrix : \n",
      " [[85286    10]\n",
      " [   29   118]]\n",
      "\n",
      "\n"
     ]
    }
   ],
   "source": [
    "#-----------------Random Forest (RF) ------------------#\n",
    "RFmodels = []\n",
    "\n",
    "#RFmodels.append(('RF imbalance', RandomForestClassifier(),X,y))\n",
    "RFmodels.append(('RF Undersampling', RandomForestClassifier(),X_train_under, X_test_under, y_train_under, y_test_under))\n",
    "RFmodels.append(('RF Oversampling', RandomForestClassifier(),X_train_over, X_test_over, y_train_over, y_test_over))\n",
    "RFmodels.append(('RF SMOTE', RandomForestClassifier(),X_train_smote, X_test_smote, y_train_smote, y_test_smote))\n",
    "RFmodels.append(('RF ADASYN', RandomForestClassifier(),X_train_adasyn, X_test_adasyn, y_train_adasyn, y_test_adasyn))\n",
    "\n",
    "# Call function to create model and measure its performance\n",
    "build_measure_model(RFmodels)"
   ]
  },
  {
   "cell_type": "markdown",
   "metadata": {
    "papermill": {
     "duration": 0.141921,
     "end_time": "2021-01-20T18:54:55.140357",
     "exception": false,
     "start_time": "2021-01-20T18:54:54.998436",
     "status": "completed"
    },
    "tags": []
   },
   "source": [
    "##------------------ K-Nearest Neighbors (KNN) ------------------#\n",
    "\n",
    "KNNmodels = []\n",
    "\n",
    "KNNmodels.append(('KNN Undersampling', KNeighborsClassifier(),X_train_under, X_test_under, y_train_under, y_test_under))\n",
    "KNNmodels.append(('KNN Oversampling', KNeighborsClassifier(),X_train_over, X_test_over, y_train_over, y_test_over))\n",
    "KNNmodels.append(('KNN SMOTE', KNeighborsClassifier(),X_train_smote, X_test_smote, y_train_smote, y_test_smote))\n",
    "KNNmodels.append(('KNN ADASYN', KNeighborsClassifier(),X_train_adasyn, X_test_adasyn, y_train_adasyn, y_test_adasyn))\n",
    "\n",
    "\n",
    "build_measure_model(KNNmodels)"
   ]
  },
  {
   "cell_type": "markdown",
   "metadata": {
    "papermill": {
     "duration": 0.140641,
     "end_time": "2021-01-20T18:54:55.423634",
     "exception": false,
     "start_time": "2021-01-20T18:54:55.282993",
     "status": "completed"
    },
    "tags": []
   },
   "source": [
    "##------------------ Support Vector Machines (SVM) ------------------#\n",
    "\n",
    "SVMmodels = []\n",
    "\n",
    "SVMmodels.append(('SVM imbalance', SVC(gamma='auto'),X,y))\n",
    "SVMmodels.append(('SVM Undersampling', SVC(gamma='auto'),X_under,y_under))\n",
    "SVMmodels.append(('SVM Oversampling', SVC(gamma='auto'),X_over,y_over))\n",
    "SVMmodels.append(('SVM SMOTE', SVC(gamma='auto'),X_smote,y_smote))\n",
    "SVMmodels.append(('SVM ADASYN', SVC(gamma='auto'),X_adasyn,y_adasyn))\n",
    "\n",
    "build_measure_model(SVMmodels)"
   ]
  },
  {
   "cell_type": "code",
   "execution_count": 83,
   "metadata": {
    "execution": {
     "iopub.execute_input": "2021-01-20T18:54:55.723341Z",
     "iopub.status.busy": "2021-01-20T18:54:55.722336Z",
     "iopub.status.idle": "2021-01-20T18:54:55.728441Z",
     "shell.execute_reply": "2021-01-20T18:54:55.727911Z"
    },
    "papermill": {
     "duration": 0.165104,
     "end_time": "2021-01-20T18:54:55.728558",
     "exception": false,
     "start_time": "2021-01-20T18:54:55.563454",
     "status": "completed"
    },
    "tags": []
   },
   "outputs": [
    {
     "name": "stdout",
     "output_type": "stream",
     "text": [
      "Performance measures of various classifiers: \n",
      "\n"
     ]
    },
    {
     "data": {
      "text/html": [
       "<div>\n",
       "<style scoped>\n",
       "    .dataframe tbody tr th:only-of-type {\n",
       "        vertical-align: middle;\n",
       "    }\n",
       "\n",
       "    .dataframe tbody tr th {\n",
       "        vertical-align: top;\n",
       "    }\n",
       "\n",
       "    .dataframe thead th {\n",
       "        text-align: right;\n",
       "    }\n",
       "</style>\n",
       "<table border=\"1\" class=\"dataframe\">\n",
       "  <thead>\n",
       "    <tr style=\"text-align: right;\">\n",
       "      <th></th>\n",
       "      <th>Model</th>\n",
       "      <th>PrecisionScore_Test</th>\n",
       "      <th>RecallScore_Test</th>\n",
       "      <th>F1Score_Test</th>\n",
       "    </tr>\n",
       "  </thead>\n",
       "  <tbody>\n",
       "    <tr>\n",
       "      <th>10</th>\n",
       "      <td>RF SMOTE</td>\n",
       "      <td>0.909091</td>\n",
       "      <td>0.816327</td>\n",
       "      <td>0.860215</td>\n",
       "    </tr>\n",
       "    <tr>\n",
       "      <th>11</th>\n",
       "      <td>RF ADASYN</td>\n",
       "      <td>0.921875</td>\n",
       "      <td>0.802721</td>\n",
       "      <td>0.858182</td>\n",
       "    </tr>\n",
       "    <tr>\n",
       "      <th>9</th>\n",
       "      <td>RF Oversampling</td>\n",
       "      <td>0.949580</td>\n",
       "      <td>0.768707</td>\n",
       "      <td>0.849624</td>\n",
       "    </tr>\n",
       "    <tr>\n",
       "      <th>5</th>\n",
       "      <td>DT Oversampling</td>\n",
       "      <td>0.784173</td>\n",
       "      <td>0.741497</td>\n",
       "      <td>0.762238</td>\n",
       "    </tr>\n",
       "    <tr>\n",
       "      <th>7</th>\n",
       "      <td>DT ADASYN</td>\n",
       "      <td>0.449153</td>\n",
       "      <td>0.721088</td>\n",
       "      <td>0.553525</td>\n",
       "    </tr>\n",
       "    <tr>\n",
       "      <th>6</th>\n",
       "      <td>DT SMOTE</td>\n",
       "      <td>0.358491</td>\n",
       "      <td>0.775510</td>\n",
       "      <td>0.490323</td>\n",
       "    </tr>\n",
       "    <tr>\n",
       "      <th>8</th>\n",
       "      <td>RF Undersampling</td>\n",
       "      <td>0.086071</td>\n",
       "      <td>0.891156</td>\n",
       "      <td>0.156980</td>\n",
       "    </tr>\n",
       "    <tr>\n",
       "      <th>1</th>\n",
       "      <td>LR Oversampling</td>\n",
       "      <td>0.064703</td>\n",
       "      <td>0.911565</td>\n",
       "      <td>0.120830</td>\n",
       "    </tr>\n",
       "    <tr>\n",
       "      <th>2</th>\n",
       "      <td>LR SMOTE</td>\n",
       "      <td>0.061169</td>\n",
       "      <td>0.918367</td>\n",
       "      <td>0.114698</td>\n",
       "    </tr>\n",
       "    <tr>\n",
       "      <th>0</th>\n",
       "      <td>LR Undersampling</td>\n",
       "      <td>0.054896</td>\n",
       "      <td>0.911565</td>\n",
       "      <td>0.103555</td>\n",
       "    </tr>\n",
       "    <tr>\n",
       "      <th>3</th>\n",
       "      <td>LR ADASYN</td>\n",
       "      <td>0.018509</td>\n",
       "      <td>0.945578</td>\n",
       "      <td>0.036307</td>\n",
       "    </tr>\n",
       "    <tr>\n",
       "      <th>4</th>\n",
       "      <td>DT Undersampling</td>\n",
       "      <td>0.015746</td>\n",
       "      <td>0.897959</td>\n",
       "      <td>0.030950</td>\n",
       "    </tr>\n",
       "  </tbody>\n",
       "</table>\n",
       "</div>"
      ],
      "text/plain": [
       "               Model  PrecisionScore_Test  RecallScore_Test  F1Score_Test\n",
       "10          RF SMOTE             0.909091          0.816327      0.860215\n",
       "11         RF ADASYN             0.921875          0.802721      0.858182\n",
       "9    RF Oversampling             0.949580          0.768707      0.849624\n",
       "5    DT Oversampling             0.784173          0.741497      0.762238\n",
       "7          DT ADASYN             0.449153          0.721088      0.553525\n",
       "6           DT SMOTE             0.358491          0.775510      0.490323\n",
       "8   RF Undersampling             0.086071          0.891156      0.156980\n",
       "1    LR Oversampling             0.064703          0.911565      0.120830\n",
       "2           LR SMOTE             0.061169          0.918367      0.114698\n",
       "0   LR Undersampling             0.054896          0.911565      0.103555\n",
       "3          LR ADASYN             0.018509          0.945578      0.036307\n",
       "4   DT Undersampling             0.015746          0.897959      0.030950"
      ]
     },
     "execution_count": 83,
     "metadata": {},
     "output_type": "execute_result"
    }
   ],
   "source": [
    "# Display comparison of the models performance\n",
    "\n",
    "data = {'Model':names_lst,\n",
    "       #'Accuracy_Train':accuracy_train_lst,\n",
    "       #'Accuracy_Test':accuracy_test_lst,\n",
    "       #'AUC_Train':aucs_train_lst,\n",
    "       #'AUC_Test':aucs_test_lst,\n",
    "       #'PrecisionScore_Train':precision_train_lst,\n",
    "       'PrecisionScore_Test':precision_test_lst,\n",
    "       #'RecallScore_Train':recall_train_lst,\n",
    "       'RecallScore_Test':recall_test_lst,\n",
    "       #'F1Score_Train':f1_train_lst,\n",
    "       'F1Score_Test':f1_test_lst}\n",
    "\n",
    "print(\"Performance measures of various classifiers: \\n\")\n",
    "performance_df = pd.DataFrame(data) \n",
    "performance_df.sort_values(['F1Score_Test'],ascending=False)"
   ]
  },
  {
   "cell_type": "markdown",
   "metadata": {
    "papermill": {
     "duration": 0.142813,
     "end_time": "2021-01-20T18:54:56.013760",
     "exception": false,
     "start_time": "2021-01-20T18:54:55.870947",
     "status": "completed"
    },
    "tags": []
   },
   "source": [
    "### NN"
   ]
  },
  {
   "cell_type": "code",
   "execution_count": 84,
   "metadata": {
    "execution": {
     "iopub.execute_input": "2021-01-20T18:54:56.329248Z",
     "iopub.status.busy": "2021-01-20T18:54:56.328513Z",
     "iopub.status.idle": "2021-01-20T18:54:56.420660Z",
     "shell.execute_reply": "2021-01-20T18:54:56.419719Z"
    },
    "papermill": {
     "duration": 0.264347,
     "end_time": "2021-01-20T18:54:56.420818",
     "exception": false,
     "start_time": "2021-01-20T18:54:56.156471",
     "status": "completed"
    },
    "tags": []
   },
   "outputs": [
    {
     "name": "stderr",
     "output_type": "stream",
     "text": [
      "Using TensorFlow backend.\n"
     ]
    }
   ],
   "source": [
    "import tensorflow as tf\n",
    "\n",
    "from keras import models, regularizers, layers, optimizers, losses, metrics\n",
    "from keras.models import Sequential\n",
    "from keras.layers import Dense\n",
    "from keras.utils import np_utils"
   ]
  },
  {
   "cell_type": "code",
   "execution_count": 85,
   "metadata": {
    "execution": {
     "iopub.execute_input": "2021-01-20T18:54:56.748750Z",
     "iopub.status.busy": "2021-01-20T18:54:56.747674Z",
     "iopub.status.idle": "2021-01-20T18:54:56.751196Z",
     "shell.execute_reply": "2021-01-20T18:54:56.750630Z"
    },
    "papermill": {
     "duration": 0.173879,
     "end_time": "2021-01-20T18:54:56.751313",
     "exception": false,
     "start_time": "2021-01-20T18:54:56.577434",
     "status": "completed"
    },
    "tags": []
   },
   "outputs": [],
   "source": [
    "# F1 function as there is none in Keras metrics\n",
    "# https://medium.com/@aakashgoel12/how-to-add-user-defined-function-get-f1-score-in-keras-metrics-3013f979ce0d\n",
    "\n",
    "import keras.backend as K\n",
    "\n",
    "def get_f1(y_true, y_pred): #taken from old keras source code\n",
    "    true_positives = K.sum(K.round(K.clip(y_true * y_pred, 0, 1)))\n",
    "    possible_positives = K.sum(K.round(K.clip(y_true, 0, 1)))\n",
    "    predicted_positives = K.sum(K.round(K.clip(y_pred, 0, 1)))\n",
    "    precision = true_positives / (predicted_positives + K.epsilon())\n",
    "    recall = true_positives / (possible_positives + K.epsilon())\n",
    "    f1_val = 2*(precision*recall)/(precision+recall+K.epsilon())\n",
    "    return f1_val"
   ]
  },
  {
   "cell_type": "code",
   "execution_count": 86,
   "metadata": {
    "execution": {
     "iopub.execute_input": "2021-01-20T18:54:57.057665Z",
     "iopub.status.busy": "2021-01-20T18:54:57.056954Z",
     "iopub.status.idle": "2021-01-20T18:54:57.237400Z",
     "shell.execute_reply": "2021-01-20T18:54:57.236812Z"
    },
    "papermill": {
     "duration": 0.336709,
     "end_time": "2021-01-20T18:54:57.237521",
     "exception": false,
     "start_time": "2021-01-20T18:54:56.900812",
     "status": "completed"
    },
    "tags": []
   },
   "outputs": [
    {
     "name": "stdout",
     "output_type": "stream",
     "text": [
      "Model: \"sequential\"\n",
      "_________________________________________________________________\n",
      "Layer (type)                 Output Shape              Param #   \n",
      "=================================================================\n",
      "dense (Dense)                (None, 2048)              65536     \n",
      "_________________________________________________________________\n",
      "dense_1 (Dense)              (None, 1)                 2049      \n",
      "=================================================================\n",
      "Total params: 67,585\n",
      "Trainable params: 67,585\n",
      "Non-trainable params: 0\n",
      "_________________________________________________________________\n",
      "None\n"
     ]
    }
   ],
   "source": [
    "# NN model\n",
    "\n",
    "model = models.Sequential()\n",
    "model.add(layers.Dense(2048, activation='relu', input_shape=(31,)))\n",
    "#model.add(layers.Dense(2048, activation='relu', kernel_regularizer=regularizers.l2(0.001), input_shape=(30,)))\n",
    "#model.add(layers.BatchNormalization())\n",
    "#model.add(layers.Dense(2048, activation='relu', kernel_regularizer=regularizers.l2(0.001)))\n",
    "#model.add(layers.Dropout(0.5))\n",
    "#model.add(layers.Dense(2048, activation='relu', kernel_regularizer=regularizers.l2(0.001)))\n",
    "#model.add(layers.Dropout(0.5))\n",
    "model.add(layers.Dense(1, activation='sigmoid'))\n",
    "\n",
    "\n",
    "\n",
    "model.compile(optimizer=optimizers.Adam(lr=1e-4), \n",
    "              loss='binary_crossentropy', \n",
    "              metrics=[get_f1])\n",
    "              #metrics=['binary_accuracy'])\n",
    "\n",
    "print(model.summary())"
   ]
  },
  {
   "cell_type": "code",
   "execution_count": 87,
   "metadata": {
    "execution": {
     "iopub.execute_input": "2021-01-20T18:54:57.532539Z",
     "iopub.status.busy": "2021-01-20T18:54:57.531801Z",
     "iopub.status.idle": "2021-01-20T18:54:57.546876Z",
     "shell.execute_reply": "2021-01-20T18:54:57.545964Z"
    },
    "papermill": {
     "duration": 0.162224,
     "end_time": "2021-01-20T18:54:57.547049",
     "exception": false,
     "start_time": "2021-01-20T18:54:57.384825",
     "status": "completed"
    },
    "tags": []
   },
   "outputs": [
    {
     "name": "stdout",
     "output_type": "stream",
     "text": [
      "X_train -  (398038, 31)\n",
      "y_train -  (398038,)\n",
      "X_test -  (85443, 31)\n",
      "y_test -  (85443,)\n"
     ]
    }
   ],
   "source": [
    "# Pick one of the four: under, over, smote or adasyn\n",
    "\n",
    "X_train, y_train, X_test, y_test = X_train_over, y_train_over, X_test_over, y_test_over\n",
    "\n",
    "print(\"X_train - \",X_train.shape)\n",
    "print(\"y_train - \",y_train.shape)\n",
    "print(\"X_test - \",X_test.shape)\n",
    "print(\"y_test - \",y_test.shape)"
   ]
  },
  {
   "cell_type": "code",
   "execution_count": 88,
   "metadata": {
    "execution": {
     "iopub.execute_input": "2021-01-20T18:54:57.848153Z",
     "iopub.status.busy": "2021-01-20T18:54:57.847468Z",
     "iopub.status.idle": "2021-01-20T19:02:03.877081Z",
     "shell.execute_reply": "2021-01-20T19:02:03.878053Z"
    },
    "papermill": {
     "duration": 426.182435,
     "end_time": "2021-01-20T19:02:03.878303",
     "exception": false,
     "start_time": "2021-01-20T18:54:57.695868",
     "status": "completed"
    },
    "tags": []
   },
   "outputs": [
    {
     "name": "stdout",
     "output_type": "stream",
     "text": [
      "Epoch 1/10\n",
      "19902/19902 [==============================] - 42s 2ms/step - loss: 0.0325 - get_f1: 0.9851 - val_loss: 0.0104 - val_get_f1: 1.0000\n",
      "Epoch 2/10\n",
      "19902/19902 [==============================] - 41s 2ms/step - loss: 0.0059 - get_f1: 0.9977 - val_loss: 0.0018 - val_get_f1: 1.0000\n",
      "Epoch 3/10\n",
      "19902/19902 [==============================] - 42s 2ms/step - loss: 0.0036 - get_f1: 0.9983 - val_loss: 0.0021 - val_get_f1: 1.0000\n",
      "Epoch 4/10\n",
      "19902/19902 [==============================] - 42s 2ms/step - loss: 0.0027 - get_f1: 0.9987 - val_loss: 9.5131e-04 - val_get_f1: 1.0000\n",
      "Epoch 5/10\n",
      "19902/19902 [==============================] - 43s 2ms/step - loss: 0.0023 - get_f1: 0.9991 - val_loss: 5.7703e-04 - val_get_f1: 1.0000\n",
      "Epoch 6/10\n",
      "19902/19902 [==============================] - 42s 2ms/step - loss: 0.0019 - get_f1: 0.9990 - val_loss: 0.0013 - val_get_f1: 1.0000\n",
      "Epoch 7/10\n",
      "19902/19902 [==============================] - 42s 2ms/step - loss: 0.0015 - get_f1: 0.9988 - val_loss: 8.0368e-04 - val_get_f1: 1.0000\n",
      "Epoch 8/10\n",
      "19902/19902 [==============================] - 44s 2ms/step - loss: 0.0013 - get_f1: 0.9991 - val_loss: 0.0031 - val_get_f1: 1.0000\n",
      "Epoch 9/10\n",
      "19902/19902 [==============================] - 42s 2ms/step - loss: 0.0011 - get_f1: 0.9991 - val_loss: 5.3207e-04 - val_get_f1: 1.0000\n",
      "Epoch 10/10\n",
      "19902/19902 [==============================] - 42s 2ms/step - loss: 0.0011 - get_f1: 0.9993 - val_loss: 1.8606e-04 - val_get_f1: 1.0000\n"
     ]
    }
   ],
   "source": [
    "# FIT / TRAIN model\n",
    "\n",
    "NumEpochs = 10\n",
    "BatchSize = 16\n",
    "\n",
    "history = model.fit(X_train, y_train, epochs=NumEpochs, batch_size=BatchSize, validation_split = 0.2)"
   ]
  },
  {
   "cell_type": "code",
   "execution_count": 89,
   "metadata": {
    "execution": {
     "iopub.execute_input": "2021-01-20T19:02:08.975695Z",
     "iopub.status.busy": "2021-01-20T19:02:08.974970Z",
     "iopub.status.idle": "2021-01-20T19:02:12.420238Z",
     "shell.execute_reply": "2021-01-20T19:02:12.420742Z"
    },
    "papermill": {
     "duration": 6.024088,
     "end_time": "2021-01-20T19:02:12.420912",
     "exception": false,
     "start_time": "2021-01-20T19:02:06.396824",
     "status": "completed"
    },
    "tags": []
   },
   "outputs": [
    {
     "name": "stdout",
     "output_type": "stream",
     "text": [
      "2671/2671 [==============================] - 3s 1ms/step - loss: 0.0088 - get_f1: 0.0438\n",
      "____________________________________________________________________________________________________\n",
      "Test Loss and Metric (acc or f1)\n",
      "results  [0.008830993436276913, 0.04380381852388382]\n"
     ]
    },
    {
     "data": {
      "text/plain": [
       "dict_keys(['loss', 'get_f1', 'val_loss', 'val_get_f1'])"
      ]
     },
     "execution_count": 89,
     "metadata": {},
     "output_type": "execute_result"
    }
   ],
   "source": [
    "results = model.evaluate(X_test, y_test)\n",
    "print(\"_\"*100)\n",
    "print(\"Test Loss and Metric (acc or f1)\")\n",
    "print(\"results \", results)\n",
    "history_dict = history.history\n",
    "history_dict.keys()"
   ]
  },
  {
   "cell_type": "code",
   "execution_count": 90,
   "metadata": {
    "execution": {
     "iopub.execute_input": "2021-01-20T19:02:17.547036Z",
     "iopub.status.busy": "2021-01-20T19:02:17.545976Z",
     "iopub.status.idle": "2021-01-20T19:02:18.103437Z",
     "shell.execute_reply": "2021-01-20T19:02:18.102728Z"
    },
    "papermill": {
     "duration": 3.112048,
     "end_time": "2021-01-20T19:02:18.103553",
     "exception": false,
     "start_time": "2021-01-20T19:02:14.991505",
     "status": "completed"
    },
    "tags": []
   },
   "outputs": [
    {
     "data": {
      "image/png": "[encoded data removed]",
      "text/plain": [
       "<Figure size 432x288 with 1 Axes>"
      ]
     },
     "metadata": {},
     "output_type": "display_data"
    },
    {
     "data": {
      "image/png": "[encoded data removed]",
      "text/plain": [
       "<Figure size 432x288 with 1 Axes>"
      ]
     },
     "metadata": {},
     "output_type": "display_data"
    }
   ],
   "source": [
    "# Learning curves for F1\n",
    "\n",
    "f1 = history.history['get_f1'] \n",
    "val_f1 = history.history['val_get_f1'] \n",
    "loss = history.history['loss'] \n",
    "val_loss = history.history['val_loss'] \n",
    "epochs = range(1, len(f1) + 1) \n",
    "plt.plot(epochs, f1, 'bo', label='Training f1') \n",
    "plt.plot(epochs, val_f1, 'b', label='Validation f1') \n",
    "plt.title('Training and validation F1') \n",
    "plt.legend() \n",
    "plt.figure() \n",
    "plt.plot(epochs, loss, 'bo', label='Training loss') \n",
    "plt.plot(epochs, val_loss, 'b', label='Validation loss') \n",
    "plt.title('Training and validation loss') \n",
    "plt.legend() \n",
    "plt.show()"
   ]
  },
  {
   "cell_type": "markdown",
   "metadata": {
    "papermill": {
     "duration": 2.556939,
     "end_time": "2021-01-20T19:02:23.237196",
     "exception": false,
     "start_time": "2021-01-20T19:02:20.680257",
     "status": "completed"
    },
    "tags": []
   },
   "source": [
    "\n",
    "plt.clf()\n",
    "history_dict = history.history\n",
    "loss_values = history_dict['loss']\n",
    "val_loss_values = history_dict['val_loss']\n",
    "epochs = range(1, (len(history_dict['loss']) + 1))\n",
    "plt.plot(epochs, loss_values, 'bo', label='Training loss')\n",
    "plt.plot(epochs, val_loss_values, 'r', label='Validation loss')\n",
    "plt.title('Training and validation loss')\n",
    "plt.xlabel('Epochs')\n",
    "plt.ylabel('Loss')\n",
    "plt.legend()\n",
    "plt.show()\n",
    "\n",
    "# VALIDATION ACCURACY curves\n",
    "\n",
    "plt.clf()\n",
    "acc_values = history_dict['binary_accuracy']\n",
    "val_acc_values = history_dict['val_binary_accuracy']\n",
    "epochs = range(1, (len(history_dict['binary_accuracy']) + 1))\n",
    "plt.plot(epochs, acc_values, 'bo', label='Training acc')\n",
    "plt.plot(epochs, val_acc_values, 'r', label='Validation acc')\n",
    "plt.title('Training and validation accuracy')\n",
    "plt.xlabel('Epochs')\n",
    "plt.ylabel('Accuracy')\n",
    "plt.legend()\n",
    "plt.show()"
   ]
  },
  {
   "cell_type": "code",
   "execution_count": 91,
   "metadata": {
    "execution": {
     "iopub.execute_input": "2021-01-20T19:02:28.399889Z",
     "iopub.status.busy": "2021-01-20T19:02:28.398968Z",
     "iopub.status.idle": "2021-01-20T19:02:30.747192Z",
     "shell.execute_reply": "2021-01-20T19:02:30.747667Z"
    },
    "papermill": {
     "duration": 4.947165,
     "end_time": "2021-01-20T19:02:30.747813",
     "exception": false,
     "start_time": "2021-01-20T19:02:25.800648",
     "status": "completed"
    },
    "tags": []
   },
   "outputs": [
    {
     "data": {
      "text/plain": [
       "(85443, 1)"
      ]
     },
     "execution_count": 91,
     "metadata": {},
     "output_type": "execute_result"
    }
   ],
   "source": [
    "# Final Fit / Predict\n",
    "# NOTE final_predictions is a list of probabilities\n",
    "\n",
    "final_predictions = model.predict(X_test)\n",
    "final_predictions.shape"
   ]
  },
  {
   "cell_type": "code",
   "execution_count": 92,
   "metadata": {
    "execution": {
     "iopub.execute_input": "2021-01-20T19:02:35.939175Z",
     "iopub.status.busy": "2021-01-20T19:02:35.937949Z",
     "iopub.status.idle": "2021-01-20T19:02:35.943881Z",
     "shell.execute_reply": "2021-01-20T19:02:35.943318Z"
    },
    "papermill": {
     "duration": 2.650713,
     "end_time": "2021-01-20T19:02:35.944028",
     "exception": false,
     "start_time": "2021-01-20T19:02:33.293315",
     "status": "completed"
    },
    "tags": []
   },
   "outputs": [],
   "source": [
    "# Modify the raw final_predictions - prediction probs into 0 and 1\n",
    "\n",
    "Preds = final_predictions.copy()\n",
    "#print(len(Preds))\n",
    "#print(Preds)\n",
    "Preds[ np.where( Preds >= 0.5 ) ] = 1\n",
    "Preds[ np.where( Preds < 0.5 ) ] = 0"
   ]
  },
  {
   "cell_type": "code",
   "execution_count": 93,
   "metadata": {
    "execution": {
     "iopub.execute_input": "2021-01-20T19:02:41.106986Z",
     "iopub.status.busy": "2021-01-20T19:02:41.105841Z",
     "iopub.status.idle": "2021-01-20T19:02:41.545386Z",
     "shell.execute_reply": "2021-01-20T19:02:41.545950Z"
    },
    "papermill": {
     "duration": 3.067454,
     "end_time": "2021-01-20T19:02:41.546111",
     "exception": false,
     "start_time": "2021-01-20T19:02:38.478657",
     "status": "completed"
    },
    "tags": []
   },
   "outputs": [
    {
     "name": "stdout",
     "output_type": "stream",
     "text": [
      "TN:  85259\n",
      "FP:  37\n",
      "FN:  26\n",
      "TP:  121\n",
      "0.8231292517006803 0.7658227848101266\n"
     ]
    }
   ],
   "source": [
    "# Confusion matrix\n",
    "\n",
    "from sklearn import metrics\n",
    "conf_mx = metrics.confusion_matrix(y_test, Preds)\n",
    "\n",
    "TN = conf_mx[0,0]\n",
    "FP = conf_mx[0,1]\n",
    "FN = conf_mx[1,0]\n",
    "TP = conf_mx[1,1]\n",
    "\n",
    "print ('TN: ', TN)\n",
    "print ('FP: ', FP)\n",
    "print ('FN: ', FN)\n",
    "print ('TP: ', TP)\n",
    "\n",
    "recall = TP/(TP+FN)\n",
    "precision = TP/(TP+FP)\n",
    "\n",
    "print (recall, precision)"
   ]
  },
  {
   "cell_type": "code",
   "execution_count": 94,
   "metadata": {
    "execution": {
     "iopub.execute_input": "2021-01-20T19:02:46.795947Z",
     "iopub.status.busy": "2021-01-20T19:02:46.794872Z",
     "iopub.status.idle": "2021-01-20T19:02:47.028314Z",
     "shell.execute_reply": "2021-01-20T19:02:47.028834Z"
    },
    "papermill": {
     "duration": 2.911503,
     "end_time": "2021-01-20T19:02:47.028997",
     "exception": false,
     "start_time": "2021-01-20T19:02:44.117494",
     "status": "completed"
    },
    "tags": []
   },
   "outputs": [
    {
     "data": {
      "image/png": "[encoded data removed]",
      "text/plain": [
       "<Figure size 576x432 with 2 Axes>"
      ]
     },
     "metadata": {},
     "output_type": "display_data"
    }
   ],
   "source": [
    "plot_confusion_matrix(conf_mx, \n",
    "                      normalize    = False,\n",
    "                      target_names = ['Genuine', 'Fraud'],\n",
    "                      title        = \"Confusion Matrix on test\")"
   ]
  },
  {
   "cell_type": "code",
   "execution_count": 95,
   "metadata": {
    "execution": {
     "iopub.execute_input": "2021-01-20T19:02:52.156454Z",
     "iopub.status.busy": "2021-01-20T19:02:52.155770Z",
     "iopub.status.idle": "2021-01-20T19:02:52.257861Z",
     "shell.execute_reply": "2021-01-20T19:02:52.257283Z"
    },
    "papermill": {
     "duration": 2.66012,
     "end_time": "2021-01-20T19:02:52.257991",
     "exception": false,
     "start_time": "2021-01-20T19:02:49.597871",
     "status": "completed"
    },
    "tags": []
   },
   "outputs": [
    {
     "name": "stdout",
     "output_type": "stream",
     "text": [
      "precision  0.7658227848101266\n",
      "recall  0.8231292517006803\n",
      "accuracy  0.9992626663389628\n",
      "F1 score  0.7934426229508198\n"
     ]
    }
   ],
   "source": [
    "print ('precision ',precision_score(y_test, Preds))\n",
    "print ('recall ',recall_score(y_test, Preds) )\n",
    "print ('accuracy ',accuracy_score(y_test, Preds))\n",
    "print ('F1 score ',f1_score(y_test, Preds))"
   ]
  },
  {
   "cell_type": "markdown",
   "metadata": {
    "papermill": {
     "duration": 2.565558,
     "end_time": "2021-01-20T19:02:57.442130",
     "exception": false,
     "start_time": "2021-01-20T19:02:54.876572",
     "status": "completed"
    },
    "tags": []
   },
   "source": [
    "### Optimizing on accuracy:\n",
    "\n",
    "* NN - under ... F1 = 0.17\n",
    "* NN - smote ... F1 = 0.76\n",
    "\n",
    "\n",
    "\n",
    "### Optimizing on F1:\n",
    "\n",
    "* NN - over ... F1 = 0.82\n",
    "* NN - smote ... F1 = 0.81\n",
    "* NN - adasyn ... F1 = 0.79\n",
    "\n"
   ]
  }
 ],
 "metadata": {
  "kernelspec": {
   "display_name": "Python 3",
   "language": "python",
   "name": "python3"
  },
  "language_info": {
   "codemirror_mode": {
    "name": "ipython",
    "version": 3
   },
   "file_extension": ".py",
   "mimetype": "text/x-python",
   "name": "python",
   "nbconvert_exporter": "python",
   "pygments_lexer": "ipython3",
   "version": "3.7.3"
  },
  "papermill": {
   "duration": 1593.838162,
   "end_time": "2021-01-20T19:03:00.088730",
   "environment_variables": {},
   "exception": null,
   "input_path": "__notebook__.ipynb",
   "output_path": "__notebook__.ipynb",
   "parameters": {},
   "start_time": "2021-01-20T18:36:26.250568",
   "version": "2.1.0"
  }
 },
 "nbformat": 4,
 "nbformat_minor": 4
}
